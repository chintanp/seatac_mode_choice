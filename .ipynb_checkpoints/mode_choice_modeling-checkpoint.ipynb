{
 "cells": [
  {
   "cell_type": "code",
   "execution_count": 2,
   "metadata": {
    "colab": {
     "base_uri": "https://localhost:8080/",
     "height": 36
    },
    "colab_type": "code",
    "executionInfo": {
     "elapsed": 2399,
     "status": "ok",
     "timestamp": 1559859392046,
     "user": {
      "displayName": "Chintan Pathak",
      "photoUrl": "",
      "userId": "09819362054117733071"
     },
     "user_tz": 420
    },
    "id": "MjuwD15C3MFc",
    "outputId": "f30fbc7a-434c-44e9-f697-f6716e8514df"
   },
   "outputs": [
    {
     "name": "stderr",
     "output_type": "stream",
     "text": [
      "Using TensorFlow backend.\n"
     ]
    }
   ],
   "source": [
    "# All the imports\n",
    "import pandas as pd\n",
    "import datetime\n",
    "from dateutil.parser import parse\n",
    "import numpy as np\n",
    "from scipy import stats\n",
    "import seaborn as sns\n",
    "import matplotlib.pyplot as plt\n",
    "from sklearn.linear_model import LogisticRegression\n",
    "from sklearn.model_selection import train_test_split\n",
    "from sklearn import linear_model\n",
    "from sklearn.preprocessing import MinMaxScaler\n",
    "from sklearn.svm import SVC\n",
    "from sklearn.ensemble import RandomForestClassifier\n",
    "from sklearn.ensemble import GradientBoostingClassifier\n",
    "from sklearn import tree\n",
    "from keras.models import Sequential\n",
    "from keras.layers import Dense\n",
    "from keras.wrappers.scikit_learn import KerasClassifier\n",
    "from keras.utils import np_utils\n",
    "from sklearn.model_selection import cross_val_score\n",
    "from sklearn.model_selection import KFold\n",
    "from sklearn.preprocessing import LabelEncoder\n",
    "from sklearn.pipeline import Pipeline"
   ]
  },
  {
   "cell_type": "code",
   "execution_count": 3,
   "metadata": {
    "colab": {
     "base_uri": "https://localhost:8080/",
     "height": 333
    },
    "colab_type": "code",
    "executionInfo": {
     "elapsed": 502,
     "status": "error",
     "timestamp": 1559859398391,
     "user": {
      "displayName": "Chintan Pathak",
      "photoUrl": "",
      "userId": "09819362054117733071"
     },
     "user_tz": 420
    },
    "id": "0hY_CSHG3MFs",
    "outputId": "dfb3254f-532b-40b0-daa0-2efcb69cb5ea"
   },
   "outputs": [
    {
     "ename": "FileNotFoundError",
     "evalue": "ignored",
     "output_type": "error",
     "traceback": [
      "\u001b[0;31m---------------------------------------------------------------------------\u001b[0m",
      "\u001b[0;31mFileNotFoundError\u001b[0m                         Traceback (most recent call last)",
      "\u001b[0;32m<ipython-input-3-d6197472a659>\u001b[0m in \u001b[0;36m<module>\u001b[0;34m()\u001b[0m\n\u001b[0;32m----> 1\u001b[0;31m \u001b[0mmode_choice_data\u001b[0m \u001b[0;34m=\u001b[0m \u001b[0mpd\u001b[0m\u001b[0;34m.\u001b[0m\u001b[0mread_excel\u001b[0m\u001b[0;34m(\u001b[0m\u001b[0;34m\"Enplaning Pax Master Survey results.xlsx\"\u001b[0m\u001b[0;34m,\u001b[0m \u001b[0msheet_name\u001b[0m\u001b[0;34m=\u001b[0m\u001b[0;34m\"Combined Cleaned\"\u001b[0m\u001b[0;34m)\u001b[0m\u001b[0;34m\u001b[0m\u001b[0;34m\u001b[0m\u001b[0m\n\u001b[0m",
      "\u001b[0;32m/usr/local/lib/python3.6/dist-packages/pandas/util/_decorators.py\u001b[0m in \u001b[0;36mwrapper\u001b[0;34m(*args, **kwargs)\u001b[0m\n\u001b[1;32m    186\u001b[0m                 \u001b[0;32melse\u001b[0m\u001b[0;34m:\u001b[0m\u001b[0;34m\u001b[0m\u001b[0;34m\u001b[0m\u001b[0m\n\u001b[1;32m    187\u001b[0m                     \u001b[0mkwargs\u001b[0m\u001b[0;34m[\u001b[0m\u001b[0mnew_arg_name\u001b[0m\u001b[0;34m]\u001b[0m \u001b[0;34m=\u001b[0m \u001b[0mnew_arg_value\u001b[0m\u001b[0;34m\u001b[0m\u001b[0;34m\u001b[0m\u001b[0m\n\u001b[0;32m--> 188\u001b[0;31m             \u001b[0;32mreturn\u001b[0m \u001b[0mfunc\u001b[0m\u001b[0;34m(\u001b[0m\u001b[0;34m*\u001b[0m\u001b[0margs\u001b[0m\u001b[0;34m,\u001b[0m \u001b[0;34m**\u001b[0m\u001b[0mkwargs\u001b[0m\u001b[0;34m)\u001b[0m\u001b[0;34m\u001b[0m\u001b[0;34m\u001b[0m\u001b[0m\n\u001b[0m\u001b[1;32m    189\u001b[0m         \u001b[0;32mreturn\u001b[0m \u001b[0mwrapper\u001b[0m\u001b[0;34m\u001b[0m\u001b[0;34m\u001b[0m\u001b[0m\n\u001b[1;32m    190\u001b[0m     \u001b[0;32mreturn\u001b[0m \u001b[0m_deprecate_kwarg\u001b[0m\u001b[0;34m\u001b[0m\u001b[0;34m\u001b[0m\u001b[0m\n",
      "\u001b[0;32m/usr/local/lib/python3.6/dist-packages/pandas/util/_decorators.py\u001b[0m in \u001b[0;36mwrapper\u001b[0;34m(*args, **kwargs)\u001b[0m\n\u001b[1;32m    186\u001b[0m                 \u001b[0;32melse\u001b[0m\u001b[0;34m:\u001b[0m\u001b[0;34m\u001b[0m\u001b[0;34m\u001b[0m\u001b[0m\n\u001b[1;32m    187\u001b[0m                     \u001b[0mkwargs\u001b[0m\u001b[0;34m[\u001b[0m\u001b[0mnew_arg_name\u001b[0m\u001b[0;34m]\u001b[0m \u001b[0;34m=\u001b[0m \u001b[0mnew_arg_value\u001b[0m\u001b[0;34m\u001b[0m\u001b[0;34m\u001b[0m\u001b[0m\n\u001b[0;32m--> 188\u001b[0;31m             \u001b[0;32mreturn\u001b[0m \u001b[0mfunc\u001b[0m\u001b[0;34m(\u001b[0m\u001b[0;34m*\u001b[0m\u001b[0margs\u001b[0m\u001b[0;34m,\u001b[0m \u001b[0;34m**\u001b[0m\u001b[0mkwargs\u001b[0m\u001b[0;34m)\u001b[0m\u001b[0;34m\u001b[0m\u001b[0;34m\u001b[0m\u001b[0m\n\u001b[0m\u001b[1;32m    189\u001b[0m         \u001b[0;32mreturn\u001b[0m \u001b[0mwrapper\u001b[0m\u001b[0;34m\u001b[0m\u001b[0;34m\u001b[0m\u001b[0m\n\u001b[1;32m    190\u001b[0m     \u001b[0;32mreturn\u001b[0m \u001b[0m_deprecate_kwarg\u001b[0m\u001b[0;34m\u001b[0m\u001b[0;34m\u001b[0m\u001b[0m\n",
      "\u001b[0;32m/usr/local/lib/python3.6/dist-packages/pandas/io/excel.py\u001b[0m in \u001b[0;36mread_excel\u001b[0;34m(io, sheet_name, header, names, index_col, parse_cols, usecols, squeeze, dtype, engine, converters, true_values, false_values, skiprows, nrows, na_values, keep_default_na, verbose, parse_dates, date_parser, thousands, comment, skip_footer, skipfooter, convert_float, mangle_dupe_cols, **kwds)\u001b[0m\n\u001b[1;32m    348\u001b[0m \u001b[0;34m\u001b[0m\u001b[0m\n\u001b[1;32m    349\u001b[0m     \u001b[0;32mif\u001b[0m \u001b[0;32mnot\u001b[0m \u001b[0misinstance\u001b[0m\u001b[0;34m(\u001b[0m\u001b[0mio\u001b[0m\u001b[0;34m,\u001b[0m \u001b[0mExcelFile\u001b[0m\u001b[0;34m)\u001b[0m\u001b[0;34m:\u001b[0m\u001b[0;34m\u001b[0m\u001b[0;34m\u001b[0m\u001b[0m\n\u001b[0;32m--> 350\u001b[0;31m         \u001b[0mio\u001b[0m \u001b[0;34m=\u001b[0m \u001b[0mExcelFile\u001b[0m\u001b[0;34m(\u001b[0m\u001b[0mio\u001b[0m\u001b[0;34m,\u001b[0m \u001b[0mengine\u001b[0m\u001b[0;34m=\u001b[0m\u001b[0mengine\u001b[0m\u001b[0;34m)\u001b[0m\u001b[0;34m\u001b[0m\u001b[0;34m\u001b[0m\u001b[0m\n\u001b[0m\u001b[1;32m    351\u001b[0m \u001b[0;34m\u001b[0m\u001b[0m\n\u001b[1;32m    352\u001b[0m     return io.parse(\n",
      "\u001b[0;32m/usr/local/lib/python3.6/dist-packages/pandas/io/excel.py\u001b[0m in \u001b[0;36m__init__\u001b[0;34m(self, io, engine)\u001b[0m\n\u001b[1;32m    651\u001b[0m         \u001b[0mself\u001b[0m\u001b[0;34m.\u001b[0m\u001b[0m_io\u001b[0m \u001b[0;34m=\u001b[0m \u001b[0m_stringify_path\u001b[0m\u001b[0;34m(\u001b[0m\u001b[0mio\u001b[0m\u001b[0;34m)\u001b[0m\u001b[0;34m\u001b[0m\u001b[0;34m\u001b[0m\u001b[0m\n\u001b[1;32m    652\u001b[0m \u001b[0;34m\u001b[0m\u001b[0m\n\u001b[0;32m--> 653\u001b[0;31m         \u001b[0mself\u001b[0m\u001b[0;34m.\u001b[0m\u001b[0m_reader\u001b[0m \u001b[0;34m=\u001b[0m \u001b[0mself\u001b[0m\u001b[0;34m.\u001b[0m\u001b[0m_engines\u001b[0m\u001b[0;34m[\u001b[0m\u001b[0mengine\u001b[0m\u001b[0;34m]\u001b[0m\u001b[0;34m(\u001b[0m\u001b[0mself\u001b[0m\u001b[0;34m.\u001b[0m\u001b[0m_io\u001b[0m\u001b[0;34m)\u001b[0m\u001b[0;34m\u001b[0m\u001b[0;34m\u001b[0m\u001b[0m\n\u001b[0m\u001b[1;32m    654\u001b[0m \u001b[0;34m\u001b[0m\u001b[0m\n\u001b[1;32m    655\u001b[0m     \u001b[0;32mdef\u001b[0m \u001b[0m__fspath__\u001b[0m\u001b[0;34m(\u001b[0m\u001b[0mself\u001b[0m\u001b[0;34m)\u001b[0m\u001b[0;34m:\u001b[0m\u001b[0;34m\u001b[0m\u001b[0;34m\u001b[0m\u001b[0m\n",
      "\u001b[0;32m/usr/local/lib/python3.6/dist-packages/pandas/io/excel.py\u001b[0m in \u001b[0;36m__init__\u001b[0;34m(self, filepath_or_buffer)\u001b[0m\n\u001b[1;32m    422\u001b[0m             \u001b[0mself\u001b[0m\u001b[0;34m.\u001b[0m\u001b[0mbook\u001b[0m \u001b[0;34m=\u001b[0m \u001b[0mxlrd\u001b[0m\u001b[0;34m.\u001b[0m\u001b[0mopen_workbook\u001b[0m\u001b[0;34m(\u001b[0m\u001b[0mfile_contents\u001b[0m\u001b[0;34m=\u001b[0m\u001b[0mdata\u001b[0m\u001b[0;34m)\u001b[0m\u001b[0;34m\u001b[0m\u001b[0;34m\u001b[0m\u001b[0m\n\u001b[1;32m    423\u001b[0m         \u001b[0;32melif\u001b[0m \u001b[0misinstance\u001b[0m\u001b[0;34m(\u001b[0m\u001b[0mfilepath_or_buffer\u001b[0m\u001b[0;34m,\u001b[0m \u001b[0mcompat\u001b[0m\u001b[0;34m.\u001b[0m\u001b[0mstring_types\u001b[0m\u001b[0;34m)\u001b[0m\u001b[0;34m:\u001b[0m\u001b[0;34m\u001b[0m\u001b[0;34m\u001b[0m\u001b[0m\n\u001b[0;32m--> 424\u001b[0;31m             \u001b[0mself\u001b[0m\u001b[0;34m.\u001b[0m\u001b[0mbook\u001b[0m \u001b[0;34m=\u001b[0m \u001b[0mxlrd\u001b[0m\u001b[0;34m.\u001b[0m\u001b[0mopen_workbook\u001b[0m\u001b[0;34m(\u001b[0m\u001b[0mfilepath_or_buffer\u001b[0m\u001b[0;34m)\u001b[0m\u001b[0;34m\u001b[0m\u001b[0;34m\u001b[0m\u001b[0m\n\u001b[0m\u001b[1;32m    425\u001b[0m         \u001b[0;32melse\u001b[0m\u001b[0;34m:\u001b[0m\u001b[0;34m\u001b[0m\u001b[0;34m\u001b[0m\u001b[0m\n\u001b[1;32m    426\u001b[0m             raise ValueError('Must explicitly set engine if not passing in'\n",
      "\u001b[0;32m/usr/local/lib/python3.6/dist-packages/xlrd/__init__.py\u001b[0m in \u001b[0;36mopen_workbook\u001b[0;34m(filename, logfile, verbosity, use_mmap, file_contents, encoding_override, formatting_info, on_demand, ragged_rows)\u001b[0m\n\u001b[1;32m    114\u001b[0m         \u001b[0mpeek\u001b[0m \u001b[0;34m=\u001b[0m \u001b[0mfile_contents\u001b[0m\u001b[0;34m[\u001b[0m\u001b[0;34m:\u001b[0m\u001b[0mpeeksz\u001b[0m\u001b[0;34m]\u001b[0m\u001b[0;34m\u001b[0m\u001b[0;34m\u001b[0m\u001b[0m\n\u001b[1;32m    115\u001b[0m     \u001b[0;32melse\u001b[0m\u001b[0;34m:\u001b[0m\u001b[0;34m\u001b[0m\u001b[0;34m\u001b[0m\u001b[0m\n\u001b[0;32m--> 116\u001b[0;31m         \u001b[0;32mwith\u001b[0m \u001b[0mopen\u001b[0m\u001b[0;34m(\u001b[0m\u001b[0mfilename\u001b[0m\u001b[0;34m,\u001b[0m \u001b[0;34m\"rb\"\u001b[0m\u001b[0;34m)\u001b[0m \u001b[0;32mas\u001b[0m \u001b[0mf\u001b[0m\u001b[0;34m:\u001b[0m\u001b[0;34m\u001b[0m\u001b[0;34m\u001b[0m\u001b[0m\n\u001b[0m\u001b[1;32m    117\u001b[0m             \u001b[0mpeek\u001b[0m \u001b[0;34m=\u001b[0m \u001b[0mf\u001b[0m\u001b[0;34m.\u001b[0m\u001b[0mread\u001b[0m\u001b[0;34m(\u001b[0m\u001b[0mpeeksz\u001b[0m\u001b[0;34m)\u001b[0m\u001b[0;34m\u001b[0m\u001b[0;34m\u001b[0m\u001b[0m\n\u001b[1;32m    118\u001b[0m     \u001b[0;32mif\u001b[0m \u001b[0mpeek\u001b[0m \u001b[0;34m==\u001b[0m \u001b[0;34mb\"PK\\x03\\x04\"\u001b[0m\u001b[0;34m:\u001b[0m \u001b[0;31m# a ZIP file\u001b[0m\u001b[0;34m\u001b[0m\u001b[0;34m\u001b[0m\u001b[0m\n",
      "\u001b[0;31mFileNotFoundError\u001b[0m: [Errno 2] No such file or directory: 'Enplaning Pax Master Survey results.xlsx'"
     ]
    }
   ],
   "source": [
    "# Read the data from the enplaning passenger survey data\n",
    "mode_choice_data = pd.read_excel(\"Enplaning Pax Master Survey results.xlsx\", sheet_name=\"Combined Cleaned\")"
   ]
  },
  {
   "cell_type": "markdown",
   "metadata": {
    "colab_type": "text",
    "id": "1LqjzsKN3MFz"
   },
   "source": [
    "## Data Cleaning"
   ]
  },
  {
   "cell_type": "code",
   "execution_count": null,
   "metadata": {
    "colab": {},
    "colab_type": "code",
    "id": "vXh3Wbxp3MF1"
   },
   "outputs": [],
   "source": [
    "# What does the df contain?\n",
    "#mode_choice_data.info()"
   ]
  },
  {
   "cell_type": "code",
   "execution_count": null,
   "metadata": {
    "colab": {},
    "colab_type": "code",
    "id": "q7Ahxjg_3MF7"
   },
   "outputs": [],
   "source": [
    "# Select columns that are useful \n",
    "mode_choice_data = mode_choice_data[['Surveyed Date', 'Airline', 'What is the scheduled departure time?', \n",
    "                                     'Is this a connecting flight?', 'How did you travel to the airport today? (Please select the single best answer)', \n",
    "                                     'How did you arrive by private vehicle?', 'How did you arrive by rental vehicle?', \n",
    "                                     'Did you travel to Sea-Tac Airport today by...', 'Did your immediate travel party check any bags here at Sea-Tac Airport?', \n",
    "                                     'How many bags did your immediate travel party check?', 'Is your trip today mainly for business?', \n",
    "                                     'How many carry-on items is your immediate travel party carrying on the plane?', 'Are you?', 'What year were you born?', \n",
    "                                    'What was your total annual household income before taxes in 2016?']]"
   ]
  },
  {
   "cell_type": "code",
   "execution_count": null,
   "metadata": {
    "colab": {},
    "colab_type": "code",
    "id": "VXm3KDS_3MGA",
    "outputId": "8c9242b8-7107-4aba-c351-4b11570e7cff"
   },
   "outputs": [
    {
     "name": "stdout",
     "output_type": "stream",
     "text": [
      "<class 'pandas.core.frame.DataFrame'>\n",
      "RangeIndex: 10688 entries, 0 to 10687\n",
      "Data columns (total 15 columns):\n",
      "Surveyed Date                                                                      10688 non-null object\n",
      "Airline                                                                            10674 non-null object\n",
      "What is the scheduled departure time?                                              8903 non-null object\n",
      "Is this a connecting flight?                                                       10677 non-null object\n",
      "How did you travel to the airport today? (Please select the single best answer)    6965 non-null object\n",
      "How did you arrive by private vehicle?                                             3811 non-null object\n",
      "How did you arrive by rental vehicle?                                              960 non-null object\n",
      "Did you travel to Sea-Tac Airport today by...                                      2020 non-null object\n",
      "Did your immediate travel party check any bags here at Sea-Tac Airport?            6976 non-null object\n",
      "How many bags did your immediate travel party check?                               3843 non-null float64\n",
      "Is your trip today mainly for business?                                            10657 non-null object\n",
      "How many carry-on items is your immediate travel party carrying on the plane?      10630 non-null float64\n",
      "Are you?                                                                           10623 non-null object\n",
      "What year were you born?                                                           10134 non-null float64\n",
      "What was your total annual household income before taxes in 2016?                  9267 non-null object\n",
      "dtypes: float64(3), object(12)\n",
      "memory usage: 1.2+ MB\n"
     ]
    }
   ],
   "source": [
    "mode_choice_data.info()"
   ]
  },
  {
   "cell_type": "code",
   "execution_count": null,
   "metadata": {
    "colab": {},
    "colab_type": "code",
    "id": "s4LwLwp33MGH"
   },
   "outputs": [],
   "source": [
    "# Remove the rows with null values for Airline - this helps classify flight as Domestic or International \n",
    "mode_choice_data = mode_choice_data[mode_choice_data['Airline'].notnull()]\n",
    "mode_choice_data.reset_index(inplace=True, drop=True)\n",
    "# Classify whether Domestic or International flight - 0 - International, 1 - Domestic\n",
    "#mode_choice_data['Domestic'] = \"\"\n",
    "domestic = np.empty([len(mode_choice_data.index)], dtype='int') * np.nan\n",
    "for index, row in mode_choice_data.iterrows():\n",
    "    if row['Airline'] == 'Foreign Carrier':\n",
    "        domestic[index] = 0\n",
    "    else:\n",
    "        domestic[index] = 1\n",
    "mode_choice_data['Domestic'] = domestic"
   ]
  },
  {
   "cell_type": "code",
   "execution_count": null,
   "metadata": {
    "colab": {},
    "colab_type": "code",
    "id": "US35K3YW3MGM",
    "outputId": "ee69a438-2377-4018-d9ec-df46407b9a03"
   },
   "outputs": [
    {
     "data": {
      "text/html": [
       "<div>\n",
       "<style scoped>\n",
       "    .dataframe tbody tr th:only-of-type {\n",
       "        vertical-align: middle;\n",
       "    }\n",
       "\n",
       "    .dataframe tbody tr th {\n",
       "        vertical-align: top;\n",
       "    }\n",
       "\n",
       "    .dataframe thead th {\n",
       "        text-align: right;\n",
       "    }\n",
       "</style>\n",
       "<table border=\"1\" class=\"dataframe\">\n",
       "  <thead>\n",
       "    <tr style=\"text-align: right;\">\n",
       "      <th></th>\n",
       "      <th>Surveyed Date</th>\n",
       "      <th>Airline</th>\n",
       "      <th>What is the scheduled departure time?</th>\n",
       "      <th>Is this a connecting flight?</th>\n",
       "      <th>How did you travel to the airport today? (Please select the single best answer)</th>\n",
       "      <th>How did you arrive by private vehicle?</th>\n",
       "      <th>How did you arrive by rental vehicle?</th>\n",
       "      <th>Did you travel to Sea-Tac Airport today by...</th>\n",
       "      <th>Did your immediate travel party check any bags here at Sea-Tac Airport?</th>\n",
       "      <th>How many bags did your immediate travel party check?</th>\n",
       "      <th>Is your trip today mainly for business?</th>\n",
       "      <th>How many carry-on items is your immediate travel party carrying on the plane?</th>\n",
       "      <th>Are you?</th>\n",
       "      <th>What year were you born?</th>\n",
       "      <th>What was your total annual household income before taxes in 2016?</th>\n",
       "      <th>Domestic</th>\n",
       "    </tr>\n",
       "  </thead>\n",
       "  <tbody>\n",
       "    <tr>\n",
       "      <th>0</th>\n",
       "      <td>2014-01-29 00:00:00</td>\n",
       "      <td>Foreign Carrier</td>\n",
       "      <td>NaN</td>\n",
       "      <td>No</td>\n",
       "      <td>Rental vehicle</td>\n",
       "      <td>NaN</td>\n",
       "      <td>Rental vehicle dropped me off curbside</td>\n",
       "      <td>NaN</td>\n",
       "      <td>Yes</td>\n",
       "      <td>2.0</td>\n",
       "      <td>Yes, it is mainly for business</td>\n",
       "      <td>2.0</td>\n",
       "      <td>Male</td>\n",
       "      <td>NaN</td>\n",
       "      <td>NaN</td>\n",
       "      <td>0.0</td>\n",
       "    </tr>\n",
       "    <tr>\n",
       "      <th>1</th>\n",
       "      <td>2014-01-29 00:00:00</td>\n",
       "      <td>Foreign Carrier</td>\n",
       "      <td>NaN</td>\n",
       "      <td>Yes</td>\n",
       "      <td>NaN</td>\n",
       "      <td>NaN</td>\n",
       "      <td>NaN</td>\n",
       "      <td>NaN</td>\n",
       "      <td>NaN</td>\n",
       "      <td>NaN</td>\n",
       "      <td>Yes, it is mainly for business</td>\n",
       "      <td>1.0</td>\n",
       "      <td>Male</td>\n",
       "      <td>1953.0</td>\n",
       "      <td>$50,000 to 74,999</td>\n",
       "      <td>0.0</td>\n",
       "    </tr>\n",
       "    <tr>\n",
       "      <th>2</th>\n",
       "      <td>2014-01-29 00:00:00</td>\n",
       "      <td>Foreign Carrier</td>\n",
       "      <td>NaN</td>\n",
       "      <td>Yes</td>\n",
       "      <td>NaN</td>\n",
       "      <td>NaN</td>\n",
       "      <td>NaN</td>\n",
       "      <td>NaN</td>\n",
       "      <td>NaN</td>\n",
       "      <td>NaN</td>\n",
       "      <td>No, it is not mainly for business</td>\n",
       "      <td>3.0</td>\n",
       "      <td>Male</td>\n",
       "      <td>1985.0</td>\n",
       "      <td>Less than $30,000</td>\n",
       "      <td>0.0</td>\n",
       "    </tr>\n",
       "    <tr>\n",
       "      <th>3</th>\n",
       "      <td>2014-01-29 00:00:00</td>\n",
       "      <td>Foreign Carrier</td>\n",
       "      <td>NaN</td>\n",
       "      <td>Yes</td>\n",
       "      <td>NaN</td>\n",
       "      <td>NaN</td>\n",
       "      <td>NaN</td>\n",
       "      <td>NaN</td>\n",
       "      <td>NaN</td>\n",
       "      <td>NaN</td>\n",
       "      <td>Yes, it is mainly for business</td>\n",
       "      <td>1.0</td>\n",
       "      <td>Male</td>\n",
       "      <td>1980.0</td>\n",
       "      <td>$75,000 to $99,999</td>\n",
       "      <td>0.0</td>\n",
       "    </tr>\n",
       "    <tr>\n",
       "      <th>4</th>\n",
       "      <td>2014-01-29 00:00:00</td>\n",
       "      <td>Foreign Carrier</td>\n",
       "      <td>NaN</td>\n",
       "      <td>Yes</td>\n",
       "      <td>NaN</td>\n",
       "      <td>NaN</td>\n",
       "      <td>NaN</td>\n",
       "      <td>NaN</td>\n",
       "      <td>NaN</td>\n",
       "      <td>NaN</td>\n",
       "      <td>No, it is not mainly for business</td>\n",
       "      <td>1.0</td>\n",
       "      <td>Female</td>\n",
       "      <td>1987.0</td>\n",
       "      <td>$100,000 to $124,999</td>\n",
       "      <td>0.0</td>\n",
       "    </tr>\n",
       "  </tbody>\n",
       "</table>\n",
       "</div>"
      ],
      "text/plain": [
       "         Surveyed Date          Airline What is the scheduled departure time?  \\\n",
       "0  2014-01-29 00:00:00  Foreign Carrier                                   NaN   \n",
       "1  2014-01-29 00:00:00  Foreign Carrier                                   NaN   \n",
       "2  2014-01-29 00:00:00  Foreign Carrier                                   NaN   \n",
       "3  2014-01-29 00:00:00  Foreign Carrier                                   NaN   \n",
       "4  2014-01-29 00:00:00  Foreign Carrier                                   NaN   \n",
       "\n",
       "  Is this a connecting flight?  \\\n",
       "0                           No   \n",
       "1                          Yes   \n",
       "2                          Yes   \n",
       "3                          Yes   \n",
       "4                          Yes   \n",
       "\n",
       "  How did you travel to the airport today? (Please select the single best answer)  \\\n",
       "0                                     Rental vehicle                                \n",
       "1                                                NaN                                \n",
       "2                                                NaN                                \n",
       "3                                                NaN                                \n",
       "4                                                NaN                                \n",
       "\n",
       "  How did you arrive by private vehicle?  \\\n",
       "0                                    NaN   \n",
       "1                                    NaN   \n",
       "2                                    NaN   \n",
       "3                                    NaN   \n",
       "4                                    NaN   \n",
       "\n",
       "    How did you arrive by rental vehicle?  \\\n",
       "0  Rental vehicle dropped me off curbside   \n",
       "1                                     NaN   \n",
       "2                                     NaN   \n",
       "3                                     NaN   \n",
       "4                                     NaN   \n",
       "\n",
       "  Did you travel to Sea-Tac Airport today by...  \\\n",
       "0                                           NaN   \n",
       "1                                           NaN   \n",
       "2                                           NaN   \n",
       "3                                           NaN   \n",
       "4                                           NaN   \n",
       "\n",
       "  Did your immediate travel party check any bags here at Sea-Tac Airport?  \\\n",
       "0                                                Yes                        \n",
       "1                                                NaN                        \n",
       "2                                                NaN                        \n",
       "3                                                NaN                        \n",
       "4                                                NaN                        \n",
       "\n",
       "   How many bags did your immediate travel party check?  \\\n",
       "0                                                2.0      \n",
       "1                                                NaN      \n",
       "2                                                NaN      \n",
       "3                                                NaN      \n",
       "4                                                NaN      \n",
       "\n",
       "  Is your trip today mainly for business?  \\\n",
       "0          Yes, it is mainly for business   \n",
       "1          Yes, it is mainly for business   \n",
       "2       No, it is not mainly for business   \n",
       "3          Yes, it is mainly for business   \n",
       "4       No, it is not mainly for business   \n",
       "\n",
       "   How many carry-on items is your immediate travel party carrying on the plane?  \\\n",
       "0                                                2.0                               \n",
       "1                                                1.0                               \n",
       "2                                                3.0                               \n",
       "3                                                1.0                               \n",
       "4                                                1.0                               \n",
       "\n",
       "  Are you?  What year were you born?  \\\n",
       "0     Male                       NaN   \n",
       "1     Male                    1953.0   \n",
       "2     Male                    1985.0   \n",
       "3     Male                    1980.0   \n",
       "4   Female                    1987.0   \n",
       "\n",
       "  What was your total annual household income before taxes in 2016?  Domestic  \n",
       "0                                                NaN                      0.0  \n",
       "1                                  $50,000 to 74,999                      0.0  \n",
       "2                                  Less than $30,000                      0.0  \n",
       "3                                 $75,000 to $99,999                      0.0  \n",
       "4                               $100,000 to $124,999                      0.0  "
      ]
     },
     "execution_count": 7,
     "metadata": {
      "tags": []
     },
     "output_type": "execute_result"
    }
   ],
   "source": [
    "mode_choice_data.head()"
   ]
  },
  {
   "cell_type": "markdown",
   "metadata": {
    "colab_type": "text",
    "id": "b_4IfGEv3MGS"
   },
   "source": []
  },
  {
   "cell_type": "code",
   "execution_count": null,
   "metadata": {
    "colab": {},
    "colab_type": "code",
    "id": "DubF1baP3MGT"
   },
   "outputs": [],
   "source": [
    "# Remove rows where flight is a connecting flight \n",
    "mode_choice_data = mode_choice_data[mode_choice_data['Is this a connecting flight?'] == 'No']\n",
    "mode_choice_data.reset_index(inplace=True, drop=True)"
   ]
  },
  {
   "cell_type": "code",
   "execution_count": null,
   "metadata": {
    "colab": {},
    "colab_type": "code",
    "id": "kw4jE8qK3MGa"
   },
   "outputs": [],
   "source": [
    "# Find the number of luggage = checked bags + carry on\n",
    "luggage = np.empty([len(mode_choice_data.index)], dtype='int') * np.nan\n",
    "for index, row in mode_choice_data.iterrows():\n",
    "    check_count = row['How many bags did your immediate travel party check?']\n",
    "    carry_on_count = row['How many carry-on items is your immediate travel party carrying on the plane?']\n",
    "    if pd.isna(check_count):\n",
    "        checked = 0\n",
    "    else:\n",
    "        checked = check_count\n",
    "    if pd.isna(carry_on_count):\n",
    "        carry_on = 0\n",
    "    else:\n",
    "        carry_on = carry_on_count\n",
    "    \n",
    "    luggage[index] = carry_on + checked\n",
    "\n",
    "mode_choice_data['Luggage'] = luggage"
   ]
  },
  {
   "cell_type": "code",
   "execution_count": null,
   "metadata": {
    "colab": {},
    "colab_type": "code",
    "id": "CFx1N9A_3MGh"
   },
   "outputs": [],
   "source": [
    "# Filter trips that are not business or not business\n",
    "business_vals = ['Yes, it is mainly for business', 'No, it is not mainly for business']\n",
    "mode_choice_data = mode_choice_data[mode_choice_data['Is your trip today mainly for business?'].isin(business_vals)]\n",
    "mode_choice_data.reset_index(inplace=True, drop=True)\n",
    "# Create a variable to denote whether business trip or not - 0 not business, 1 - business\n",
    "business = np.empty([len(mode_choice_data.index)], dtype='int') * np.nan\n",
    "for index, row in mode_choice_data.iterrows():\n",
    "    if row['Is your trip today mainly for business?'] == 'Yes, it is mainly for business':\n",
    "        business[index] = 1\n",
    "    else:\n",
    "        business[index] = 0\n",
    "mode_choice_data['business'] = business"
   ]
  },
  {
   "cell_type": "code",
   "execution_count": null,
   "metadata": {
    "colab": {},
    "colab_type": "code",
    "id": "0SRjsCo_3MGl"
   },
   "outputs": [],
   "source": [
    "# clean the age column \n",
    "mode_choice_data = mode_choice_data[(mode_choice_data['What year were you born?'] > 1900) & (mode_choice_data['What year were you born?'] < 2019)]\n",
    "mode_choice_data.reset_index(inplace=True, drop=True)\n",
    "# Calculate the age\n",
    "mode_choice_data['age'] = 2019 - mode_choice_data['What year were you born?']"
   ]
  },
  {
   "cell_type": "code",
   "execution_count": null,
   "metadata": {
    "colab": {},
    "colab_type": "code",
    "id": "wiTMCajk3MGs"
   },
   "outputs": [],
   "source": [
    "# Clean and recategorize the ncome column \n",
    "mode_choice_data = mode_choice_data[mode_choice_data['What was your total annual household income before taxes in 2016?'].notnull()]\n",
    "mode_choice_data.reset_index(inplace=True, drop=True)\n",
    "income = np.empty([len(mode_choice_data.index)], dtype='int') * np.nan\n",
    "for index, row in mode_choice_data.iterrows():\n",
    "    income_cat = row['What was your total annual household income before taxes in 2016?'] \n",
    "    if income_cat == 'Less than $30,000':\n",
    "        income[index] = 0\n",
    "    elif income_cat == '$30,000 to $49,999':\n",
    "        income[index] = 1\n",
    "    elif income_cat == '$50,000 to 74,999':\n",
    "        income[index] = 2\n",
    "    elif income_cat == '$75,000 to $99,999':\n",
    "        income[index] = 3\n",
    "    else:\n",
    "        income[index] = 4\n",
    "mode_choice_data['income'] = income"
   ]
  },
  {
   "cell_type": "code",
   "execution_count": null,
   "metadata": {
    "colab": {},
    "colab_type": "code",
    "id": "FnkVTdrn3MGw",
    "outputId": "8b0ea4ad-459f-4d78-b249-ebd397affe2b"
   },
   "outputs": [
    {
     "name": "stdout",
     "output_type": "stream",
     "text": [
      "<class 'pandas.core.frame.DataFrame'>\n",
      "RangeIndex: 5900 entries, 0 to 5899\n",
      "Data columns (total 20 columns):\n",
      "Surveyed Date                                                                      5900 non-null object\n",
      "Airline                                                                            5900 non-null object\n",
      "What is the scheduled departure time?                                              4938 non-null object\n",
      "Is this a connecting flight?                                                       5900 non-null object\n",
      "How did you travel to the airport today? (Please select the single best answer)    5884 non-null object\n",
      "How did you arrive by private vehicle?                                             3220 non-null object\n",
      "How did you arrive by rental vehicle?                                              806 non-null object\n",
      "Did you travel to Sea-Tac Airport today by...                                      1699 non-null object\n",
      "Did your immediate travel party check any bags here at Sea-Tac Airport?            5895 non-null object\n",
      "How many bags did your immediate travel party check?                               3234 non-null float64\n",
      "Is your trip today mainly for business?                                            5900 non-null object\n",
      "How many carry-on items is your immediate travel party carrying on the plane?      5892 non-null float64\n",
      "Are you?                                                                           5895 non-null object\n",
      "What year were you born?                                                           5900 non-null float64\n",
      "What was your total annual household income before taxes in 2016?                  5900 non-null object\n",
      "Domestic                                                                           5900 non-null float64\n",
      "Luggage                                                                            5900 non-null float64\n",
      "business                                                                           5900 non-null float64\n",
      "age                                                                                5900 non-null float64\n",
      "income                                                                             5900 non-null float64\n",
      "dtypes: float64(8), object(12)\n",
      "memory usage: 922.0+ KB\n"
     ]
    }
   ],
   "source": [
    "mode_choice_data.info()"
   ]
  },
  {
   "cell_type": "code",
   "execution_count": null,
   "metadata": {
    "colab": {},
    "colab_type": "code",
    "id": "aWm6OSnI3MG2"
   },
   "outputs": [],
   "source": [
    "# Format the date as date-time object\n",
    "mode_choice_data['Date_formatted'] = pd.to_datetime(mode_choice_data['Surveyed Date'])"
   ]
  },
  {
   "cell_type": "code",
   "execution_count": null,
   "metadata": {
    "colab": {},
    "colab_type": "code",
    "id": "OI2Wu5i53MG6",
    "outputId": "56d88958-4e50-4f20-90e6-365103a2289b"
   },
   "outputs": [
    {
     "data": {
      "text/plain": [
       "count                    5900\n",
       "unique                    375\n",
       "top       2016-12-18 00:00:00\n",
       "freq                       43\n",
       "first     2014-01-29 00:00:00\n",
       "last      2019-03-26 00:00:00\n",
       "Name: Date_formatted, dtype: object"
      ]
     },
     "execution_count": 15,
     "metadata": {
      "tags": []
     },
     "output_type": "execute_result"
    }
   ],
   "source": [
    "mode_choice_data['Date_formatted'].describe()"
   ]
  },
  {
   "cell_type": "code",
   "execution_count": null,
   "metadata": {
    "colab": {},
    "colab_type": "code",
    "id": "Jokf1jrk3MHA"
   },
   "outputs": [],
   "source": [
    "# Get the year from the datetime column\n",
    "mode_choice_data['Date_year'] = \"\"\n",
    "mode_choice_data['Date_month'] = \"\"\n",
    "date_year_arr = np.zeros([len(mode_choice_data.index)], dtype='int')\n",
    "date_month_arr = np.zeros([len(mode_choice_data.index)], dtype='int')\n",
    "#print(date_year_arr.shape)\n",
    "for index, value in enumerate(mode_choice_data['Date_formatted'].tolist()):\n",
    "    #print(index)\n",
    "    date_year_arr[index] = int(value.year)\n",
    "    date_month_arr[index] = int(value.month)\n",
    "mode_choice_data['Date_year'] = date_year_arr\n",
    "mode_choice_data['Date_month'] = date_month_arr"
   ]
  },
  {
   "cell_type": "code",
   "execution_count": null,
   "metadata": {
    "colab": {},
    "colab_type": "code",
    "id": "zMeFl_VJ3MHG",
    "outputId": "659aa097-5dd3-48f8-fa91-3386a50af1bf"
   },
   "outputs": [
    {
     "data": {
      "text/plain": [
       "0    2014\n",
       "1    2014\n",
       "2    2014\n",
       "3    2014\n",
       "4    2014\n",
       "Name: Date_year, dtype: int64"
      ]
     },
     "execution_count": 17,
     "metadata": {
      "tags": []
     },
     "output_type": "execute_result"
    }
   ],
   "source": [
    "mode_choice_data['Date_year'].head()"
   ]
  },
  {
   "cell_type": "code",
   "execution_count": null,
   "metadata": {
    "colab": {},
    "colab_type": "code",
    "id": "vDdJh8jf3MHM",
    "outputId": "e3045cf5-b210-4d91-b90f-63e93907b16c"
   },
   "outputs": [
    {
     "name": "stdout",
     "output_type": "stream",
     "text": [
      "<class 'pandas.core.frame.DataFrame'>\n",
      "RangeIndex: 5900 entries, 0 to 5899\n",
      "Data columns (total 23 columns):\n",
      "Surveyed Date                                                                      5900 non-null object\n",
      "Airline                                                                            5900 non-null object\n",
      "What is the scheduled departure time?                                              4938 non-null object\n",
      "Is this a connecting flight?                                                       5900 non-null object\n",
      "How did you travel to the airport today? (Please select the single best answer)    5884 non-null object\n",
      "How did you arrive by private vehicle?                                             3220 non-null object\n",
      "How did you arrive by rental vehicle?                                              806 non-null object\n",
      "Did you travel to Sea-Tac Airport today by...                                      1699 non-null object\n",
      "Did your immediate travel party check any bags here at Sea-Tac Airport?            5895 non-null object\n",
      "How many bags did your immediate travel party check?                               3234 non-null float64\n",
      "Is your trip today mainly for business?                                            5900 non-null object\n",
      "How many carry-on items is your immediate travel party carrying on the plane?      5892 non-null float64\n",
      "Are you?                                                                           5895 non-null object\n",
      "What year were you born?                                                           5900 non-null float64\n",
      "What was your total annual household income before taxes in 2016?                  5900 non-null object\n",
      "Domestic                                                                           5900 non-null float64\n",
      "Luggage                                                                            5900 non-null float64\n",
      "business                                                                           5900 non-null float64\n",
      "age                                                                                5900 non-null float64\n",
      "income                                                                             5900 non-null float64\n",
      "Date_formatted                                                                     5900 non-null datetime64[ns]\n",
      "Date_year                                                                          5900 non-null int64\n",
      "Date_month                                                                         5900 non-null int64\n",
      "dtypes: datetime64[ns](1), float64(8), int64(2), object(12)\n",
      "memory usage: 1.0+ MB\n"
     ]
    }
   ],
   "source": [
    "mode_choice_data.info()"
   ]
  },
  {
   "cell_type": "code",
   "execution_count": null,
   "metadata": {
    "colab": {},
    "colab_type": "code",
    "id": "RHoFAQJa3MHS",
    "outputId": "0e6daa6b-b2c7-4307-8cd5-9767976b047f"
   },
   "outputs": [
    {
     "name": "stderr",
     "output_type": "stream",
     "text": [
      "/home/chintan/anaconda3/envs/keras2/lib/python3.6/site-packages/ipykernel_launcher.py:50: SettingWithCopyWarning: \n",
      "A value is trying to be set on a copy of a slice from a DataFrame.\n",
      "Try using .loc[row_indexer,col_indexer] = value instead\n",
      "\n",
      "See the caveats in the documentation: http://pandas.pydata.org/pandas-docs/stable/indexing.html#indexing-view-versus-copy\n"
     ]
    }
   ],
   "source": [
    "# Assign a mode choice based on the mode selection \n",
    "# 0 - transit + shuttles\n",
    "# 1 - Parked at SeaTac \n",
    "# 2 - Private curbside dropoffs\n",
    "# 3 - TNC curbside dropoffs\n",
    "\n",
    "df1 = mode_choice_data\n",
    "df1['mode_choice_formatted'] = \"\"\n",
    "# Only keep rows where mode choice answer not null \n",
    "df1 = df1[df1['How did you travel to the airport today? (Please select the single best answer)'].notnull()]\n",
    "mode_choice_arr = np.empty([len(df1.index)], dtype='int') * np.nan\n",
    "df1.reset_index(inplace=True, drop=True)\n",
    "for index, row in df1.iterrows():\n",
    "    #print(row)\n",
    "    airport_today = row['How did you travel to the airport today? (Please select the single best answer)']\n",
    "    # Case when they did travel by private vehicle or rental vehicle\n",
    "    if  airport_today == 'Private vehicle (excluding Uber, Lyft, or other paid ride)':\n",
    "        private_vehicle = row['How did you arrive by private vehicle?']\n",
    "        if not pd.isna(private_vehicle):\n",
    "            # If private vehicle dropped curbside\n",
    "            if 'curbside' in private_vehicle:\n",
    "                mode_choice_arr[index] = 2\n",
    "            # If parked at an off-airport location\n",
    "            elif 'off-airport' in private_vehicle:\n",
    "                mode_choice_arr[index] = 0\n",
    "            # If parked in the garage\n",
    "            elif 'garage' in private_vehicle:\n",
    "                mode_choice_arr[index] = 1\n",
    "    # If dropped off by a rental vehicle\n",
    "    elif airport_today == 'Rental vehicle':\n",
    "        rental_vehicle = row['How did you arrive by rental vehicle?']\n",
    "        if not pd.isna(rental_vehicle):\n",
    "            # If rental car dropped at curbside\n",
    "            if 'curbside' in rental_vehicle:\n",
    "                mode_choice_arr[index] = 2\n",
    "            # If rental car dropped at rental car facility etc.    \n",
    "            else:\n",
    "                mode_choice_arr[index] = 0\n",
    "    elif airport_today == 'Other type of transport':\n",
    "        other_mode_type = row['Did you travel to Sea-Tac Airport today by...']\n",
    "        if not pd.isna(other_mode_type):\n",
    "            if any(name in other_mode_type for name in ('Uber/Lyft/Other TNC', 'Taxi', 'car', 'pov', 'Limousine')):\n",
    "                mode_choice_arr[index] = 3\n",
    "            elif any(name in other_mode_type for name in ('Link Light Rail', 'Public transit bus (e.g., ST 560)', 'train')):\n",
    "                mode_choice_arr[index] = 0\n",
    "            elif any(name in other_mode_type for name in ('car2go', 'Reach Now')):\n",
    "                mode_choice_arr[index] = 1\n",
    "            elif any(name in other_mode_type for name in ('Shuttle Express', 'Hotel courtesy shuttle', 'Scheduled airporter bus', 'Other charter bus', 'shuttle', 'airporter bus')): \n",
    "                mode_choice_arr[index] = 0\n",
    "df1['mode_choice_formatted'] = mode_choice_arr\n",
    "# Remove null mode choice rows\n",
    "df1 = df1[np.isfinite(df1['mode_choice_formatted'])]\n",
    "mode_choice_data = df1"
   ]
  },
  {
   "cell_type": "code",
   "execution_count": null,
   "metadata": {
    "colab": {},
    "colab_type": "code",
    "id": "ElZW22Jz3MHZ",
    "outputId": "85f93f4b-5ed8-4894-c160-8e7ed3b8b42e"
   },
   "outputs": [
    {
     "name": "stdout",
     "output_type": "stream",
     "text": [
      "<class 'pandas.core.frame.DataFrame'>\n",
      "Int64Index: 5647 entries, 0 to 5883\n",
      "Data columns (total 24 columns):\n",
      "Surveyed Date                                                                      5647 non-null object\n",
      "Airline                                                                            5647 non-null object\n",
      "What is the scheduled departure time?                                              4723 non-null object\n",
      "Is this a connecting flight?                                                       5647 non-null object\n",
      "How did you travel to the airport today? (Please select the single best answer)    5647 non-null object\n",
      "How did you arrive by private vehicle?                                             3219 non-null object\n",
      "How did you arrive by rental vehicle?                                              806 non-null object\n",
      "Did you travel to Sea-Tac Airport today by...                                      1622 non-null object\n",
      "Did your immediate travel party check any bags here at Sea-Tac Airport?            5644 non-null object\n",
      "How many bags did your immediate travel party check?                               3097 non-null float64\n",
      "Is your trip today mainly for business?                                            5647 non-null object\n",
      "How many carry-on items is your immediate travel party carrying on the plane?      5639 non-null float64\n",
      "Are you?                                                                           5642 non-null object\n",
      "What year were you born?                                                           5647 non-null float64\n",
      "What was your total annual household income before taxes in 2016?                  5647 non-null object\n",
      "Domestic                                                                           5647 non-null float64\n",
      "Luggage                                                                            5647 non-null float64\n",
      "business                                                                           5647 non-null float64\n",
      "age                                                                                5647 non-null float64\n",
      "income                                                                             5647 non-null float64\n",
      "Date_formatted                                                                     5647 non-null datetime64[ns]\n",
      "Date_year                                                                          5647 non-null int64\n",
      "Date_month                                                                         5647 non-null int64\n",
      "mode_choice_formatted                                                              5647 non-null float64\n",
      "dtypes: datetime64[ns](1), float64(9), int64(2), object(12)\n",
      "memory usage: 1.1+ MB\n"
     ]
    }
   ],
   "source": [
    "mode_choice_data.info()"
   ]
  },
  {
   "cell_type": "code",
   "execution_count": null,
   "metadata": {
    "colab": {},
    "colab_type": "code",
    "id": "QXKYXhZP3MHf"
   },
   "outputs": [],
   "source": [
    "# Keep only the useful columns \n",
    "mode_choice_data = mode_choice_data[['What is the scheduled departure time?', 'Domestic', 'Luggage', 'business', 'age', 'income', 'Date_year', 'Date_month', 'mode_choice_formatted']]"
   ]
  },
  {
   "cell_type": "code",
   "execution_count": null,
   "metadata": {
    "colab": {},
    "colab_type": "code",
    "id": "mr3yCg-p3MHm",
    "outputId": "b011a0e9-a38b-468c-e299-895c428062f6"
   },
   "outputs": [
    {
     "name": "stdout",
     "output_type": "stream",
     "text": [
      "<class 'pandas.core.frame.DataFrame'>\n",
      "Int64Index: 5647 entries, 0 to 5883\n",
      "Data columns (total 9 columns):\n",
      "What is the scheduled departure time?    4723 non-null object\n",
      "Domestic                                 5647 non-null float64\n",
      "Luggage                                  5647 non-null float64\n",
      "business                                 5647 non-null float64\n",
      "age                                      5647 non-null float64\n",
      "income                                   5647 non-null float64\n",
      "Date_year                                5647 non-null int64\n",
      "Date_month                               5647 non-null int64\n",
      "mode_choice_formatted                    5647 non-null float64\n",
      "dtypes: float64(6), int64(2), object(1)\n",
      "memory usage: 441.2+ KB\n"
     ]
    }
   ],
   "source": [
    "mode_choice_data.info()"
   ]
  },
  {
   "cell_type": "code",
   "execution_count": null,
   "metadata": {
    "colab": {},
    "colab_type": "code",
    "id": "CANI8lVI3MHr",
    "outputId": "4736f674-8019-4024-fd4f-8667bd87faa2"
   },
   "outputs": [
    {
     "name": "stderr",
     "output_type": "stream",
     "text": [
      "/home/chintan/anaconda3/envs/keras2/lib/python3.6/site-packages/ipykernel_launcher.py:3: SettingWithCopyWarning: \n",
      "A value is trying to be set on a copy of a slice from a DataFrame.\n",
      "Try using .loc[row_indexer,col_indexer] = value instead\n",
      "\n",
      "See the caveats in the documentation: http://pandas.pydata.org/pandas-docs/stable/indexing.html#indexing-view-versus-copy\n",
      "  This is separate from the ipykernel package so we can avoid doing imports until\n"
     ]
    }
   ],
   "source": [
    "# Change the datatypes \n",
    "for col in ['Domestic', 'Luggage', 'business', 'income', 'Date_year', 'Date_month', 'mode_choice_formatted']:\n",
    "    mode_choice_data[col] = mode_choice_data[col].astype('int').astype('category')"
   ]
  },
  {
   "cell_type": "code",
   "execution_count": null,
   "metadata": {
    "colab": {},
    "colab_type": "code",
    "id": "mc4efyUB3MHx",
    "outputId": "8e1f4e7b-a242-4438-dbfa-75c40bec9e4b"
   },
   "outputs": [
    {
     "data": {
      "text/plain": [
       "count    5647.000000\n",
       "mean       49.384275\n",
       "std        16.540208\n",
       "min        10.000000\n",
       "25%        35.000000\n",
       "50%        50.000000\n",
       "75%        63.000000\n",
       "max        95.000000\n",
       "Name: age, dtype: float64"
      ]
     },
     "execution_count": 24,
     "metadata": {
      "tags": []
     },
     "output_type": "execute_result"
    }
   ],
   "source": [
    "mode_choice_data['age'].describe()"
   ]
  },
  {
   "cell_type": "code",
   "execution_count": null,
   "metadata": {
    "colab": {},
    "colab_type": "code",
    "id": "7woQ4yZP3MH2",
    "outputId": "5fb66fc0-0f65-4cc6-cd8a-9599365ca8f2"
   },
   "outputs": [
    {
     "data": {
      "text/html": [
       "<div>\n",
       "<style scoped>\n",
       "    .dataframe tbody tr th:only-of-type {\n",
       "        vertical-align: middle;\n",
       "    }\n",
       "\n",
       "    .dataframe tbody tr th {\n",
       "        vertical-align: top;\n",
       "    }\n",
       "\n",
       "    .dataframe thead th {\n",
       "        text-align: right;\n",
       "    }\n",
       "</style>\n",
       "<table border=\"1\" class=\"dataframe\">\n",
       "  <thead>\n",
       "    <tr style=\"text-align: right;\">\n",
       "      <th></th>\n",
       "      <th>What is the scheduled departure time?</th>\n",
       "      <th>Domestic</th>\n",
       "      <th>Luggage</th>\n",
       "      <th>business</th>\n",
       "      <th>age</th>\n",
       "      <th>income</th>\n",
       "      <th>Date_year</th>\n",
       "      <th>Date_month</th>\n",
       "      <th>mode_choice_formatted</th>\n",
       "    </tr>\n",
       "  </thead>\n",
       "  <tbody>\n",
       "    <tr>\n",
       "      <th>0</th>\n",
       "      <td>NaN</td>\n",
       "      <td>1</td>\n",
       "      <td>2</td>\n",
       "      <td>1</td>\n",
       "      <td>45.0</td>\n",
       "      <td>4</td>\n",
       "      <td>2014</td>\n",
       "      <td>1</td>\n",
       "      <td>2</td>\n",
       "    </tr>\n",
       "    <tr>\n",
       "      <th>1</th>\n",
       "      <td>NaN</td>\n",
       "      <td>1</td>\n",
       "      <td>2</td>\n",
       "      <td>1</td>\n",
       "      <td>52.0</td>\n",
       "      <td>4</td>\n",
       "      <td>2014</td>\n",
       "      <td>1</td>\n",
       "      <td>0</td>\n",
       "    </tr>\n",
       "    <tr>\n",
       "      <th>2</th>\n",
       "      <td>NaN</td>\n",
       "      <td>0</td>\n",
       "      <td>4</td>\n",
       "      <td>0</td>\n",
       "      <td>60.0</td>\n",
       "      <td>4</td>\n",
       "      <td>2014</td>\n",
       "      <td>1</td>\n",
       "      <td>0</td>\n",
       "    </tr>\n",
       "    <tr>\n",
       "      <th>3</th>\n",
       "      <td>NaN</td>\n",
       "      <td>0</td>\n",
       "      <td>1</td>\n",
       "      <td>0</td>\n",
       "      <td>36.0</td>\n",
       "      <td>2</td>\n",
       "      <td>2014</td>\n",
       "      <td>1</td>\n",
       "      <td>0</td>\n",
       "    </tr>\n",
       "    <tr>\n",
       "      <th>4</th>\n",
       "      <td>NaN</td>\n",
       "      <td>0</td>\n",
       "      <td>3</td>\n",
       "      <td>0</td>\n",
       "      <td>45.0</td>\n",
       "      <td>2</td>\n",
       "      <td>2014</td>\n",
       "      <td>1</td>\n",
       "      <td>2</td>\n",
       "    </tr>\n",
       "  </tbody>\n",
       "</table>\n",
       "</div>"
      ],
      "text/plain": [
       "  What is the scheduled departure time? Domestic Luggage business   age  \\\n",
       "0                                   NaN        1       2        1  45.0   \n",
       "1                                   NaN        1       2        1  52.0   \n",
       "2                                   NaN        0       4        0  60.0   \n",
       "3                                   NaN        0       1        0  36.0   \n",
       "4                                   NaN        0       3        0  45.0   \n",
       "\n",
       "  income Date_year Date_month mode_choice_formatted  \n",
       "0      4      2014          1                     2  \n",
       "1      4      2014          1                     0  \n",
       "2      4      2014          1                     0  \n",
       "3      2      2014          1                     0  \n",
       "4      2      2014          1                     2  "
      ]
     },
     "execution_count": 25,
     "metadata": {
      "tags": []
     },
     "output_type": "execute_result"
    }
   ],
   "source": [
    "mode_choice_data.head()"
   ]
  },
  {
   "cell_type": "code",
   "execution_count": null,
   "metadata": {
    "colab": {},
    "colab_type": "code",
    "id": "Tt-7oksg3MH8",
    "outputId": "5274b272-e2f0-443e-cbde-d24a265aeb84"
   },
   "outputs": [
    {
     "data": {
      "text/html": [
       "<div>\n",
       "<style scoped>\n",
       "    .dataframe tbody tr th:only-of-type {\n",
       "        vertical-align: middle;\n",
       "    }\n",
       "\n",
       "    .dataframe tbody tr th {\n",
       "        vertical-align: top;\n",
       "    }\n",
       "\n",
       "    .dataframe thead th {\n",
       "        text-align: right;\n",
       "    }\n",
       "</style>\n",
       "<table border=\"1\" class=\"dataframe\">\n",
       "  <thead>\n",
       "    <tr style=\"text-align: right;\">\n",
       "      <th></th>\n",
       "      <th>age</th>\n",
       "    </tr>\n",
       "  </thead>\n",
       "  <tbody>\n",
       "    <tr>\n",
       "      <th>count</th>\n",
       "      <td>5647.000000</td>\n",
       "    </tr>\n",
       "    <tr>\n",
       "      <th>mean</th>\n",
       "      <td>49.384275</td>\n",
       "    </tr>\n",
       "    <tr>\n",
       "      <th>std</th>\n",
       "      <td>16.540208</td>\n",
       "    </tr>\n",
       "    <tr>\n",
       "      <th>min</th>\n",
       "      <td>10.000000</td>\n",
       "    </tr>\n",
       "    <tr>\n",
       "      <th>25%</th>\n",
       "      <td>35.000000</td>\n",
       "    </tr>\n",
       "    <tr>\n",
       "      <th>50%</th>\n",
       "      <td>50.000000</td>\n",
       "    </tr>\n",
       "    <tr>\n",
       "      <th>75%</th>\n",
       "      <td>63.000000</td>\n",
       "    </tr>\n",
       "    <tr>\n",
       "      <th>max</th>\n",
       "      <td>95.000000</td>\n",
       "    </tr>\n",
       "  </tbody>\n",
       "</table>\n",
       "</div>"
      ],
      "text/plain": [
       "               age\n",
       "count  5647.000000\n",
       "mean     49.384275\n",
       "std      16.540208\n",
       "min      10.000000\n",
       "25%      35.000000\n",
       "50%      50.000000\n",
       "75%      63.000000\n",
       "max      95.000000"
      ]
     },
     "execution_count": 26,
     "metadata": {
      "tags": []
     },
     "output_type": "execute_result"
    }
   ],
   "source": [
    "mode_choice_data.describe()"
   ]
  },
  {
   "cell_type": "code",
   "execution_count": null,
   "metadata": {
    "colab": {},
    "colab_type": "code",
    "id": "7AWhQ6753MIA"
   },
   "outputs": [],
   "source": [
    "# Createa separate dataframe for each year \n",
    "mode_choice_data_dfs = {}\n",
    "for i in mode_choice_data['Date_year'].unique():\n",
    "    mode_choice_data_dfs[str(i)] = mode_choice_data[mode_choice_data['Date_year'] == i]"
   ]
  },
  {
   "cell_type": "code",
   "execution_count": null,
   "metadata": {
    "colab": {},
    "colab_type": "code",
    "id": "Kp8gxo073MIF"
   },
   "outputs": [],
   "source": [
    "# Collect only the mode choices for plotting \n",
    "mode_choices_df = pd.DataFrame(index=np.unique(df1['mode_choice_formatted']))   \n",
    "for year in mode_choice_data_dfs:\n",
    "    mode_choices_df[year] = np.unique(mode_choice_data_dfs[year]['mode_choice_formatted'], return_counts=True)[1] * 100 /  len(mode_choice_data_dfs[year].index)"
   ]
  },
  {
   "cell_type": "code",
   "execution_count": null,
   "metadata": {
    "colab": {},
    "colab_type": "code",
    "id": "EgMV3isd3MIH",
    "outputId": "a9f5d70e-1925-49b0-80c2-12067c77cc61"
   },
   "outputs": [
    {
     "name": "stdout",
     "output_type": "stream",
     "text": [
      "<class 'pandas.core.frame.DataFrame'>\n",
      "Float64Index: 4 entries, 0.0 to 3.0\n",
      "Data columns (total 6 columns):\n",
      "2014    4 non-null float64\n",
      "2015    4 non-null float64\n",
      "2016    4 non-null float64\n",
      "2017    4 non-null float64\n",
      "2018    4 non-null float64\n",
      "2019    4 non-null float64\n",
      "dtypes: float64(6)\n",
      "memory usage: 224.0 bytes\n"
     ]
    }
   ],
   "source": [
    "mode_choices_df.info()"
   ]
  },
  {
   "cell_type": "code",
   "execution_count": null,
   "metadata": {
    "colab": {},
    "colab_type": "code",
    "id": "2ZdDl8T63MIL"
   },
   "outputs": [],
   "source": [
    "mode_choices_df.reset_index(inplace=True)"
   ]
  },
  {
   "cell_type": "code",
   "execution_count": null,
   "metadata": {
    "colab": {},
    "colab_type": "code",
    "id": "WJoNpayG3MIO",
    "outputId": "b8118a22-56e9-48ca-9b21-d4dfeb91c6ec"
   },
   "outputs": [
    {
     "data": {
      "text/html": [
       "<div>\n",
       "<style scoped>\n",
       "    .dataframe tbody tr th:only-of-type {\n",
       "        vertical-align: middle;\n",
       "    }\n",
       "\n",
       "    .dataframe tbody tr th {\n",
       "        vertical-align: top;\n",
       "    }\n",
       "\n",
       "    .dataframe thead th {\n",
       "        text-align: right;\n",
       "    }\n",
       "</style>\n",
       "<table border=\"1\" class=\"dataframe\">\n",
       "  <thead>\n",
       "    <tr style=\"text-align: right;\">\n",
       "      <th></th>\n",
       "      <th>index</th>\n",
       "      <th>2014</th>\n",
       "      <th>2015</th>\n",
       "      <th>2016</th>\n",
       "      <th>2017</th>\n",
       "      <th>2018</th>\n",
       "      <th>2019</th>\n",
       "    </tr>\n",
       "  </thead>\n",
       "  <tbody>\n",
       "    <tr>\n",
       "      <th>0</th>\n",
       "      <td>0.0</td>\n",
       "      <td>42.954856</td>\n",
       "      <td>45.584046</td>\n",
       "      <td>38.875306</td>\n",
       "      <td>39.616858</td>\n",
       "      <td>38.859715</td>\n",
       "      <td>32.378223</td>\n",
       "    </tr>\n",
       "    <tr>\n",
       "      <th>1</th>\n",
       "      <td>1.0</td>\n",
       "      <td>7.660739</td>\n",
       "      <td>7.834758</td>\n",
       "      <td>9.372453</td>\n",
       "      <td>7.126437</td>\n",
       "      <td>7.501875</td>\n",
       "      <td>6.876791</td>\n",
       "    </tr>\n",
       "    <tr>\n",
       "      <th>2</th>\n",
       "      <td>2.0</td>\n",
       "      <td>38.440492</td>\n",
       "      <td>36.324786</td>\n",
       "      <td>41.564792</td>\n",
       "      <td>40.766284</td>\n",
       "      <td>40.810203</td>\n",
       "      <td>45.558739</td>\n",
       "    </tr>\n",
       "    <tr>\n",
       "      <th>3</th>\n",
       "      <td>3.0</td>\n",
       "      <td>10.943912</td>\n",
       "      <td>10.256410</td>\n",
       "      <td>10.187449</td>\n",
       "      <td>12.490421</td>\n",
       "      <td>12.828207</td>\n",
       "      <td>15.186246</td>\n",
       "    </tr>\n",
       "  </tbody>\n",
       "</table>\n",
       "</div>"
      ],
      "text/plain": [
       "   index       2014       2015       2016       2017       2018       2019\n",
       "0    0.0  42.954856  45.584046  38.875306  39.616858  38.859715  32.378223\n",
       "1    1.0   7.660739   7.834758   9.372453   7.126437   7.501875   6.876791\n",
       "2    2.0  38.440492  36.324786  41.564792  40.766284  40.810203  45.558739\n",
       "3    3.0  10.943912  10.256410  10.187449  12.490421  12.828207  15.186246"
      ]
     },
     "execution_count": 31,
     "metadata": {
      "tags": []
     },
     "output_type": "execute_result"
    }
   ],
   "source": [
    "mode_choices_df"
   ]
  },
  {
   "cell_type": "code",
   "execution_count": null,
   "metadata": {
    "colab": {},
    "colab_type": "code",
    "id": "UBS9n5xX3MIT"
   },
   "outputs": [],
   "source": [
    "mode_choice_df = mode_choices_df.melt('index', var_name='year', value_name='count')"
   ]
  },
  {
   "cell_type": "code",
   "execution_count": null,
   "metadata": {
    "colab": {},
    "colab_type": "code",
    "id": "3-soWux73MIX",
    "outputId": "0b1043e1-8d2a-4aad-ac16-f56bce22a822"
   },
   "outputs": [
    {
     "data": {
      "text/html": [
       "<div>\n",
       "<style scoped>\n",
       "    .dataframe tbody tr th:only-of-type {\n",
       "        vertical-align: middle;\n",
       "    }\n",
       "\n",
       "    .dataframe tbody tr th {\n",
       "        vertical-align: top;\n",
       "    }\n",
       "\n",
       "    .dataframe thead th {\n",
       "        text-align: right;\n",
       "    }\n",
       "</style>\n",
       "<table border=\"1\" class=\"dataframe\">\n",
       "  <thead>\n",
       "    <tr style=\"text-align: right;\">\n",
       "      <th></th>\n",
       "      <th>index</th>\n",
       "      <th>year</th>\n",
       "      <th>count</th>\n",
       "    </tr>\n",
       "  </thead>\n",
       "  <tbody>\n",
       "    <tr>\n",
       "      <th>0</th>\n",
       "      <td>0.0</td>\n",
       "      <td>2014</td>\n",
       "      <td>42.954856</td>\n",
       "    </tr>\n",
       "    <tr>\n",
       "      <th>1</th>\n",
       "      <td>1.0</td>\n",
       "      <td>2014</td>\n",
       "      <td>7.660739</td>\n",
       "    </tr>\n",
       "    <tr>\n",
       "      <th>2</th>\n",
       "      <td>2.0</td>\n",
       "      <td>2014</td>\n",
       "      <td>38.440492</td>\n",
       "    </tr>\n",
       "    <tr>\n",
       "      <th>3</th>\n",
       "      <td>3.0</td>\n",
       "      <td>2014</td>\n",
       "      <td>10.943912</td>\n",
       "    </tr>\n",
       "    <tr>\n",
       "      <th>4</th>\n",
       "      <td>0.0</td>\n",
       "      <td>2015</td>\n",
       "      <td>45.584046</td>\n",
       "    </tr>\n",
       "    <tr>\n",
       "      <th>5</th>\n",
       "      <td>1.0</td>\n",
       "      <td>2015</td>\n",
       "      <td>7.834758</td>\n",
       "    </tr>\n",
       "    <tr>\n",
       "      <th>6</th>\n",
       "      <td>2.0</td>\n",
       "      <td>2015</td>\n",
       "      <td>36.324786</td>\n",
       "    </tr>\n",
       "    <tr>\n",
       "      <th>7</th>\n",
       "      <td>3.0</td>\n",
       "      <td>2015</td>\n",
       "      <td>10.256410</td>\n",
       "    </tr>\n",
       "    <tr>\n",
       "      <th>8</th>\n",
       "      <td>0.0</td>\n",
       "      <td>2016</td>\n",
       "      <td>38.875306</td>\n",
       "    </tr>\n",
       "    <tr>\n",
       "      <th>9</th>\n",
       "      <td>1.0</td>\n",
       "      <td>2016</td>\n",
       "      <td>9.372453</td>\n",
       "    </tr>\n",
       "    <tr>\n",
       "      <th>10</th>\n",
       "      <td>2.0</td>\n",
       "      <td>2016</td>\n",
       "      <td>41.564792</td>\n",
       "    </tr>\n",
       "    <tr>\n",
       "      <th>11</th>\n",
       "      <td>3.0</td>\n",
       "      <td>2016</td>\n",
       "      <td>10.187449</td>\n",
       "    </tr>\n",
       "    <tr>\n",
       "      <th>12</th>\n",
       "      <td>0.0</td>\n",
       "      <td>2017</td>\n",
       "      <td>39.616858</td>\n",
       "    </tr>\n",
       "    <tr>\n",
       "      <th>13</th>\n",
       "      <td>1.0</td>\n",
       "      <td>2017</td>\n",
       "      <td>7.126437</td>\n",
       "    </tr>\n",
       "    <tr>\n",
       "      <th>14</th>\n",
       "      <td>2.0</td>\n",
       "      <td>2017</td>\n",
       "      <td>40.766284</td>\n",
       "    </tr>\n",
       "    <tr>\n",
       "      <th>15</th>\n",
       "      <td>3.0</td>\n",
       "      <td>2017</td>\n",
       "      <td>12.490421</td>\n",
       "    </tr>\n",
       "    <tr>\n",
       "      <th>16</th>\n",
       "      <td>0.0</td>\n",
       "      <td>2018</td>\n",
       "      <td>38.859715</td>\n",
       "    </tr>\n",
       "    <tr>\n",
       "      <th>17</th>\n",
       "      <td>1.0</td>\n",
       "      <td>2018</td>\n",
       "      <td>7.501875</td>\n",
       "    </tr>\n",
       "    <tr>\n",
       "      <th>18</th>\n",
       "      <td>2.0</td>\n",
       "      <td>2018</td>\n",
       "      <td>40.810203</td>\n",
       "    </tr>\n",
       "    <tr>\n",
       "      <th>19</th>\n",
       "      <td>3.0</td>\n",
       "      <td>2018</td>\n",
       "      <td>12.828207</td>\n",
       "    </tr>\n",
       "    <tr>\n",
       "      <th>20</th>\n",
       "      <td>0.0</td>\n",
       "      <td>2019</td>\n",
       "      <td>32.378223</td>\n",
       "    </tr>\n",
       "    <tr>\n",
       "      <th>21</th>\n",
       "      <td>1.0</td>\n",
       "      <td>2019</td>\n",
       "      <td>6.876791</td>\n",
       "    </tr>\n",
       "    <tr>\n",
       "      <th>22</th>\n",
       "      <td>2.0</td>\n",
       "      <td>2019</td>\n",
       "      <td>45.558739</td>\n",
       "    </tr>\n",
       "    <tr>\n",
       "      <th>23</th>\n",
       "      <td>3.0</td>\n",
       "      <td>2019</td>\n",
       "      <td>15.186246</td>\n",
       "    </tr>\n",
       "  </tbody>\n",
       "</table>\n",
       "</div>"
      ],
      "text/plain": [
       "    index  year      count\n",
       "0     0.0  2014  42.954856\n",
       "1     1.0  2014   7.660739\n",
       "2     2.0  2014  38.440492\n",
       "3     3.0  2014  10.943912\n",
       "4     0.0  2015  45.584046\n",
       "5     1.0  2015   7.834758\n",
       "6     2.0  2015  36.324786\n",
       "7     3.0  2015  10.256410\n",
       "8     0.0  2016  38.875306\n",
       "9     1.0  2016   9.372453\n",
       "10    2.0  2016  41.564792\n",
       "11    3.0  2016  10.187449\n",
       "12    0.0  2017  39.616858\n",
       "13    1.0  2017   7.126437\n",
       "14    2.0  2017  40.766284\n",
       "15    3.0  2017  12.490421\n",
       "16    0.0  2018  38.859715\n",
       "17    1.0  2018   7.501875\n",
       "18    2.0  2018  40.810203\n",
       "19    3.0  2018  12.828207\n",
       "20    0.0  2019  32.378223\n",
       "21    1.0  2019   6.876791\n",
       "22    2.0  2019  45.558739\n",
       "23    3.0  2019  15.186246"
      ]
     },
     "execution_count": 33,
     "metadata": {
      "tags": []
     },
     "output_type": "execute_result"
    }
   ],
   "source": [
    "mode_choice_df"
   ]
  },
  {
   "cell_type": "code",
   "execution_count": null,
   "metadata": {
    "colab": {},
    "colab_type": "code",
    "id": "HCa2k0id3MIb"
   },
   "outputs": [],
   "source": [
    "sns.set_context('talk')"
   ]
  },
  {
   "cell_type": "code",
   "execution_count": null,
   "metadata": {
    "colab": {},
    "colab_type": "code",
    "id": "EVcphAQB3MIg",
    "outputId": "733b925d-76b6-4e37-cafe-55f496f75dcd"
   },
   "outputs": [
    {
     "data": {
      "text/plain": [
       "[Text(0, 0.5, 'Percent share'),\n",
       " [Text(0, 0, 'Transit+'),\n",
       "  Text(0, 0, 'Parked'),\n",
       "  Text(0, 0, 'Curbside'),\n",
       "  Text(0, 0, 'TNC+')],\n",
       " Text(0.5, 0, 'Modes')]"
      ]
     },
     "execution_count": 99,
     "metadata": {
      "tags": []
     },
     "output_type": "execute_result"
    },
    {
     "data": {
      "image/png": "[encoded data removed]",
      "text/plain": [
       "<Figure size 1080x720 with 1 Axes>"
      ]
     },
     "metadata": {
      "needs_background": "light",
      "tags": []
     },
     "output_type": "display_data"
    }
   ],
   "source": [
    "fig, ax = plt.subplots(1, 1, figsize=(15,10))\n",
    "sns.barplot(x = mode_choice_df['index'], y = mode_choice_df['count'], hue=mode_choice_df['year'], ax=ax)\n",
    "ax.set(xlabel=\"Modes\", ylabel=\"Percent share\", xticklabels=[\"Transit+\", \"Parked\", \"Curbside\", \"TNC+\"])\n",
    "#ax.legend(labels=[\"Actual data from 1990-2018\", \"LSTM Forecast\", \"Official Forecast\"])"
   ]
  },
  {
   "cell_type": "markdown",
   "metadata": {
    "colab_type": "text",
    "id": "8xIYUoOU3MIk"
   },
   "source": [
    "# Perform the modeling "
   ]
  },
  {
   "cell_type": "code",
   "execution_count": null,
   "metadata": {
    "colab": {},
    "colab_type": "code",
    "id": "vCkYqZmD3MIm"
   },
   "outputs": [],
   "source": [
    "mul_lr_results =  {}\n",
    "svc_results = {}\n",
    "dt_results = {}\n",
    "rfc_results = {}\n",
    "keras_results = {}\n",
    "gbm_results = {}"
   ]
  },
  {
   "cell_type": "code",
   "execution_count": null,
   "metadata": {
    "colab": {},
    "colab_type": "code",
    "id": "T1Qd0h3r3MIp"
   },
   "outputs": [],
   "source": [
    "df1 = mode_choice_data_dfs['2014']"
   ]
  },
  {
   "cell_type": "code",
   "execution_count": null,
   "metadata": {
    "colab": {},
    "colab_type": "code",
    "id": "ku-rDkvy3MIs",
    "outputId": "857440a2-6d92-44a2-9018-d8d4f10c259d"
   },
   "outputs": [
    {
     "name": "stdout",
     "output_type": "stream",
     "text": [
      "<class 'pandas.core.frame.DataFrame'>\n",
      "Int64Index: 731 entries, 0 to 762\n",
      "Data columns (total 9 columns):\n",
      "What is the scheduled departure time?    0 non-null object\n",
      "Domestic                                 731 non-null category\n",
      "Luggage                                  731 non-null category\n",
      "business                                 731 non-null category\n",
      "age                                      731 non-null float64\n",
      "income                                   731 non-null category\n",
      "Date_year                                731 non-null category\n",
      "Date_month                               731 non-null category\n",
      "mode_choice_formatted                    731 non-null category\n",
      "dtypes: category(7), float64(1), object(1)\n",
      "memory usage: 24.8+ KB\n"
     ]
    }
   ],
   "source": [
    "df1.info()"
   ]
  },
  {
   "cell_type": "code",
   "execution_count": null,
   "metadata": {
    "colab": {},
    "colab_type": "code",
    "id": "l7BfMN9I3MIw",
    "outputId": "abed6483-6a35-419e-9186-8d3b05b5a4fe"
   },
   "outputs": [
    {
     "data": {
      "text/plain": [
       "count     731\n",
       "unique      4\n",
       "top         0\n",
       "freq      314\n",
       "Name: mode_choice_formatted, dtype: int64"
      ]
     },
     "execution_count": 39,
     "metadata": {
      "tags": []
     },
     "output_type": "execute_result"
    }
   ],
   "source": [
    "df1['mode_choice_formatted'].describe()"
   ]
  },
  {
   "cell_type": "markdown",
   "metadata": {
    "colab_type": "text",
    "id": "uDLNIyk_3MI0"
   },
   "source": [
    "## Preparing for regression"
   ]
  },
  {
   "cell_type": "code",
   "execution_count": null,
   "metadata": {
    "colab": {},
    "colab_type": "code",
    "id": "8qSRjY263MI0"
   },
   "outputs": [],
   "source": [
    "# Get X, y \n",
    "X = df1[['Domestic', 'Luggage', 'business', 'age', 'income', 'Date_month']]\n",
    "y = df1[['mode_choice_formatted']]\n"
   ]
  },
  {
   "cell_type": "code",
   "execution_count": null,
   "metadata": {
    "colab": {},
    "colab_type": "code",
    "id": "QKd2ziKy3MI4",
    "outputId": "48b2a793-0cd3-40fc-fa3b-d7543f972ad8"
   },
   "outputs": [
    {
     "data": {
      "text/html": [
       "<div>\n",
       "<style scoped>\n",
       "    .dataframe tbody tr th:only-of-type {\n",
       "        vertical-align: middle;\n",
       "    }\n",
       "\n",
       "    .dataframe tbody tr th {\n",
       "        vertical-align: top;\n",
       "    }\n",
       "\n",
       "    .dataframe thead th {\n",
       "        text-align: right;\n",
       "    }\n",
       "</style>\n",
       "<table border=\"1\" class=\"dataframe\">\n",
       "  <thead>\n",
       "    <tr style=\"text-align: right;\">\n",
       "      <th></th>\n",
       "      <th>Domestic</th>\n",
       "      <th>Luggage</th>\n",
       "      <th>business</th>\n",
       "      <th>age</th>\n",
       "      <th>income</th>\n",
       "      <th>Date_month</th>\n",
       "    </tr>\n",
       "  </thead>\n",
       "  <tbody>\n",
       "    <tr>\n",
       "      <th>0</th>\n",
       "      <td>1</td>\n",
       "      <td>2</td>\n",
       "      <td>1</td>\n",
       "      <td>45.0</td>\n",
       "      <td>4</td>\n",
       "      <td>1</td>\n",
       "    </tr>\n",
       "    <tr>\n",
       "      <th>1</th>\n",
       "      <td>1</td>\n",
       "      <td>2</td>\n",
       "      <td>1</td>\n",
       "      <td>52.0</td>\n",
       "      <td>4</td>\n",
       "      <td>1</td>\n",
       "    </tr>\n",
       "    <tr>\n",
       "      <th>2</th>\n",
       "      <td>0</td>\n",
       "      <td>4</td>\n",
       "      <td>0</td>\n",
       "      <td>60.0</td>\n",
       "      <td>4</td>\n",
       "      <td>1</td>\n",
       "    </tr>\n",
       "    <tr>\n",
       "      <th>3</th>\n",
       "      <td>0</td>\n",
       "      <td>1</td>\n",
       "      <td>0</td>\n",
       "      <td>36.0</td>\n",
       "      <td>2</td>\n",
       "      <td>1</td>\n",
       "    </tr>\n",
       "    <tr>\n",
       "      <th>4</th>\n",
       "      <td>0</td>\n",
       "      <td>3</td>\n",
       "      <td>0</td>\n",
       "      <td>45.0</td>\n",
       "      <td>2</td>\n",
       "      <td>1</td>\n",
       "    </tr>\n",
       "  </tbody>\n",
       "</table>\n",
       "</div>"
      ],
      "text/plain": [
       "  Domestic Luggage business   age income Date_month\n",
       "0        1       2        1  45.0      4          1\n",
       "1        1       2        1  52.0      4          1\n",
       "2        0       4        0  60.0      4          1\n",
       "3        0       1        0  36.0      2          1\n",
       "4        0       3        0  45.0      2          1"
      ]
     },
     "execution_count": 41,
     "metadata": {
      "tags": []
     },
     "output_type": "execute_result"
    }
   ],
   "source": [
    "X.head()"
   ]
  },
  {
   "cell_type": "code",
   "execution_count": null,
   "metadata": {
    "colab": {},
    "colab_type": "code",
    "id": "p76CJ22y3MI_",
    "outputId": "8c1b0357-92e5-4988-e9f9-2364b361bcd2"
   },
   "outputs": [
    {
     "name": "stderr",
     "output_type": "stream",
     "text": [
      "/home/chintan/anaconda3/envs/keras2/lib/python3.6/site-packages/ipykernel_launcher.py:3: SettingWithCopyWarning: \n",
      "A value is trying to be set on a copy of a slice from a DataFrame.\n",
      "Try using .loc[row_indexer,col_indexer] = value instead\n",
      "\n",
      "See the caveats in the documentation: http://pandas.pydata.org/pandas-docs/stable/indexing.html#indexing-view-versus-copy\n",
      "  This is separate from the ipykernel package so we can avoid doing imports until\n"
     ]
    }
   ],
   "source": [
    "# Scale the age variable\n",
    "scaler = MinMaxScaler()\n",
    "X['age'] = scaler.fit_transform(X['age'].to_numpy().reshape(-1,1)).ravel()"
   ]
  },
  {
   "cell_type": "code",
   "execution_count": null,
   "metadata": {
    "colab": {},
    "colab_type": "code",
    "id": "xv-7dFHr3MJD",
    "outputId": "b78875f1-5037-4aff-c85f-2622e66d6682"
   },
   "outputs": [
    {
     "data": {
      "text/plain": [
       "0    0.342105\n",
       "1    0.434211\n",
       "2    0.539474\n",
       "3    0.223684\n",
       "4    0.342105\n",
       "Name: age, dtype: float64"
      ]
     },
     "execution_count": 43,
     "metadata": {
      "tags": []
     },
     "output_type": "execute_result"
    }
   ],
   "source": [
    "X['age'].head()"
   ]
  },
  {
   "cell_type": "code",
   "execution_count": null,
   "metadata": {
    "colab": {},
    "colab_type": "code",
    "id": "gUCsraEI3MJG",
    "outputId": "cc25041c-8445-49d1-f287-def029ce5060"
   },
   "outputs": [
    {
     "data": {
      "text/plain": [
       "0    0.342105\n",
       "1    0.434211\n",
       "2    0.539474\n",
       "3    0.223684\n",
       "4    0.342105\n",
       "Name: age, dtype: float64"
      ]
     },
     "execution_count": 44,
     "metadata": {
      "tags": []
     },
     "output_type": "execute_result"
    }
   ],
   "source": [
    "X['age'].head()"
   ]
  },
  {
   "cell_type": "code",
   "execution_count": null,
   "metadata": {
    "colab": {},
    "colab_type": "code",
    "id": "0R9fIVer3MJJ"
   },
   "outputs": [],
   "source": [
    "# Create the test-train split\n",
    "X_train, X_test, y_train, y_test = train_test_split(\n",
    "     X, y, test_size=0.2, random_state=42)\n",
    "X_train.reset_index(inplace=True, drop=True)\n",
    "X_train.reset_index(inplace=True, drop=True)"
   ]
  },
  {
   "cell_type": "code",
   "execution_count": null,
   "metadata": {
    "colab": {},
    "colab_type": "code",
    "id": "OFiJwv2H3MJL",
    "outputId": "c8b5cc94-e4f3-4fca-ecbd-d2278187134d"
   },
   "outputs": [
    {
     "data": {
      "text/html": [
       "<div>\n",
       "<style scoped>\n",
       "    .dataframe tbody tr th:only-of-type {\n",
       "        vertical-align: middle;\n",
       "    }\n",
       "\n",
       "    .dataframe tbody tr th {\n",
       "        vertical-align: top;\n",
       "    }\n",
       "\n",
       "    .dataframe thead th {\n",
       "        text-align: right;\n",
       "    }\n",
       "</style>\n",
       "<table border=\"1\" class=\"dataframe\">\n",
       "  <thead>\n",
       "    <tr style=\"text-align: right;\">\n",
       "      <th></th>\n",
       "      <th>Domestic</th>\n",
       "      <th>Luggage</th>\n",
       "      <th>business</th>\n",
       "      <th>age</th>\n",
       "      <th>income</th>\n",
       "      <th>Date_month</th>\n",
       "    </tr>\n",
       "  </thead>\n",
       "  <tbody>\n",
       "    <tr>\n",
       "      <th>0</th>\n",
       "      <td>1</td>\n",
       "      <td>3</td>\n",
       "      <td>0</td>\n",
       "      <td>0.118421</td>\n",
       "      <td>3</td>\n",
       "      <td>11</td>\n",
       "    </tr>\n",
       "    <tr>\n",
       "      <th>1</th>\n",
       "      <td>1</td>\n",
       "      <td>3</td>\n",
       "      <td>0</td>\n",
       "      <td>0.197368</td>\n",
       "      <td>4</td>\n",
       "      <td>5</td>\n",
       "    </tr>\n",
       "    <tr>\n",
       "      <th>2</th>\n",
       "      <td>1</td>\n",
       "      <td>1</td>\n",
       "      <td>0</td>\n",
       "      <td>0.421053</td>\n",
       "      <td>2</td>\n",
       "      <td>5</td>\n",
       "    </tr>\n",
       "    <tr>\n",
       "      <th>3</th>\n",
       "      <td>1</td>\n",
       "      <td>2</td>\n",
       "      <td>1</td>\n",
       "      <td>0.407895</td>\n",
       "      <td>4</td>\n",
       "      <td>5</td>\n",
       "    </tr>\n",
       "    <tr>\n",
       "      <th>4</th>\n",
       "      <td>1</td>\n",
       "      <td>4</td>\n",
       "      <td>0</td>\n",
       "      <td>0.078947</td>\n",
       "      <td>2</td>\n",
       "      <td>8</td>\n",
       "    </tr>\n",
       "  </tbody>\n",
       "</table>\n",
       "</div>"
      ],
      "text/plain": [
       "  Domestic Luggage business       age income Date_month\n",
       "0        1       3        0  0.118421      3         11\n",
       "1        1       3        0  0.197368      4          5\n",
       "2        1       1        0  0.421053      2          5\n",
       "3        1       2        1  0.407895      4          5\n",
       "4        1       4        0  0.078947      2          8"
      ]
     },
     "execution_count": 46,
     "metadata": {
      "tags": []
     },
     "output_type": "execute_result"
    }
   ],
   "source": [
    "X_train.head()"
   ]
  },
  {
   "cell_type": "code",
   "execution_count": null,
   "metadata": {
    "colab": {},
    "colab_type": "code",
    "id": "bB_WMwnT3MJO",
    "outputId": "9df1e687-0823-4015-85d6-70f70016c05d"
   },
   "outputs": [
    {
     "data": {
      "text/html": [
       "<div>\n",
       "<style scoped>\n",
       "    .dataframe tbody tr th:only-of-type {\n",
       "        vertical-align: middle;\n",
       "    }\n",
       "\n",
       "    .dataframe tbody tr th {\n",
       "        vertical-align: top;\n",
       "    }\n",
       "\n",
       "    .dataframe thead th {\n",
       "        text-align: right;\n",
       "    }\n",
       "</style>\n",
       "<table border=\"1\" class=\"dataframe\">\n",
       "  <thead>\n",
       "    <tr style=\"text-align: right;\">\n",
       "      <th></th>\n",
       "      <th>Domestic</th>\n",
       "      <th>Luggage</th>\n",
       "      <th>business</th>\n",
       "      <th>age</th>\n",
       "      <th>income</th>\n",
       "      <th>Date_month</th>\n",
       "    </tr>\n",
       "  </thead>\n",
       "  <tbody>\n",
       "    <tr>\n",
       "      <th>734</th>\n",
       "      <td>1</td>\n",
       "      <td>2</td>\n",
       "      <td>1</td>\n",
       "      <td>0.394737</td>\n",
       "      <td>4</td>\n",
       "      <td>11</td>\n",
       "    </tr>\n",
       "    <tr>\n",
       "      <th>35</th>\n",
       "      <td>1</td>\n",
       "      <td>1</td>\n",
       "      <td>0</td>\n",
       "      <td>0.118421</td>\n",
       "      <td>0</td>\n",
       "      <td>2</td>\n",
       "    </tr>\n",
       "    <tr>\n",
       "      <th>311</th>\n",
       "      <td>1</td>\n",
       "      <td>3</td>\n",
       "      <td>0</td>\n",
       "      <td>0.618421</td>\n",
       "      <td>0</td>\n",
       "      <td>5</td>\n",
       "    </tr>\n",
       "    <tr>\n",
       "      <th>478</th>\n",
       "      <td>1</td>\n",
       "      <td>2</td>\n",
       "      <td>0</td>\n",
       "      <td>0.526316</td>\n",
       "      <td>1</td>\n",
       "      <td>8</td>\n",
       "    </tr>\n",
       "    <tr>\n",
       "      <th>663</th>\n",
       "      <td>1</td>\n",
       "      <td>2</td>\n",
       "      <td>1</td>\n",
       "      <td>0.578947</td>\n",
       "      <td>3</td>\n",
       "      <td>11</td>\n",
       "    </tr>\n",
       "  </tbody>\n",
       "</table>\n",
       "</div>"
      ],
      "text/plain": [
       "    Domestic Luggage business       age income Date_month\n",
       "734        1       2        1  0.394737      4         11\n",
       "35         1       1        0  0.118421      0          2\n",
       "311        1       3        0  0.618421      0          5\n",
       "478        1       2        0  0.526316      1          8\n",
       "663        1       2        1  0.578947      3         11"
      ]
     },
     "execution_count": 47,
     "metadata": {
      "tags": []
     },
     "output_type": "execute_result"
    }
   ],
   "source": [
    "X_test.head()"
   ]
  },
  {
   "cell_type": "code",
   "execution_count": null,
   "metadata": {
    "colab": {},
    "colab_type": "code",
    "id": "DjaxikZs3MJR"
   },
   "outputs": [],
   "source": [
    "# Create a model object\n",
    "mul_lr_df1 = LogisticRegression(multi_class='multinomial', solver='newton-cg').fit(X_train, np.ravel(y_train))"
   ]
  },
  {
   "cell_type": "code",
   "execution_count": null,
   "metadata": {
    "colab": {},
    "colab_type": "code",
    "id": "6ffevaq13MJg",
    "outputId": "3b2d15cd-fab6-4024-baba-2e792feea2a7"
   },
   "outputs": [
    {
     "data": {
      "text/plain": [
       "pandas.core.frame.DataFrame"
      ]
     },
     "execution_count": 49,
     "metadata": {
      "tags": []
     },
     "output_type": "execute_result"
    }
   ],
   "source": [
    "type(X_train)"
   ]
  },
  {
   "cell_type": "code",
   "execution_count": null,
   "metadata": {
    "colab": {},
    "colab_type": "code",
    "id": "qZhLhZdE3MJp"
   },
   "outputs": [],
   "source": [
    "mul_lr_score = mul_lr_df1.score(X_train, np.ravel(y_train))"
   ]
  },
  {
   "cell_type": "code",
   "execution_count": null,
   "metadata": {
    "colab": {},
    "colab_type": "code",
    "id": "iO0Wy9Cq3MJr"
   },
   "outputs": [],
   "source": [
    "mul_lr_predict = mul_lr_df1.predict(X_test)"
   ]
  },
  {
   "cell_type": "code",
   "execution_count": null,
   "metadata": {
    "colab": {},
    "colab_type": "code",
    "id": "8oewNYao3MJu"
   },
   "outputs": [],
   "source": [
    "mul_lr_results[2014] = {\n",
    "    \"score\": mul_lr_score, \n",
    "    \"predict\": mul_lr_predict\n",
    "    }"
   ]
  },
  {
   "cell_type": "code",
   "execution_count": null,
   "metadata": {
    "colab": {},
    "colab_type": "code",
    "id": "7sx76P_S3MJw"
   },
   "outputs": [],
   "source": [
    "svc_df1 =  SVC(gamma='auto')"
   ]
  },
  {
   "cell_type": "code",
   "execution_count": null,
   "metadata": {
    "colab": {},
    "colab_type": "code",
    "id": "Pv9qjzdp3MJy",
    "outputId": "7c40e088-2b80-44a3-bcc6-e2549d624641"
   },
   "outputs": [
    {
     "data": {
      "text/plain": [
       "SVC(C=1.0, cache_size=200, class_weight=None, coef0=0.0,\n",
       "  decision_function_shape='ovr', degree=3, gamma='auto', kernel='rbf',\n",
       "  max_iter=-1, probability=False, random_state=None, shrinking=True,\n",
       "  tol=0.001, verbose=False)"
      ]
     },
     "execution_count": 54,
     "metadata": {
      "tags": []
     },
     "output_type": "execute_result"
    }
   ],
   "source": [
    "svc_df1.fit(X_train, np.ravel(y_train))"
   ]
  },
  {
   "cell_type": "code",
   "execution_count": null,
   "metadata": {
    "colab": {},
    "colab_type": "code",
    "id": "JQbeB3p-3MJ3"
   },
   "outputs": [],
   "source": [
    "svc_score = svc_df1.score(X_train, np.ravel(y_train))"
   ]
  },
  {
   "cell_type": "code",
   "execution_count": null,
   "metadata": {
    "colab": {},
    "colab_type": "code",
    "id": "L9HTavTz3MJ5"
   },
   "outputs": [],
   "source": [
    "svc_predict = svc_df1.predict(X_test)"
   ]
  },
  {
   "cell_type": "code",
   "execution_count": null,
   "metadata": {
    "colab": {},
    "colab_type": "code",
    "id": "WVMETXhC3MJ8"
   },
   "outputs": [],
   "source": [
    "svc_results[2014] = {\n",
    "    \"score\": svc_score, \n",
    "    \"predict\": svc_predict\n",
    "    }"
   ]
  },
  {
   "cell_type": "code",
   "execution_count": null,
   "metadata": {
    "colab": {},
    "colab_type": "code",
    "id": "Ip-KT-4i3MJ-"
   },
   "outputs": [],
   "source": [
    "rfc_df1 = RandomForestClassifier(n_estimators = 10, criterion = 'entropy', random_state = 42)"
   ]
  },
  {
   "cell_type": "code",
   "execution_count": null,
   "metadata": {
    "colab": {},
    "colab_type": "code",
    "id": "fCCuKHdW3MKA",
    "outputId": "405dbc82-e5b5-4dca-da4a-fb64978dd5f9"
   },
   "outputs": [
    {
     "data": {
      "text/plain": [
       "RandomForestClassifier(bootstrap=True, class_weight=None, criterion='entropy',\n",
       "            max_depth=None, max_features='auto', max_leaf_nodes=None,\n",
       "            min_impurity_decrease=0.0, min_impurity_split=None,\n",
       "            min_samples_leaf=1, min_samples_split=2,\n",
       "            min_weight_fraction_leaf=0.0, n_estimators=10, n_jobs=None,\n",
       "            oob_score=False, random_state=42, verbose=0, warm_start=False)"
      ]
     },
     "execution_count": 59,
     "metadata": {
      "tags": []
     },
     "output_type": "execute_result"
    }
   ],
   "source": [
    "rfc_df1.fit(X_train, np.ravel(y_train))"
   ]
  },
  {
   "cell_type": "code",
   "execution_count": null,
   "metadata": {
    "colab": {},
    "colab_type": "code",
    "id": "nf380JyH3MKD"
   },
   "outputs": [],
   "source": [
    "rfc_score = rfc_df1.score(X_train, np.ravel(y_train))"
   ]
  },
  {
   "cell_type": "code",
   "execution_count": null,
   "metadata": {
    "colab": {},
    "colab_type": "code",
    "id": "0bTyHuMF3MKK"
   },
   "outputs": [],
   "source": [
    "rfc_predict = rfc_df1.predict(X_test)"
   ]
  },
  {
   "cell_type": "code",
   "execution_count": null,
   "metadata": {
    "colab": {},
    "colab_type": "code",
    "id": "r9h16JfP3MKM"
   },
   "outputs": [],
   "source": [
    "rfc_results[2014] = {\n",
    "    \"score\": rfc_score, \n",
    "    \"predict\": rfc_predict\n",
    "    }"
   ]
  },
  {
   "cell_type": "code",
   "execution_count": null,
   "metadata": {
    "colab": {},
    "colab_type": "code",
    "id": "KqcNB4Uq3MKN"
   },
   "outputs": [],
   "source": [
    "gbm_df1 = GradientBoostingClassifier(random_state=10)"
   ]
  },
  {
   "cell_type": "code",
   "execution_count": null,
   "metadata": {
    "colab": {},
    "colab_type": "code",
    "id": "bGTF2SdA3MKP",
    "outputId": "b04b4b93-c128-4916-fa9f-c6912b6afac9"
   },
   "outputs": [
    {
     "data": {
      "text/plain": [
       "GradientBoostingClassifier(criterion='friedman_mse', init=None,\n",
       "              learning_rate=0.1, loss='deviance', max_depth=3,\n",
       "              max_features=None, max_leaf_nodes=None,\n",
       "              min_impurity_decrease=0.0, min_impurity_split=None,\n",
       "              min_samples_leaf=1, min_samples_split=2,\n",
       "              min_weight_fraction_leaf=0.0, n_estimators=100,\n",
       "              n_iter_no_change=None, presort='auto', random_state=10,\n",
       "              subsample=1.0, tol=0.0001, validation_fraction=0.1,\n",
       "              verbose=0, warm_start=False)"
      ]
     },
     "execution_count": 64,
     "metadata": {
      "tags": []
     },
     "output_type": "execute_result"
    }
   ],
   "source": [
    "gbm_df1.fit(X_train, np.ravel(y_train))"
   ]
  },
  {
   "cell_type": "code",
   "execution_count": null,
   "metadata": {
    "colab": {},
    "colab_type": "code",
    "id": "YViyWgVN3MKU"
   },
   "outputs": [],
   "source": [
    "gbm_score = gbm_df1.score(X_train, np.ravel(y_train))"
   ]
  },
  {
   "cell_type": "code",
   "execution_count": null,
   "metadata": {
    "colab": {},
    "colab_type": "code",
    "id": "rB3XlG6N3MKY"
   },
   "outputs": [],
   "source": [
    "gbm_predict = gbm_df1.predict(X_test)"
   ]
  },
  {
   "cell_type": "code",
   "execution_count": null,
   "metadata": {
    "colab": {},
    "colab_type": "code",
    "id": "kmM-KUqB3MKZ"
   },
   "outputs": [],
   "source": [
    "gbm_results[2014] = {\n",
    "    \"score\": gbm_score, \n",
    "    \"predict\": gbm_predict\n",
    "    }"
   ]
  },
  {
   "cell_type": "code",
   "execution_count": null,
   "metadata": {
    "colab": {},
    "colab_type": "code",
    "id": "DYsfHjRG3MKc"
   },
   "outputs": [],
   "source": [
    "dt_df1 = tree.DecisionTreeClassifier(max_depth=100)"
   ]
  },
  {
   "cell_type": "code",
   "execution_count": null,
   "metadata": {
    "colab": {},
    "colab_type": "code",
    "id": "BlMEnkpF3MKd"
   },
   "outputs": [],
   "source": [
    "dt_df1 = dt_df1.fit(X_train, np.ravel(y_train))"
   ]
  },
  {
   "cell_type": "code",
   "execution_count": null,
   "metadata": {
    "colab": {},
    "colab_type": "code",
    "id": "UTEAYnhJ3MKf"
   },
   "outputs": [],
   "source": [
    "dt_score = dt_df1.score(X_train, np.ravel(y_train))"
   ]
  },
  {
   "cell_type": "code",
   "execution_count": null,
   "metadata": {
    "colab": {},
    "colab_type": "code",
    "id": "z6fYOdv23MKi"
   },
   "outputs": [],
   "source": [
    "dt_predict = dt_df1.predict(X_test)"
   ]
  },
  {
   "cell_type": "code",
   "execution_count": null,
   "metadata": {
    "colab": {},
    "colab_type": "code",
    "id": "8biknYRz3MKl"
   },
   "outputs": [],
   "source": [
    "dt_results[2014] = {\n",
    "    \"score\": dt_score, \n",
    "    \"predict\": dt_predict\n",
    "    }"
   ]
  },
  {
   "cell_type": "markdown",
   "metadata": {
    "colab_type": "text",
    "id": "VapABQE23MKm"
   },
   "source": [
    "## Trying Keras "
   ]
  },
  {
   "cell_type": "code",
   "execution_count": null,
   "metadata": {
    "colab": {},
    "colab_type": "code",
    "id": "cDMubErS3MKn"
   },
   "outputs": [],
   "source": [
    "dummy_y = np_utils.to_categorical(y, num_classes=4)"
   ]
  },
  {
   "cell_type": "code",
   "execution_count": null,
   "metadata": {
    "colab": {},
    "colab_type": "code",
    "id": "1SxyCgEn3MKp",
    "outputId": "f7504ebc-08bd-4b46-d4c2-7a656d629777"
   },
   "outputs": [
    {
     "data": {
      "text/plain": [
       "array([[0., 0., 1., 0.],\n",
       "       [1., 0., 0., 0.],\n",
       "       [1., 0., 0., 0.],\n",
       "       ...,\n",
       "       [0., 0., 0., 1.],\n",
       "       [0., 1., 0., 0.],\n",
       "       [0., 0., 1., 0.]], dtype=float32)"
      ]
     },
     "execution_count": 74,
     "metadata": {
      "tags": []
     },
     "output_type": "execute_result"
    }
   ],
   "source": [
    "dummy_y"
   ]
  },
  {
   "cell_type": "code",
   "execution_count": null,
   "metadata": {
    "colab": {},
    "colab_type": "code",
    "id": "fe2iibr33MKs"
   },
   "outputs": [],
   "source": [
    "seed = 7\n",
    "np.random.seed(seed)"
   ]
  },
  {
   "cell_type": "code",
   "execution_count": null,
   "metadata": {
    "colab": {},
    "colab_type": "code",
    "id": "OoSnnsIJ3MKu"
   },
   "outputs": [],
   "source": [
    "# define baseline model\n",
    "def baseline_model():\n",
    "\t# create model\n",
    "\tmodel = Sequential()\n",
    "\tmodel.add(Dense(5, input_dim=input_dim, init='normal', activation='relu'))\n",
    "\tmodel.add(Dense(4, init='normal', activation='sigmoid'))\n",
    "\t# Compile model\n",
    "\tmodel.compile(loss='categorical_crossentropy', optimizer='adam', metrics=['accuracy'])\n",
    "\treturn model"
   ]
  },
  {
   "cell_type": "code",
   "execution_count": null,
   "metadata": {
    "colab": {},
    "colab_type": "code",
    "id": "Jqw7dwDQ3MKw"
   },
   "outputs": [],
   "source": [
    "estimator = KerasClassifier(build_fn=baseline_model, nb_epoch=200, verbose=0)\n",
    "X_train, X_test, Y_train, Y_test = train_test_split(np.array(X), dummy_y, test_size=0.2, random_state=seed)"
   ]
  },
  {
   "cell_type": "code",
   "execution_count": null,
   "metadata": {
    "colab": {},
    "colab_type": "code",
    "id": "VVsXwpRD3MKx"
   },
   "outputs": [],
   "source": [
    "input_dim = X.shape[1]"
   ]
  },
  {
   "cell_type": "code",
   "execution_count": null,
   "metadata": {
    "colab": {},
    "colab_type": "code",
    "id": "Fhm20vtB3MK0"
   },
   "outputs": [],
   "source": [
    "#X_train = np.array(X_train)"
   ]
  },
  {
   "cell_type": "code",
   "execution_count": null,
   "metadata": {
    "colab": {},
    "colab_type": "code",
    "id": "Tt_r4O4I3MK2",
    "outputId": "f47e13e3-1fb9-4683-b42a-1ab0a411fc36"
   },
   "outputs": [
    {
     "data": {
      "text/plain": [
       "6"
      ]
     },
     "execution_count": 80,
     "metadata": {
      "tags": []
     },
     "output_type": "execute_result"
    }
   ],
   "source": [
    "input_dim"
   ]
  },
  {
   "cell_type": "code",
   "execution_count": null,
   "metadata": {
    "colab": {},
    "colab_type": "code",
    "id": "G9_DzDU-3MK4",
    "outputId": "8aad9867-f4d2-4178-c4ce-5b2b3e47586d"
   },
   "outputs": [
    {
     "name": "stdout",
     "output_type": "stream",
     "text": [
      "WARNING:tensorflow:From /home/chintan/anaconda3/envs/keras2/lib/python3.6/site-packages/tensorflow/python/framework/op_def_library.py:263: colocate_with (from tensorflow.python.framework.ops) is deprecated and will be removed in a future version.\n",
      "Instructions for updating:\n",
      "Colocations handled automatically by placer.\n",
      "WARNING:tensorflow:From /home/chintan/anaconda3/envs/keras2/lib/python3.6/site-packages/tensorflow/python/ops/math_ops.py:3066: to_int32 (from tensorflow.python.ops.math_ops) is deprecated and will be removed in a future version.\n",
      "Instructions for updating:\n",
      "Use tf.cast instead.\n"
     ]
    }
   ],
   "source": [
    "model = Sequential()\n",
    "model.add(Dense(250, input_shape=(input_dim,) , activation = 'relu'))\n",
    "model.add(Dense(250, activation = 'relu'))\n",
    "model.add(Dense(250, activation = 'relu'))\n",
    "model.add(Dense(250, activation = 'relu'))\n",
    "model.add(Dense(4, activation = 'softmax'))\n",
    "\n",
    "model.compile(loss = 'categorical_crossentropy' , optimizer = 'adam' , metrics = ['accuracy'] )\n",
    "\n",
    "hist = model.fit(X_train, Y_train, epochs = 5000, verbose=0)\n",
    "\n",
    "#scores = model.evaluate(X_test, Y_test)\n",
    "#print(\"\\n%s: %.2f%%\" % (model.metrics_names[1], scores[1]*100))"
   ]
  },
  {
   "cell_type": "code",
   "execution_count": null,
   "metadata": {
    "colab": {},
    "colab_type": "code",
    "id": "PvqmGuKA3MK7"
   },
   "outputs": [],
   "source": [
    "keras_score = hist.history.get('acc')[-1]"
   ]
  },
  {
   "cell_type": "code",
   "execution_count": null,
   "metadata": {
    "colab": {},
    "colab_type": "code",
    "id": "nQxIeHxh3MK9"
   },
   "outputs": [],
   "source": [
    "keras_predict = model.predict_classes(X_test)"
   ]
  },
  {
   "cell_type": "code",
   "execution_count": null,
   "metadata": {
    "colab": {},
    "colab_type": "code",
    "id": "G7cvO5XV3MLB",
    "outputId": "c919e188-6a7f-4d74-f34b-b421f3b3e071"
   },
   "outputs": [
    {
     "data": {
      "text/plain": [
       "array([1, 0, 2, 0, 0, 3, 3, 2, 0, 2, 0, 3, 0, 0, 1, 1, 2, 1, 2, 2, 2, 0,\n",
       "       0, 2, 3, 0, 0, 1, 0, 0, 0, 2, 2, 0, 0, 2, 0, 2, 3, 2, 0, 1, 2, 3,\n",
       "       0, 0, 1, 0, 0, 2, 0, 2, 3, 0, 2, 2, 2, 1, 2, 0, 2, 0, 0, 0, 0, 0,\n",
       "       3, 2, 0, 2, 3, 3, 0, 0, 0, 0, 0, 0, 2, 0, 2, 0, 0, 0, 0, 2, 1, 2,\n",
       "       2, 2, 0, 2, 0, 3, 2, 0, 0, 2, 0, 2, 0, 3, 2, 2, 2, 0, 3, 3, 3, 2,\n",
       "       1, 0, 0, 3, 2, 2, 3, 0, 0, 1, 0, 0, 0, 0, 3, 2, 0, 2, 0, 2, 3, 2,\n",
       "       2, 2, 0, 2, 2, 2, 0, 0, 0, 3, 2, 2, 2, 2, 2])"
      ]
     },
     "execution_count": 84,
     "metadata": {
      "tags": []
     },
     "output_type": "execute_result"
    }
   ],
   "source": [
    "keras_predict"
   ]
  },
  {
   "cell_type": "code",
   "execution_count": null,
   "metadata": {
    "colab": {},
    "colab_type": "code",
    "id": "y5bsFDa73MLE"
   },
   "outputs": [],
   "source": [
    "keras_results[2014] = {\n",
    "    \"score\": keras_score, \n",
    "    \"predict\": keras_predict\n",
    "    }"
   ]
  },
  {
   "cell_type": "markdown",
   "metadata": {
    "colab_type": "text",
    "id": "w2IUR1Lb3MLG"
   },
   "source": [
    "## Perform the modeling and prediction for other years"
   ]
  },
  {
   "cell_type": "code",
   "execution_count": null,
   "metadata": {
    "colab": {},
    "colab_type": "code",
    "id": "jT7Juuqf3MLG"
   },
   "outputs": [],
   "source": [
    "df1 = mode_choice_data_dfs['2015']"
   ]
  },
  {
   "cell_type": "code",
   "execution_count": null,
   "metadata": {
    "colab": {},
    "colab_type": "code",
    "id": "WCqr9CTs3MLJ"
   },
   "outputs": [],
   "source": [
    "X = df1[['Domestic', 'Luggage', 'business', 'age', 'income', 'Date_month', 'What is the scheduled departure time?']]"
   ]
  },
  {
   "cell_type": "code",
   "execution_count": null,
   "metadata": {
    "colab": {},
    "colab_type": "code",
    "id": "4UOH2cmQ3MLL",
    "outputId": "3f7e573f-3ee8-40c4-d11c-f45910211568"
   },
   "outputs": [
    {
     "name": "stdout",
     "output_type": "stream",
     "text": [
      "<class 'pandas.core.frame.DataFrame'>\n",
      "Int64Index: 702 entries, 763 to 1500\n",
      "Data columns (total 7 columns):\n",
      "Domestic                                 702 non-null category\n",
      "Luggage                                  702 non-null category\n",
      "business                                 702 non-null category\n",
      "age                                      702 non-null float64\n",
      "income                                   702 non-null category\n",
      "Date_month                               702 non-null category\n",
      "What is the scheduled departure time?    702 non-null object\n",
      "dtypes: category(5), float64(1), object(1)\n",
      "memory usage: 22.2+ KB\n"
     ]
    }
   ],
   "source": [
    "X.info()"
   ]
  },
  {
   "cell_type": "code",
   "execution_count": null,
   "metadata": {
    "colab": {},
    "colab_type": "code",
    "id": "fXsRJRvB3MLN",
    "outputId": "fc0c2a89-db73-428b-8c91-46c3a73bfc9d"
   },
   "outputs": [
    {
     "name": "stderr",
     "output_type": "stream",
     "text": [
      "/home/chintan/anaconda3/envs/keras2/lib/python3.6/site-packages/ipykernel_launcher.py:1: SettingWithCopyWarning: \n",
      "A value is trying to be set on a copy of a slice from a DataFrame.\n",
      "Try using .loc[row_indexer,col_indexer] = value instead\n",
      "\n",
      "See the caveats in the documentation: http://pandas.pydata.org/pandas-docs/stable/indexing.html#indexing-view-versus-copy\n",
      "  \"\"\"Entry point for launching an IPython kernel.\n"
     ]
    }
   ],
   "source": [
    "X['Departure_time'] = pd.to_datetime(X['What is the scheduled departure time?'], format=\"%H:%M:%S\")"
   ]
  },
  {
   "cell_type": "code",
   "execution_count": null,
   "metadata": {
    "colab": {},
    "colab_type": "code",
    "id": "tmo07P7z3MLP"
   },
   "outputs": [],
   "source": [
    "#X['Departure_time'] = X['Departure_time'].astype(np.int64)"
   ]
  },
  {
   "cell_type": "code",
   "execution_count": null,
   "metadata": {
    "colab": {},
    "colab_type": "code",
    "id": "W90vVnFP3MLR",
    "outputId": "a5b7e395-b8c8-4e29-8da1-7c328a8c7730"
   },
   "outputs": [
    {
     "data": {
      "text/plain": [
       "763   1900-01-01 13:25:00\n",
       "764   1900-01-01 13:25:00\n",
       "765   1900-01-01 14:01:00\n",
       "766   1900-01-01 14:01:00\n",
       "767   1900-01-01 15:00:00\n",
       "Name: Departure_time, dtype: datetime64[ns]"
      ]
     },
     "execution_count": 91,
     "metadata": {
      "tags": []
     },
     "output_type": "execute_result"
    }
   ],
   "source": [
    "X['Departure_time'].head()"
   ]
  },
  {
   "cell_type": "code",
   "execution_count": null,
   "metadata": {
    "colab": {},
    "colab_type": "code",
    "id": "k3yleVZv3MLV"
   },
   "outputs": [],
   "source": [
    "#X['Departure_time'] = X['Departure_time'].round(180)"
   ]
  },
  {
   "cell_type": "code",
   "execution_count": null,
   "metadata": {
    "colab": {},
    "colab_type": "code",
    "id": "m-KHNfJd3MLX"
   },
   "outputs": [],
   "source": [
    "def roundTime(dt=None, dateDelta=datetime.timedelta(minutes=1)):\n",
    "    \"\"\"Round a datetime object to a multiple of a timedelta\n",
    "    dt : datetime.datetime object, default now.\n",
    "    dateDelta : timedelta object, we round to a multiple of this, default 1 minute.\n",
    "    Author: Thierry Husson 2012 - Use it as you want but don't blame me.\n",
    "            Stijn Nevens 2014 - Changed to use only datetime objects as variables\n",
    "    \"\"\"\n",
    "    roundTo = dateDelta.total_seconds()\n",
    "\n",
    "    if dt == None : dt = datetime.datetime.now()\n",
    "    seconds = (dt - dt.min).seconds\n",
    "    # // is a floor division, not a comment on following line:\n",
    "    rounding = (seconds+roundTo/2) // roundTo * roundTo\n",
    "    return dt + datetime.timedelta(0,rounding-seconds,-dt.microsecond)"
   ]
  },
  {
   "cell_type": "code",
   "execution_count": null,
   "metadata": {
    "colab": {},
    "colab_type": "code",
    "id": "8yIfv6jB3MLY",
    "outputId": "6ebd0b83-955a-44d1-9179-2cba2500e65b"
   },
   "outputs": [
    {
     "data": {
      "text/plain": [
       "Timestamp('1900-01-01 12:12:44')"
      ]
     },
     "execution_count": 95,
     "metadata": {
      "tags": []
     },
     "output_type": "execute_result"
    }
   ],
   "source": [
    "roundTime(X['Departure_time'].iloc[0], datetime.timedelta(hours=6))"
   ]
  },
  {
   "cell_type": "code",
   "execution_count": null,
   "metadata": {
    "colab": {},
    "colab_type": "code",
    "id": "cFBfsE3O3MLb",
    "outputId": "feba7560-4577-43da-8e4b-91bb273e432b"
   },
   "outputs": [
    {
     "data": {
      "text/plain": [
       "13"
      ]
     },
     "execution_count": 96,
     "metadata": {
      "tags": []
     },
     "output_type": "execute_result"
    }
   ],
   "source": [
    "X['Departure_time'].iloc[0].hour"
   ]
  },
  {
   "cell_type": "code",
   "execution_count": null,
   "metadata": {
    "colab": {},
    "colab_type": "code",
    "id": "SacX9yUM3MLd"
   },
   "outputs": [],
   "source": []
  },
  {
   "cell_type": "code",
   "execution_count": null,
   "metadata": {
    "colab": {},
    "colab_type": "code",
    "id": "dT8PAuYB3MLg",
    "outputId": "562a358b-26f3-4f80-eddb-94ff51add211"
   },
   "outputs": [
    {
     "data": {
      "text/html": [
       "<div>\n",
       "<style scoped>\n",
       "    .dataframe tbody tr th:only-of-type {\n",
       "        vertical-align: middle;\n",
       "    }\n",
       "\n",
       "    .dataframe tbody tr th {\n",
       "        vertical-align: top;\n",
       "    }\n",
       "\n",
       "    .dataframe thead th {\n",
       "        text-align: right;\n",
       "    }\n",
       "</style>\n",
       "<table border=\"1\" class=\"dataframe\">\n",
       "  <thead>\n",
       "    <tr style=\"text-align: right;\">\n",
       "      <th></th>\n",
       "      <th>Domestic</th>\n",
       "      <th>Luggage</th>\n",
       "      <th>business</th>\n",
       "      <th>age</th>\n",
       "      <th>income</th>\n",
       "      <th>Date_month</th>\n",
       "      <th>What is the scheduled departure time?</th>\n",
       "      <th>Departure_time</th>\n",
       "    </tr>\n",
       "  </thead>\n",
       "  <tbody>\n",
       "    <tr>\n",
       "      <th>763</th>\n",
       "      <td>1</td>\n",
       "      <td>4</td>\n",
       "      <td>0</td>\n",
       "      <td>68.0</td>\n",
       "      <td>2</td>\n",
       "      <td>2</td>\n",
       "      <td>13:25:00</td>\n",
       "      <td>1900-01-01 13:25:00</td>\n",
       "    </tr>\n",
       "    <tr>\n",
       "      <th>764</th>\n",
       "      <td>1</td>\n",
       "      <td>4</td>\n",
       "      <td>0</td>\n",
       "      <td>42.0</td>\n",
       "      <td>2</td>\n",
       "      <td>2</td>\n",
       "      <td>13:25:00</td>\n",
       "      <td>1900-01-01 13:25:00</td>\n",
       "    </tr>\n",
       "    <tr>\n",
       "      <th>765</th>\n",
       "      <td>1</td>\n",
       "      <td>2</td>\n",
       "      <td>1</td>\n",
       "      <td>70.0</td>\n",
       "      <td>4</td>\n",
       "      <td>2</td>\n",
       "      <td>14:01:00</td>\n",
       "      <td>1900-01-01 14:01:00</td>\n",
       "    </tr>\n",
       "    <tr>\n",
       "      <th>766</th>\n",
       "      <td>1</td>\n",
       "      <td>3</td>\n",
       "      <td>0</td>\n",
       "      <td>73.0</td>\n",
       "      <td>4</td>\n",
       "      <td>2</td>\n",
       "      <td>14:01:00</td>\n",
       "      <td>1900-01-01 14:01:00</td>\n",
       "    </tr>\n",
       "    <tr>\n",
       "      <th>767</th>\n",
       "      <td>1</td>\n",
       "      <td>1</td>\n",
       "      <td>1</td>\n",
       "      <td>52.0</td>\n",
       "      <td>4</td>\n",
       "      <td>2</td>\n",
       "      <td>15:00:00</td>\n",
       "      <td>1900-01-01 15:00:00</td>\n",
       "    </tr>\n",
       "  </tbody>\n",
       "</table>\n",
       "</div>"
      ],
      "text/plain": [
       "    Domestic Luggage business   age income Date_month  \\\n",
       "763        1       4        0  68.0      2          2   \n",
       "764        1       4        0  42.0      2          2   \n",
       "765        1       2        1  70.0      4          2   \n",
       "766        1       3        0  73.0      4          2   \n",
       "767        1       1        1  52.0      4          2   \n",
       "\n",
       "    What is the scheduled departure time?      Departure_time  \n",
       "763                              13:25:00 1900-01-01 13:25:00  \n",
       "764                              13:25:00 1900-01-01 13:25:00  \n",
       "765                              14:01:00 1900-01-01 14:01:00  \n",
       "766                              14:01:00 1900-01-01 14:01:00  \n",
       "767                              15:00:00 1900-01-01 15:00:00  "
      ]
     },
     "execution_count": 97,
     "metadata": {
      "tags": []
     },
     "output_type": "execute_result"
    }
   ],
   "source": [
    "X.head()"
   ]
  },
  {
   "cell_type": "code",
   "execution_count": null,
   "metadata": {
    "colab": {},
    "colab_type": "code",
    "id": "vYj-vREs3MLi"
   },
   "outputs": [],
   "source": [
    "for year in mode_choice_data_dfs:\n",
    "    # 2014 modeled separately, as it doesnt have the departure time feature\n",
    "    if year == 2014:\n",
    "        continue\n",
    "    else: \n",
    "        df1 = mode_choice_data_dfs[year]\n",
    "        # Get X, y \n",
    "        X = df1[['Domestic', 'Luggage', 'business', 'age', 'income', 'Date_month']]\n",
    "        y = df1[['mode_choice_formatted']]\n",
    "        # Remove any rows with NA in them, and then reset index\n",
    "        X = X.dropna()\n",
    "        X.reset_index(inplace=True, drop=True)\n",
    "        # Scale the age, to be a number between 0 and 1 \n",
    "        # Scale the age variable\n",
    "        scaler = MinMaxScaler()\n",
    "        X['age'] = scaler.fit_transform(X['age'].to_numpy().reshape(-1,1)).ravel()\n",
    "        # Create the test-train split\n",
    "        X_train, X_test, y_train, y_test = train_test_split(\n",
    "             X, y, test_size=0.2, random_state=42)\n",
    "        X_train.reset_index(inplace=True, drop=True)\n",
    "        X_test.reset_index(inplace=True, drop=True)\n",
    "        # Perform Multinomial Regression\n",
    "        mul_lr_df1 = LogisticRegression(multi_class='multinomial', solver='newton-cg').fit(X_train, np.ravel(y_train))\n",
    "        mul_lr_score = mul_lr_df1.score(X_train, np.ravel(y_train))\n",
    "        mul_lr_predict = mul_lr_df1.predict(X_test)\n",
    "        mul_lr_test_score = mul_lr_df1.score(X_test, np.ravel(y_test))\n",
    "        mul_lr_results[year] = {\n",
    "        \"score\": mul_lr_score, \n",
    "        \"test_score\": mul_lr_test_score,\n",
    "        \"predict\": mul_lr_predict\n",
    "        }\n",
    "        # Perform classification through SVM \n",
    "        svc_df1 =  SVC(gamma='auto')\n",
    "        svc_df1.fit(X_train, np.ravel(y_train))\n",
    "        svc_score = svc_df1.score(X_train, np.ravel(y_train))\n",
    "        svc_predict = svc_df1.predict(X_test)\n",
    "        svc_test_score = svc_df1.score(X_test, np.ravel(y_test))\n",
    "        svc_results[year] = {\n",
    "        \"score\": svc_score,\n",
    "        \"test_score\": svc_test_score,\n",
    "        \"predict\": svc_predict\n",
    "        }\n",
    "        # Perform Random Forest Classification\n",
    "        rfc_df1 = RandomForestClassifier(n_estimators = 10, criterion = 'entropy', random_state = 42)\n",
    "        rfc_df1.fit(X_train, np.ravel(y_train))\n",
    "        rfc_score = rfc_df1.score(X_train, np.ravel(y_train))\n",
    "        rfc_predict = rfc_df1.predict(X_test)\n",
    "        rfc_test_score = rfc_df1.score(X_test, np.ravel(y_test))\n",
    "        rfc_results[year] = {\n",
    "        \"score\": rfc_score,\n",
    "        \"test_score\": rfc_test_score,    \n",
    "        \"predict\": rfc_predict\n",
    "        }\n",
    "        # Perform gradient boosting\n",
    "        gbm_df1 = GradientBoostingClassifier(random_state=10)\n",
    "        gbm_df1.fit(X_train, np.ravel(y_train))\n",
    "        gbm_score = gbm_df1.score(X_train, np.ravel(y_train))\n",
    "        gbm_predict = gbm_df1.predict(X_test)\n",
    "        gbm_test_score = gbm_df1.score(X_test, np.ravel(y_test))\n",
    "        gbm_results[year] = {\n",
    "        \"score\": gbm_score,\n",
    "        \"test_score\": gbm_test_score,\n",
    "        \"predict\": gbm_predict\n",
    "        }\n",
    "        # Perform Decision Tree Classification\n",
    "        dt_df1 = tree.DecisionTreeClassifier(max_depth=100)\n",
    "        dt_df1 = dt_df1.fit(X_train, np.ravel(y_train))\n",
    "        dt_score = dt_df1.score(X_train, np.ravel(y_train))\n",
    "        dt_predict = dt_df1.predict(X_test)\n",
    "        dt_test_score = dt_df1.score(X_test, np.ravel(y_test))\n",
    "        dt_results[year] = {\n",
    "        \"score\": dt_score,\n",
    "        \"test_score\": dt_test_score,\n",
    "        \"predict\": dt_predict\n",
    "        }\n",
    "        # Keras \n",
    "        # Convert y to one-hot encoding\n",
    "        dummy_y = np_utils.to_categorical(y, num_classes=4)\n",
    "        X_train, X_test, Y_train, Y_test = train_test_split(np.array(X), dummy_y, test_size=0.2, random_state=seed)\n",
    "        seed = 7\n",
    "        input_dim = X_train.shape[1]\n",
    "        np.random.seed(seed)\n",
    "        model = Sequential()\n",
    "        model.add(Dense(250, input_shape=(input_dim,) , activation = 'relu'))\n",
    "        model.add(Dense(250, activation = 'relu'))\n",
    "        model.add(Dense(250, activation = 'relu'))\n",
    "        model.add(Dense(250, activation = 'relu'))\n",
    "        model.add(Dense(4, activation = 'softmax'))\n",
    "        model.compile(loss = 'categorical_crossentropy' , optimizer = 'adam' , metrics = ['accuracy'] )\n",
    "        hist = model.fit(X_train, Y_train, epochs = 2000, verbose=0)\n",
    "        keras_score = hist.history.get('acc')[-1]\n",
    "        keras_predict = model.predict_classes(X_test)\n",
    "        score, acc = model.evaluate(X_test, Y_test)\n",
    "        keras_test_score = acc\n",
    "        keras_results[year] = {\n",
    "        \"score\": keras_score,\n",
    "        \"test_score\": keras_test_score,\n",
    "        \"predict\": keras_predict\n",
    "        }"
   ]
  },
  {
   "cell_type": "code",
   "execution_count": null,
   "metadata": {
    "colab": {},
    "colab_type": "code",
    "id": "RVQn0Urt3MLj",
    "outputId": "bec5ef43-4df4-4a62-ae3f-b813242aaa22"
   },
   "outputs": [
    {
     "data": {
      "text/plain": [
       "{2014: {'score': 0.4606164383561644,\n",
       "  'predict': array([0, 2, 0, 0, 0, 0, 0, 2, 2, 0, 0, 2, 2, 0, 2, 2, 2, 0, 2, 0, 0, 2,\n",
       "         0, 0, 0, 0, 2, 0, 0, 0, 2, 0, 2, 0, 0, 2, 2, 0, 0, 0, 2, 0, 0, 2,\n",
       "         0, 2, 0, 0, 2, 2, 2, 0, 0, 2, 0, 0, 0, 0, 2, 0, 2, 0, 0, 0, 0, 2,\n",
       "         0, 0, 2, 0, 0, 2, 2, 0, 2, 2, 0, 0, 2, 0, 0, 2, 2, 2, 0, 2, 2, 0,\n",
       "         2, 0, 0, 0, 0, 0, 0, 2, 0, 0, 0, 2, 0, 2, 0, 2, 0, 0, 2, 0, 2, 0,\n",
       "         0, 0, 0, 2, 0, 2, 0, 0, 0, 0, 0, 2, 2, 2, 0, 0, 0, 2, 0, 2, 0, 0,\n",
       "         2, 0, 0, 2, 0, 0, 0, 2, 0, 0, 0, 0, 0, 0, 2])},\n",
       " '2014': {'score': 0.4606164383561644,\n",
       "  'predict': array([0, 2, 0, 0, 0, 0, 0, 2, 2, 0, 0, 2, 2, 0, 2, 2, 2, 0, 2, 0, 0, 2,\n",
       "         0, 0, 0, 0, 2, 0, 0, 0, 2, 0, 2, 0, 0, 2, 2, 0, 0, 0, 2, 0, 0, 2,\n",
       "         0, 2, 0, 0, 2, 2, 2, 0, 0, 2, 0, 0, 0, 0, 2, 0, 2, 0, 0, 0, 0, 2,\n",
       "         0, 0, 2, 0, 0, 2, 2, 0, 2, 2, 0, 0, 2, 0, 0, 2, 2, 2, 0, 2, 2, 0,\n",
       "         2, 0, 0, 0, 0, 0, 0, 2, 0, 0, 0, 2, 0, 2, 0, 2, 0, 0, 2, 0, 2, 0,\n",
       "         0, 0, 0, 2, 0, 2, 0, 0, 0, 0, 0, 2, 2, 2, 0, 0, 0, 2, 0, 2, 0, 0,\n",
       "         2, 0, 0, 2, 0, 0, 0, 2, 0, 0, 0, 0, 0, 0, 2])},\n",
       " '2015': {'score': 0.49554367201426025,\n",
       "  'predict': array([2, 0, 0, 0, 0, 2, 0, 0, 0, 0, 0, 0, 2, 0, 0, 0, 0, 0, 2, 0, 2, 0,\n",
       "         0, 2, 2, 0, 0, 2, 0, 0, 0, 2, 0, 2, 2, 0, 2, 0, 0, 0, 0, 0, 2, 0,\n",
       "         0, 0, 2, 0, 0, 2, 0, 0, 2, 0, 0, 0, 0, 0, 0, 2, 2, 0, 0, 0, 0, 2,\n",
       "         0, 0, 0, 0, 2, 2, 2, 0, 0, 0, 2, 0, 0, 0, 0, 0, 0, 2, 2, 0, 2, 0,\n",
       "         0, 2, 0, 0, 2, 2, 0, 2, 2, 0, 0, 2, 0, 2, 2, 2, 0, 2, 2, 0, 0, 2,\n",
       "         0, 0, 0, 2, 0, 0, 2, 0, 0, 2, 2, 2, 0, 0, 0, 2, 2, 0, 2, 2, 0, 2,\n",
       "         0, 2, 0, 0, 0, 0, 0, 0, 0])},\n",
       " '2016': {'score': 0.4505606523955148,\n",
       "  'predict': array([2, 0, 2, 0, 0, 0, 2, 2, 0, 0, 0, 2, 2, 0, 2, 2, 0, 2, 0, 0, 0, 0,\n",
       "         0, 0, 2, 2, 2, 0, 0, 2, 0, 2, 0, 2, 2, 2, 0, 2, 2, 0, 2, 2, 2, 0,\n",
       "         2, 2, 0, 0, 2, 0, 2, 2, 2, 0, 2, 2, 0, 2, 2, 0, 2, 2, 2, 0, 2, 0,\n",
       "         2, 2, 2, 2, 2, 2, 2, 2, 2, 2, 2, 0, 0, 2, 2, 0, 0, 0, 2, 0, 2, 0,\n",
       "         2, 2, 2, 2, 2, 0, 2, 2, 2, 2, 0, 0, 2, 2, 0, 0, 2, 0, 2, 2, 0, 2,\n",
       "         0, 2, 2, 0, 2, 0, 0, 2, 0, 2, 2, 0, 0, 2, 2, 2, 0, 2, 2, 0, 2, 0,\n",
       "         0, 2, 2, 0, 0, 2, 2, 2, 2, 0, 2, 0, 2, 2, 0, 2, 2, 0, 0, 0, 2, 2,\n",
       "         2, 2, 0, 0, 2, 2, 2, 2, 2, 0, 2, 0, 2, 0, 0, 0, 2, 0, 2, 2, 2, 2,\n",
       "         2, 2, 0, 0, 0, 2, 2, 2, 2, 0, 2, 2, 0, 2, 2, 0, 2, 0, 2, 2, 2, 2,\n",
       "         0, 2, 2, 2, 2, 0, 0, 0, 2, 2, 0, 2, 2, 2, 2, 0, 2, 2, 2, 2, 2, 0,\n",
       "         2, 0, 2, 0, 2, 2, 2, 0, 2, 0, 2, 0, 0, 2, 0, 0, 2, 2, 0, 2, 2, 0,\n",
       "         2, 2, 2, 2])},\n",
       " '2017': {'score': 0.46551724137931033,\n",
       "  'predict': array([0, 2, 0, 2, 0, 2, 2, 2, 2, 2, 0, 0, 0, 0, 0, 2, 0, 2, 2, 2, 0, 0,\n",
       "         2, 2, 0, 0, 0, 0, 0, 0, 2, 0, 0, 0, 0, 0, 2, 0, 0, 2, 0, 2, 2, 0,\n",
       "         2, 0, 0, 2, 0, 0, 0, 2, 2, 2, 2, 0, 0, 2, 2, 0, 0, 2, 0, 0, 2, 2,\n",
       "         2, 0, 0, 0, 0, 0, 0, 0, 0, 2, 0, 2, 0, 0, 0, 0, 0, 2, 0, 2, 2, 0,\n",
       "         0, 2, 0, 0, 0, 0, 2, 0, 0, 2, 0, 0, 0, 0, 0, 2, 0, 2, 2, 0, 0, 2,\n",
       "         0, 2, 2, 0, 2, 0, 0, 0, 2, 2, 0, 2, 2, 2, 2, 2, 2, 0, 2, 2, 0, 2,\n",
       "         2, 2, 2, 2, 0, 2, 2, 0, 2, 0, 2, 2, 0, 0, 0, 0, 2, 2, 2, 0, 2, 0,\n",
       "         0, 0, 2, 2, 2, 2, 0, 0, 0, 2, 2, 0, 2, 0, 2, 0, 0, 0, 0, 2, 2, 0,\n",
       "         2, 2, 2, 2, 2, 2, 2, 2, 0, 2, 0, 2, 0, 0, 0, 2, 0, 2, 2, 2, 2, 0,\n",
       "         0, 0, 0, 0, 2, 2, 2, 0, 0, 2, 3, 2, 0, 0, 2, 2, 0, 0, 2, 0, 0, 0,\n",
       "         0, 2, 0, 0, 2, 0, 2, 0, 0, 2, 2, 0, 0, 2, 0, 0, 0, 0, 2, 0, 0, 2,\n",
       "         0, 2, 2, 2, 2, 2, 2, 2, 2, 2, 0, 0, 0, 2, 0, 0, 0, 2, 0])},\n",
       " '2018': {'score': 0.4333958724202627,\n",
       "  'predict': array([0, 2, 0, 0, 2, 2, 0, 2, 0, 0, 2, 2, 2, 2, 0, 0, 2, 0, 2, 0, 0, 2,\n",
       "         0, 0, 2, 0, 2, 2, 0, 0, 2, 0, 0, 0, 2, 0, 0, 2, 0, 0, 0, 0, 2, 2,\n",
       "         0, 2, 0, 2, 2, 0, 0, 0, 0, 0, 2, 0, 0, 0, 2, 2, 0, 2, 0, 2, 2, 2,\n",
       "         0, 2, 0, 2, 2, 0, 0, 0, 2, 0, 2, 0, 0, 0, 0, 2, 0, 2, 0, 0, 2, 2,\n",
       "         2, 2, 2, 0, 2, 2, 0, 0, 0, 0, 2, 2, 0, 0, 0, 0, 0, 0, 2, 0, 0, 0,\n",
       "         0, 0, 0, 2, 0, 2, 0, 0, 2, 2, 2, 0, 0, 0, 2, 2, 2, 0, 2, 2, 2, 0,\n",
       "         2, 0, 2, 2, 0, 2, 2, 0, 0, 2, 2, 0, 0, 2, 0, 2, 2, 2, 0, 0, 2, 0,\n",
       "         2, 2, 0, 0, 2, 0, 2, 0, 0, 2, 0, 2, 0, 0, 0, 2, 2, 2, 0, 0, 2, 2,\n",
       "         2, 2, 0, 0, 2, 0, 0, 0, 0, 2, 2, 0, 2, 0, 2, 2, 0, 2, 2, 2, 0, 2,\n",
       "         2, 0, 0, 2, 2, 0, 2, 0, 0, 0, 0, 2, 2, 2, 0, 0, 2, 0, 0, 0, 0, 2,\n",
       "         0, 0, 2, 2, 2, 2, 0, 0, 2, 0, 2, 2, 0, 0, 0, 2, 2, 2, 2, 2, 0, 2,\n",
       "         2, 2, 0, 2, 2, 0, 0, 2, 2, 0, 0, 0, 0, 0, 0, 2, 2, 0, 2, 2, 2, 0,\n",
       "         0, 2, 2])},\n",
       " '2019': {'score': 0.5053763440860215,\n",
       "  'predict': array([2, 0, 2, 2, 2, 2, 2, 2, 0, 0, 0, 2, 0, 2, 2, 2, 2, 2, 2, 2, 2, 2,\n",
       "         0, 2, 2, 0, 2, 2, 2, 2, 2, 0, 2, 2, 2, 2, 2, 2, 2, 0, 2, 2, 2, 2,\n",
       "         0, 2, 2, 2, 2, 2, 0, 2, 2, 2, 2, 2, 2, 2, 0, 2, 2, 2, 2, 0, 2, 2,\n",
       "         2, 2, 2, 2])}}"
      ]
     },
     "execution_count": 102,
     "metadata": {
      "tags": []
     },
     "output_type": "execute_result"
    }
   ],
   "source": [
    "mul_lr_results"
   ]
  },
  {
   "cell_type": "code",
   "execution_count": null,
   "metadata": {
    "colab": {},
    "colab_type": "code",
    "id": "FgRFsZOE3MLl",
    "outputId": "d6615f6a-a0b9-427a-8abe-97f80600f606"
   },
   "outputs": [
    {
     "data": {
      "text/plain": [
       "{2014: {'score': 0.988013698630137,\n",
       "  'predict': array([0, 2, 2, 0, 0, 1, 2, 2, 0, 0, 0, 2, 1, 0, 0, 2, 2, 0, 2, 2, 2, 0,\n",
       "         2, 2, 3, 3, 2, 0, 0, 2, 0, 0, 0, 2, 2, 2, 2, 0, 3, 2, 2, 2, 2, 0,\n",
       "         2, 2, 0, 0, 2, 0, 2, 0, 0, 3, 3, 2, 3, 1, 2, 1, 2, 0, 3, 0, 0, 3,\n",
       "         0, 2, 2, 2, 2, 0, 0, 1, 1, 0, 1, 1, 2, 2, 2, 2, 0, 2, 2, 2, 0, 0,\n",
       "         3, 2, 1, 0, 0, 2, 3, 2, 2, 0, 1, 0, 0, 0, 0, 2, 2, 0, 1, 2, 2, 0,\n",
       "         0, 0, 0, 1, 0, 0, 0, 1, 0, 0, 2, 2, 2, 2, 0, 2, 2, 3, 2, 0, 2, 3,\n",
       "         0, 2, 3, 0, 2, 0, 2, 0, 2, 2, 3, 2, 3, 0, 0])},\n",
       " '2014': {'score': 0.988013698630137,\n",
       "  'predict': array([0, 2, 2, 0, 0, 1, 2, 2, 0, 0, 0, 2, 1, 0, 0, 2, 2, 0, 2, 2, 2, 0,\n",
       "         2, 2, 3, 3, 2, 0, 0, 2, 0, 0, 0, 2, 2, 2, 2, 0, 2, 2, 2, 2, 2, 0,\n",
       "         2, 2, 0, 0, 2, 0, 2, 0, 0, 0, 3, 2, 2, 1, 2, 1, 2, 0, 3, 0, 0, 3,\n",
       "         0, 2, 2, 2, 2, 0, 0, 1, 0, 0, 1, 1, 2, 2, 2, 2, 0, 3, 2, 2, 0, 0,\n",
       "         3, 2, 1, 0, 3, 3, 3, 2, 2, 0, 1, 0, 0, 0, 0, 2, 2, 0, 1, 2, 3, 0,\n",
       "         0, 0, 0, 1, 0, 0, 0, 1, 0, 0, 2, 0, 2, 2, 0, 2, 2, 3, 2, 0, 2, 2,\n",
       "         0, 2, 2, 0, 2, 0, 2, 0, 2, 2, 3, 0, 3, 0, 0])},\n",
       " '2015': {'score': 0.9928698752228164,\n",
       "  'predict': array([0, 2, 0, 0, 2, 3, 2, 3, 1, 0, 0, 3, 2, 2, 1, 2, 2, 0, 0, 3, 3, 2,\n",
       "         0, 2, 2, 2, 0, 2, 2, 3, 3, 0, 0, 0, 2, 2, 2, 2, 0, 0, 0, 0, 2, 2,\n",
       "         2, 0, 0, 0, 0, 0, 2, 2, 0, 0, 0, 1, 0, 0, 0, 0, 2, 0, 3, 2, 0, 2,\n",
       "         0, 0, 2, 2, 2, 0, 2, 2, 0, 2, 2, 0, 0, 2, 3, 2, 2, 2, 2, 2, 0, 2,\n",
       "         3, 0, 2, 0, 2, 0, 0, 2, 0, 2, 2, 0, 0, 2, 0, 2, 2, 2, 0, 3, 2, 0,\n",
       "         3, 3, 0, 0, 0, 3, 0, 0, 0, 0, 2, 2, 3, 0, 2, 0, 2, 2, 2, 0, 2, 2,\n",
       "         1, 3, 0, 0, 0, 1, 0, 0, 0])},\n",
       " '2016': {'score': 0.9704383282364933,\n",
       "  'predict': array([2, 2, 2, 1, 2, 3, 2, 1, 1, 0, 0, 1, 3, 0, 0, 0, 2, 0, 2, 0, 3, 0,\n",
       "         3, 0, 1, 2, 2, 0, 1, 1, 0, 0, 3, 1, 2, 2, 0, 2, 2, 3, 0, 2, 2, 0,\n",
       "         0, 1, 0, 2, 2, 0, 2, 2, 1, 2, 2, 0, 2, 3, 2, 2, 1, 2, 3, 3, 2, 3,\n",
       "         1, 2, 0, 3, 1, 1, 2, 0, 2, 2, 2, 1, 0, 3, 0, 0, 0, 0, 2, 0, 0, 0,\n",
       "         0, 2, 2, 1, 3, 1, 2, 2, 2, 1, 2, 3, 3, 0, 0, 3, 2, 3, 2, 2, 0, 0,\n",
       "         1, 2, 0, 0, 2, 3, 2, 2, 0, 0, 3, 2, 2, 2, 0, 0, 0, 0, 2, 0, 2, 0,\n",
       "         0, 2, 0, 2, 2, 3, 0, 2, 2, 3, 2, 0, 0, 2, 2, 1, 1, 0, 2, 3, 3, 1,\n",
       "         2, 2, 2, 2, 0, 0, 0, 0, 0, 0, 2, 0, 2, 0, 2, 1, 2, 1, 2, 2, 2, 0,\n",
       "         2, 2, 0, 2, 2, 2, 0, 2, 0, 0, 2, 0, 0, 3, 1, 0, 2, 0, 2, 3, 1, 3,\n",
       "         0, 0, 1, 1, 2, 2, 1, 0, 3, 0, 2, 1, 2, 1, 2, 0, 0, 0, 2, 0, 0, 2,\n",
       "         3, 0, 2, 2, 0, 3, 0, 2, 0, 2, 2, 2, 0, 0, 0, 0, 2, 2, 0, 2, 0, 2,\n",
       "         0, 0, 0, 2])},\n",
       " '2017': {'score': 0.9722222222222222,\n",
       "  'predict': array([2, 2, 2, 1, 2, 2, 0, 2, 2, 0, 2, 1, 2, 0, 2, 2, 0, 1, 0, 2, 2, 0,\n",
       "         2, 2, 2, 0, 2, 1, 0, 2, 2, 2, 3, 2, 0, 2, 2, 2, 2, 2, 1, 3, 2, 0,\n",
       "         2, 3, 2, 2, 2, 3, 3, 2, 3, 0, 3, 1, 2, 0, 1, 3, 2, 2, 2, 0, 3, 2,\n",
       "         2, 0, 3, 0, 2, 0, 1, 0, 2, 0, 3, 2, 0, 0, 0, 3, 2, 2, 0, 0, 0, 3,\n",
       "         2, 0, 2, 2, 0, 1, 2, 2, 2, 2, 0, 0, 0, 0, 3, 0, 0, 2, 2, 2, 0, 0,\n",
       "         1, 0, 2, 1, 3, 3, 2, 3, 0, 2, 2, 2, 0, 0, 2, 0, 3, 3, 2, 0, 0, 0,\n",
       "         2, 3, 2, 1, 3, 0, 2, 3, 0, 1, 0, 2, 0, 2, 0, 2, 3, 2, 2, 2, 2, 2,\n",
       "         0, 1, 2, 0, 3, 0, 2, 2, 0, 0, 2, 1, 2, 2, 0, 0, 0, 0, 2, 0, 0, 3,\n",
       "         3, 2, 2, 2, 3, 2, 2, 0, 1, 0, 0, 3, 3, 1, 1, 0, 2, 2, 0, 3, 2, 1,\n",
       "         3, 0, 0, 2, 0, 1, 2, 0, 2, 2, 1, 2, 0, 0, 2, 0, 0, 0, 0, 1, 0, 2,\n",
       "         2, 2, 0, 2, 2, 2, 2, 0, 2, 2, 0, 2, 2, 0, 0, 2, 0, 2, 3, 2, 0, 3,\n",
       "         0, 2, 2, 1, 0, 2, 0, 2, 0, 2, 2, 0, 0, 2, 0, 0, 0, 2, 0])},\n",
       " '2018': {'score': 0.9709193245778611,\n",
       "  'predict': array([2, 2, 2, 2, 1, 0, 0, 1, 3, 0, 0, 0, 2, 2, 2, 0, 0, 3, 2, 0, 2, 3,\n",
       "         2, 3, 2, 2, 0, 0, 2, 0, 2, 0, 2, 0, 3, 0, 0, 0, 0, 2, 2, 0, 0, 2,\n",
       "         0, 2, 2, 0, 1, 2, 3, 1, 0, 1, 2, 2, 2, 2, 0, 0, 0, 2, 2, 3, 0, 1,\n",
       "         0, 0, 0, 2, 3, 3, 0, 2, 0, 2, 0, 0, 3, 0, 0, 0, 2, 0, 3, 1, 3, 2,\n",
       "         3, 3, 2, 2, 3, 2, 2, 3, 0, 2, 0, 3, 0, 3, 0, 0, 1, 2, 2, 2, 1, 2,\n",
       "         0, 0, 3, 2, 2, 0, 0, 0, 3, 0, 1, 0, 1, 0, 3, 0, 1, 0, 2, 0, 2, 0,\n",
       "         0, 2, 2, 3, 0, 0, 2, 0, 2, 1, 0, 0, 2, 3, 0, 3, 3, 0, 0, 0, 2, 2,\n",
       "         3, 2, 0, 0, 1, 2, 0, 2, 0, 3, 2, 2, 2, 0, 3, 2, 2, 2, 3, 1, 2, 2,\n",
       "         0, 2, 0, 2, 1, 0, 2, 0, 2, 2, 2, 0, 3, 2, 3, 3, 2, 2, 3, 3, 2, 2,\n",
       "         3, 2, 0, 1, 0, 0, 0, 0, 0, 2, 0, 3, 3, 0, 3, 1, 1, 0, 0, 0, 2, 3,\n",
       "         3, 2, 0, 2, 3, 3, 0, 0, 0, 0, 2, 1, 2, 0, 3, 1, 0, 0, 0, 2, 1, 3,\n",
       "         2, 0, 1, 2, 0, 3, 2, 0, 3, 0, 2, 1, 3, 2, 0, 0, 0, 2, 3, 2, 2, 2,\n",
       "         0, 2, 0])},\n",
       " '2019': {'score': 0.978494623655914,\n",
       "  'predict': array([2, 2, 0, 1, 0, 3, 2, 1, 1, 0, 3, 2, 2, 2, 2, 2, 2, 2, 3, 2, 2, 1,\n",
       "         0, 2, 3, 2, 0, 2, 2, 0, 0, 2, 3, 0, 2, 3, 2, 0, 2, 0, 2, 0, 0, 2,\n",
       "         2, 2, 3, 1, 2, 0, 3, 3, 2, 2, 0, 2, 0, 2, 0, 2, 2, 1, 2, 2, 2, 2,\n",
       "         0, 2, 2, 2])}}"
      ]
     },
     "execution_count": 103,
     "metadata": {
      "tags": []
     },
     "output_type": "execute_result"
    }
   ],
   "source": [
    "dt_results"
   ]
  },
  {
   "cell_type": "code",
   "execution_count": null,
   "metadata": {
    "colab": {},
    "colab_type": "code",
    "id": "V4VcjcP93MLo",
    "outputId": "0e300ed2-6ce7-4fa4-8230-32689fe39fe4"
   },
   "outputs": [
    {
     "data": {
      "text/plain": [
       "{2014: {'score': 0.714041095890411,\n",
       "  'predict': array([0, 2, 0, 0, 0, 0, 0, 3, 0, 0, 1, 2, 2, 2, 2, 2, 2, 0, 0, 2, 0, 0,\n",
       "         2, 2, 0, 0, 2, 0, 3, 0, 2, 0, 2, 2, 2, 0, 2, 0, 2, 2, 2, 2, 0, 0,\n",
       "         0, 2, 0, 0, 2, 0, 2, 0, 2, 1, 0, 2, 2, 2, 0, 0, 0, 0, 2, 0, 0, 0,\n",
       "         0, 0, 0, 2, 0, 0, 2, 2, 2, 0, 0, 1, 0, 0, 0, 2, 0, 3, 2, 2, 0, 0,\n",
       "         2, 2, 0, 2, 0, 3, 2, 2, 0, 0, 0, 2, 0, 0, 0, 2, 2, 0, 2, 0, 2, 0,\n",
       "         0, 0, 2, 2, 0, 2, 0, 0, 0, 0, 0, 2, 2, 0, 0, 2, 0, 0, 0, 0, 2, 0,\n",
       "         0, 0, 2, 2, 2, 2, 2, 0, 2, 2, 2, 0, 3, 2, 2])},\n",
       " '2014': {'score': 0.714041095890411,\n",
       "  'predict': array([0, 2, 0, 0, 0, 0, 0, 3, 0, 0, 1, 2, 2, 2, 2, 2, 2, 0, 0, 2, 0, 0,\n",
       "         2, 2, 0, 0, 2, 0, 3, 0, 2, 0, 2, 2, 2, 0, 2, 0, 2, 2, 2, 2, 0, 0,\n",
       "         0, 2, 0, 0, 2, 0, 2, 0, 2, 1, 0, 2, 2, 2, 0, 0, 0, 0, 2, 0, 0, 0,\n",
       "         0, 0, 0, 2, 0, 0, 2, 2, 2, 0, 0, 1, 0, 0, 0, 2, 0, 3, 2, 2, 0, 0,\n",
       "         2, 2, 0, 2, 0, 3, 2, 2, 0, 0, 0, 2, 0, 0, 0, 2, 2, 0, 2, 0, 2, 0,\n",
       "         0, 0, 2, 2, 0, 2, 0, 0, 0, 0, 0, 2, 2, 0, 0, 2, 0, 0, 0, 0, 2, 0,\n",
       "         0, 0, 2, 2, 2, 2, 2, 0, 2, 2, 2, 0, 3, 2, 2])},\n",
       " '2015': {'score': 0.7237076648841355,\n",
       "  'predict': array([0, 0, 0, 0, 2, 2, 2, 0, 0, 0, 0, 0, 0, 2, 2, 0, 0, 0, 0, 3, 2, 2,\n",
       "         0, 3, 2, 0, 3, 0, 0, 0, 3, 0, 0, 2, 2, 2, 0, 2, 2, 0, 2, 0, 2, 2,\n",
       "         0, 2, 0, 2, 0, 2, 0, 0, 0, 0, 0, 3, 0, 0, 0, 2, 0, 0, 0, 2, 3, 0,\n",
       "         0, 0, 2, 2, 2, 0, 0, 2, 0, 2, 0, 0, 0, 0, 0, 2, 2, 2, 0, 2, 0, 0,\n",
       "         2, 0, 0, 2, 0, 2, 0, 2, 2, 0, 3, 0, 0, 2, 0, 2, 0, 0, 2, 0, 2, 2,\n",
       "         0, 3, 2, 0, 0, 0, 2, 0, 0, 0, 0, 2, 0, 0, 2, 0, 2, 0, 2, 2, 0, 2,\n",
       "         0, 1, 0, 0, 0, 2, 0, 0, 0])},\n",
       " '2016': {'score': 0.6289500509683996,\n",
       "  'predict': array([2, 0, 2, 1, 2, 0, 1, 2, 0, 0, 0, 0, 3, 0, 2, 2, 2, 0, 0, 2, 0, 0,\n",
       "         3, 0, 2, 2, 0, 0, 0, 2, 0, 0, 0, 0, 0, 2, 0, 2, 0, 0, 0, 0, 2, 2,\n",
       "         2, 2, 0, 0, 0, 0, 2, 0, 0, 0, 2, 2, 2, 0, 2, 0, 0, 2, 2, 0, 2, 0,\n",
       "         2, 2, 2, 3, 0, 2, 2, 0, 2, 2, 2, 0, 0, 2, 2, 0, 0, 0, 2, 2, 0, 0,\n",
       "         1, 2, 2, 2, 0, 0, 0, 2, 2, 2, 0, 3, 0, 2, 0, 0, 0, 0, 2, 0, 2, 0,\n",
       "         0, 0, 2, 2, 2, 2, 2, 2, 0, 0, 0, 0, 2, 2, 2, 2, 0, 2, 0, 0, 0, 0,\n",
       "         0, 2, 2, 0, 0, 2, 2, 2, 2, 0, 0, 0, 2, 2, 0, 2, 2, 2, 2, 2, 0, 2,\n",
       "         2, 2, 0, 2, 0, 2, 2, 2, 0, 0, 2, 0, 2, 0, 2, 0, 2, 0, 2, 0, 2, 2,\n",
       "         2, 0, 0, 2, 0, 0, 2, 2, 0, 2, 0, 2, 0, 2, 2, 2, 2, 2, 2, 2, 2, 2,\n",
       "         0, 2, 2, 2, 2, 0, 0, 2, 2, 2, 2, 2, 2, 2, 0, 2, 2, 2, 3, 0, 0, 2,\n",
       "         3, 2, 2, 0, 0, 2, 0, 0, 2, 2, 2, 0, 0, 2, 2, 3, 0, 2, 0, 2, 2, 0,\n",
       "         2, 2, 2, 2])},\n",
       " '2017': {'score': 0.6206896551724138,\n",
       "  'predict': array([0, 0, 0, 0, 2, 0, 2, 0, 2, 0, 0, 0, 2, 0, 0, 2, 0, 2, 2, 0, 0, 0,\n",
       "         2, 2, 0, 0, 0, 0, 2, 0, 0, 0, 0, 0, 0, 0, 2, 0, 0, 2, 2, 2, 0, 0,\n",
       "         0, 0, 2, 2, 0, 0, 0, 0, 2, 2, 3, 1, 0, 2, 3, 0, 0, 2, 0, 2, 2, 2,\n",
       "         2, 0, 0, 2, 2, 0, 0, 0, 2, 0, 0, 2, 0, 0, 0, 0, 2, 2, 0, 2, 2, 0,\n",
       "         2, 0, 2, 0, 0, 0, 2, 0, 3, 2, 2, 2, 0, 2, 0, 0, 0, 2, 2, 2, 0, 0,\n",
       "         2, 0, 2, 0, 2, 0, 2, 0, 2, 2, 2, 0, 2, 2, 2, 2, 0, 0, 2, 0, 0, 2,\n",
       "         0, 2, 2, 2, 0, 0, 2, 0, 2, 0, 0, 2, 0, 2, 0, 0, 2, 2, 0, 2, 2, 2,\n",
       "         0, 0, 2, 2, 2, 0, 0, 2, 0, 0, 2, 2, 2, 2, 2, 0, 0, 0, 2, 0, 0, 0,\n",
       "         2, 2, 2, 2, 2, 2, 2, 2, 2, 2, 0, 2, 0, 2, 2, 0, 2, 2, 0, 2, 0, 0,\n",
       "         0, 0, 3, 0, 2, 2, 3, 0, 2, 0, 2, 2, 0, 2, 0, 2, 0, 0, 2, 0, 0, 0,\n",
       "         0, 2, 0, 0, 2, 0, 0, 0, 0, 3, 2, 0, 2, 0, 0, 2, 0, 2, 2, 0, 0, 3,\n",
       "         0, 2, 0, 2, 2, 2, 2, 2, 0, 2, 0, 2, 2, 2, 0, 2, 0, 2, 0])},\n",
       " '2018': {'score': 0.6181988742964353,\n",
       "  'predict': array([2, 2, 2, 2, 0, 0, 2, 2, 0, 0, 2, 0, 3, 2, 0, 0, 0, 0, 2, 2, 2, 2,\n",
       "         2, 0, 2, 0, 0, 2, 0, 0, 2, 0, 0, 0, 0, 0, 0, 2, 2, 0, 2, 3, 0, 2,\n",
       "         2, 0, 0, 2, 0, 2, 2, 0, 0, 0, 0, 2, 2, 0, 2, 2, 0, 2, 2, 2, 0, 2,\n",
       "         0, 0, 0, 2, 0, 0, 2, 2, 0, 2, 0, 0, 0, 2, 0, 2, 3, 2, 2, 0, 2, 2,\n",
       "         2, 0, 2, 2, 2, 2, 0, 2, 0, 2, 2, 0, 0, 0, 2, 0, 2, 0, 0, 2, 2, 0,\n",
       "         0, 2, 0, 2, 0, 2, 0, 0, 0, 2, 2, 0, 0, 0, 2, 2, 0, 0, 2, 2, 2, 0,\n",
       "         2, 0, 0, 0, 0, 0, 2, 0, 2, 2, 2, 2, 0, 2, 2, 3, 0, 0, 0, 0, 0, 0,\n",
       "         2, 2, 0, 0, 2, 2, 0, 2, 0, 3, 2, 0, 0, 0, 3, 0, 3, 2, 0, 0, 0, 2,\n",
       "         0, 2, 0, 2, 2, 2, 0, 0, 2, 2, 0, 0, 2, 3, 0, 0, 2, 2, 0, 3, 0, 2,\n",
       "         2, 0, 0, 2, 0, 0, 0, 2, 0, 2, 0, 2, 2, 0, 2, 2, 1, 0, 0, 0, 2, 3,\n",
       "         3, 2, 0, 2, 3, 0, 0, 2, 0, 0, 2, 2, 2, 0, 2, 2, 2, 0, 0, 0, 0, 2,\n",
       "         2, 0, 2, 0, 0, 0, 0, 2, 0, 0, 0, 0, 0, 0, 0, 2, 0, 0, 2, 0, 0, 0,\n",
       "         0, 0, 2])},\n",
       " '2019': {'score': 0.8136200716845878,\n",
       "  'predict': array([0, 2, 0, 3, 2, 3, 2, 2, 0, 0, 2, 2, 3, 2, 2, 2, 2, 2, 0, 2, 2, 0,\n",
       "         0, 2, 2, 0, 0, 2, 2, 2, 2, 0, 2, 2, 2, 2, 2, 0, 2, 0, 2, 0, 2, 2,\n",
       "         3, 0, 2, 2, 2, 2, 0, 2, 2, 2, 0, 2, 2, 0, 0, 2, 2, 1, 2, 3, 2, 2,\n",
       "         2, 2, 2, 2])}}"
      ]
     },
     "execution_count": 104,
     "metadata": {
      "tags": []
     },
     "output_type": "execute_result"
    }
   ],
   "source": [
    "gbm_results"
   ]
  },
  {
   "cell_type": "code",
   "execution_count": null,
   "metadata": {
    "colab": {},
    "colab_type": "code",
    "id": "iqX8X-7Z3MLs",
    "outputId": "19cdbf9a-8e71-4f95-d417-0a5989ea07da"
   },
   "outputs": [
    {
     "data": {
      "text/plain": [
       "{2014: {'score': 0.9623287671232876,\n",
       "  'predict': array([1, 0, 2, 0, 0, 3, 3, 2, 0, 2, 0, 3, 0, 0, 1, 1, 2, 1, 2, 2, 2, 0,\n",
       "         0, 2, 3, 0, 0, 1, 0, 0, 0, 2, 2, 0, 0, 2, 0, 2, 3, 2, 0, 1, 2, 3,\n",
       "         0, 0, 1, 0, 0, 2, 0, 2, 3, 0, 2, 2, 2, 1, 2, 0, 2, 0, 0, 0, 0, 0,\n",
       "         3, 2, 0, 2, 3, 3, 0, 0, 0, 0, 0, 0, 2, 0, 2, 0, 0, 0, 0, 2, 1, 2,\n",
       "         2, 2, 0, 2, 0, 3, 2, 0, 0, 2, 0, 2, 0, 3, 2, 2, 2, 0, 3, 3, 3, 2,\n",
       "         1, 0, 0, 3, 2, 2, 3, 0, 0, 1, 0, 0, 0, 0, 3, 2, 0, 2, 0, 2, 3, 2,\n",
       "         2, 2, 0, 2, 2, 2, 0, 0, 0, 3, 2, 2, 2, 2, 2])},\n",
       " '2014': {'score': 0.940068493150685,\n",
       "  'predict': array([1, 0, 0, 0, 0, 3, 3, 2, 0, 2, 0, 3, 0, 0, 2, 3, 2, 1, 2, 2, 2, 2,\n",
       "         2, 2, 2, 0, 0, 1, 3, 0, 0, 2, 2, 2, 0, 0, 2, 0, 3, 2, 0, 1, 2, 3,\n",
       "         0, 1, 1, 0, 0, 2, 0, 0, 0, 0, 2, 2, 2, 2, 2, 2, 2, 0, 0, 0, 2, 0,\n",
       "         3, 0, 0, 2, 3, 3, 3, 0, 2, 0, 0, 0, 2, 0, 2, 0, 0, 0, 2, 3, 2, 2,\n",
       "         2, 1, 0, 2, 2, 2, 3, 0, 2, 2, 0, 2, 0, 3, 2, 2, 2, 0, 3, 3, 3, 2,\n",
       "         0, 0, 0, 3, 2, 2, 3, 2, 0, 1, 0, 2, 0, 0, 0, 2, 0, 2, 0, 2, 3, 1,\n",
       "         2, 2, 0, 2, 2, 2, 0, 0, 0, 3, 2, 2, 2, 2, 2])},\n",
       " '2015': {'score': 0.9821746881632881,\n",
       "  'predict': array([2, 2, 0, 3, 0, 0, 0, 0, 2, 3, 2, 0, 0, 0, 3, 0, 2, 2, 0, 0, 2, 0,\n",
       "         3, 2, 0, 2, 2, 0, 0, 0, 2, 3, 2, 2, 2, 2, 0, 2, 0, 0, 0, 1, 0, 2,\n",
       "         0, 2, 0, 1, 1, 0, 0, 3, 0, 2, 0, 2, 2, 0, 2, 2, 2, 0, 2, 2, 2, 2,\n",
       "         2, 0, 0, 3, 2, 2, 3, 2, 3, 0, 2, 0, 0, 2, 2, 2, 0, 1, 3, 2, 2, 0,\n",
       "         0, 1, 2, 2, 2, 2, 0, 2, 2, 0, 0, 2, 2, 0, 2, 0, 2, 0, 0, 0, 0, 2,\n",
       "         2, 0, 0, 0, 0, 2, 0, 0, 2, 0, 2, 2, 1, 0, 0, 2, 2, 2, 1, 2, 0, 0,\n",
       "         2, 0, 1, 0, 2, 2, 2, 0, 0])},\n",
       " '2016': {'score': 0.9459734964929711,\n",
       "  'predict': array([0, 0, 2, 0, 2, 0, 1, 0, 2, 1, 0, 1, 0, 2, 2, 2, 0, 1, 3, 0, 2, 0,\n",
       "         0, 2, 2, 1, 0, 2, 0, 3, 2, 0, 0, 0, 2, 2, 2, 0, 3, 2, 2, 2, 2, 3,\n",
       "         2, 0, 0, 2, 0, 0, 0, 0, 1, 0, 2, 3, 2, 1, 0, 0, 0, 3, 0, 0, 0, 2,\n",
       "         2, 0, 3, 0, 2, 0, 0, 1, 2, 2, 2, 0, 0, 2, 2, 2, 2, 2, 0, 0, 2, 0,\n",
       "         2, 2, 2, 0, 2, 3, 1, 1, 1, 2, 3, 1, 2, 1, 0, 0, 0, 2, 0, 2, 0, 0,\n",
       "         2, 2, 0, 3, 2, 2, 3, 0, 2, 2, 2, 0, 2, 2, 2, 3, 0, 2, 2, 0, 2, 0,\n",
       "         0, 1, 0, 2, 2, 2, 2, 0, 2, 2, 0, 0, 2, 2, 0, 0, 2, 0, 0, 0, 2, 2,\n",
       "         0, 2, 3, 0, 0, 2, 0, 2, 3, 0, 2, 2, 0, 3, 0, 0, 3, 2, 0, 0, 3, 2,\n",
       "         1, 2, 0, 2, 0, 0, 2, 2, 2, 2, 2, 3, 2, 3, 2, 3, 2, 0, 2, 3, 1, 0,\n",
       "         2, 0, 2, 2, 2, 0, 1, 2, 3, 0, 0, 2, 0, 2, 0, 0, 2, 2, 0, 1, 1, 2,\n",
       "         3, 3, 0, 3, 2, 0, 2, 2, 2, 0, 0, 0, 2, 2, 2, 2, 2, 2, 0, 2, 0, 0,\n",
       "         0, 2, 0, 2])},\n",
       " '2017': {'score': 0.937739463144792,\n",
       "  'predict': array([2, 0, 0, 2, 2, 1, 0, 1, 2, 0, 2, 2, 2, 2, 0, 0, 0, 2, 3, 2, 2, 3,\n",
       "         0, 2, 2, 2, 1, 0, 3, 3, 3, 2, 2, 0, 2, 0, 0, 0, 2, 0, 3, 2, 0, 0,\n",
       "         0, 2, 2, 0, 0, 3, 2, 0, 2, 2, 1, 0, 0, 3, 1, 2, 2, 3, 0, 2, 2, 0,\n",
       "         2, 2, 2, 3, 2, 2, 2, 2, 1, 0, 3, 2, 2, 0, 2, 2, 2, 0, 0, 0, 3, 0,\n",
       "         0, 0, 1, 3, 1, 0, 2, 0, 2, 0, 0, 3, 2, 1, 2, 2, 3, 0, 0, 0, 2, 0,\n",
       "         3, 3, 0, 0, 2, 2, 2, 0, 0, 2, 2, 3, 0, 2, 3, 2, 0, 0, 2, 1, 2, 3,\n",
       "         2, 2, 3, 3, 0, 0, 3, 2, 0, 3, 0, 0, 2, 0, 2, 0, 0, 0, 2, 0, 0, 0,\n",
       "         0, 2, 1, 2, 2, 0, 0, 0, 0, 2, 2, 2, 0, 0, 3, 2, 0, 0, 2, 2, 2, 0,\n",
       "         0, 0, 1, 2, 2, 2, 0, 2, 2, 2, 2, 0, 2, 0, 1, 2, 2, 1, 3, 0, 2, 2,\n",
       "         2, 2, 1, 0, 0, 0, 2, 2, 3, 2, 2, 0, 2, 3, 0, 2, 3, 0, 1, 2, 0, 0,\n",
       "         2, 0, 0, 2, 0, 2, 0, 2, 2, 2, 0, 2, 2, 0, 2, 3, 0, 2, 0, 0, 0, 3,\n",
       "         1, 2, 0, 0, 2, 0, 3, 0, 0, 0, 2, 2, 1, 2, 2, 2, 0, 0, 2])},\n",
       " '2018': {'score': 0.9362101311084253,\n",
       "  'predict': array([2, 0, 2, 0, 3, 2, 2, 0, 2, 2, 0, 0, 2, 3, 0, 3, 3, 3, 2, 2, 1, 1,\n",
       "         2, 2, 2, 0, 3, 3, 0, 2, 0, 2, 2, 2, 3, 0, 0, 0, 0, 0, 0, 0, 0, 2,\n",
       "         2, 2, 0, 3, 2, 0, 3, 2, 2, 0, 2, 3, 0, 0, 2, 2, 2, 2, 0, 0, 0, 0,\n",
       "         0, 0, 2, 3, 2, 3, 3, 0, 2, 0, 0, 3, 2, 0, 2, 1, 0, 0, 0, 1, 3, 1,\n",
       "         2, 3, 2, 2, 1, 3, 0, 0, 2, 1, 2, 2, 2, 0, 2, 0, 1, 0, 3, 0, 2, 1,\n",
       "         0, 0, 2, 2, 2, 0, 0, 2, 2, 2, 0, 0, 3, 2, 1, 0, 2, 0, 0, 0, 2, 0,\n",
       "         2, 3, 2, 0, 1, 0, 2, 0, 2, 0, 0, 0, 2, 1, 0, 0, 2, 0, 0, 2, 2, 2,\n",
       "         2, 2, 0, 0, 0, 3, 0, 0, 0, 1, 1, 2, 2, 2, 2, 2, 2, 2, 0, 0, 2, 2,\n",
       "         2, 3, 2, 2, 2, 0, 0, 0, 3, 2, 0, 0, 0, 0, 3, 1, 2, 3, 3, 2, 2, 0,\n",
       "         0, 2, 2, 2, 2, 2, 2, 2, 0, 3, 3, 0, 1, 3, 0, 3, 2, 2, 0, 1, 0, 2,\n",
       "         1, 0, 0, 0, 2, 2, 0, 2, 1, 0, 1, 3, 1, 3, 3, 3, 1, 0, 0, 0, 0, 0,\n",
       "         2, 0, 0, 1, 0, 0, 2, 0, 3, 0, 3, 0, 2, 0, 0, 0, 3, 1, 3, 0, 0, 0,\n",
       "         0, 0, 1])},\n",
       " '2019': {'score': 0.9354838718222888,\n",
       "  'predict': array([0, 0, 2, 2, 2, 0, 2, 0, 3, 3, 2, 3, 2, 2, 0, 3, 3, 2, 0, 2, 2, 2,\n",
       "         2, 2, 2, 0, 0, 0, 2, 0, 0, 0, 3, 0, 2, 2, 2, 0, 0, 2, 0, 0, 0, 2,\n",
       "         2, 0, 0, 2, 0, 3, 2, 0, 2, 0, 3, 3, 2, 0, 0, 0, 2, 2, 2, 2, 0, 2,\n",
       "         0, 3, 0, 2])}}"
      ]
     },
     "execution_count": 105,
     "metadata": {
      "tags": []
     },
     "output_type": "execute_result"
    }
   ],
   "source": [
    "keras_results"
   ]
  },
  {
   "cell_type": "code",
   "execution_count": null,
   "metadata": {
    "colab": {},
    "colab_type": "code",
    "id": "PNU-iDw-3MLw",
    "outputId": "819817a6-7934-4aab-9052-88ebe6995d78"
   },
   "outputs": [
    {
     "data": {
      "text/plain": [
       "{2014: {'score': 0.964041095890411,\n",
       "  'predict': array([0, 2, 0, 0, 0, 1, 2, 3, 0, 0, 0, 2, 0, 0, 2, 2, 2, 0, 0, 2, 0, 1,\n",
       "         2, 2, 0, 2, 2, 0, 0, 0, 0, 2, 0, 3, 0, 0, 2, 0, 3, 2, 2, 2, 0, 0,\n",
       "         2, 3, 0, 0, 2, 0, 2, 0, 0, 0, 2, 2, 2, 2, 2, 0, 2, 2, 0, 0, 0, 3,\n",
       "         0, 2, 0, 2, 0, 0, 2, 2, 2, 0, 0, 1, 0, 0, 0, 2, 2, 2, 0, 2, 0, 0,\n",
       "         2, 2, 0, 0, 3, 2, 2, 2, 2, 0, 2, 3, 2, 0, 0, 2, 0, 0, 0, 0, 2, 0,\n",
       "         0, 0, 2, 2, 0, 0, 0, 0, 0, 0, 2, 0, 0, 0, 0, 2, 2, 2, 0, 0, 2, 3,\n",
       "         0, 2, 2, 2, 2, 0, 2, 0, 2, 2, 2, 2, 3, 0, 0])},\n",
       " '2014': {'score': 0.964041095890411,\n",
       "  'predict': array([0, 2, 0, 0, 0, 1, 2, 3, 0, 0, 0, 2, 0, 0, 2, 2, 2, 0, 0, 2, 0, 1,\n",
       "         2, 2, 0, 2, 2, 0, 0, 0, 0, 2, 0, 3, 0, 0, 2, 0, 3, 2, 2, 2, 0, 0,\n",
       "         2, 3, 0, 0, 2, 0, 2, 0, 0, 0, 2, 2, 2, 2, 2, 0, 2, 2, 0, 0, 0, 3,\n",
       "         0, 2, 0, 2, 0, 0, 2, 2, 2, 0, 0, 1, 0, 0, 0, 2, 2, 2, 0, 2, 0, 0,\n",
       "         2, 2, 0, 0, 3, 2, 2, 2, 2, 0, 2, 3, 2, 0, 0, 2, 0, 0, 0, 0, 2, 0,\n",
       "         0, 0, 2, 2, 0, 0, 0, 0, 0, 0, 2, 0, 0, 0, 0, 2, 2, 2, 0, 0, 2, 3,\n",
       "         0, 2, 2, 2, 2, 0, 2, 0, 2, 2, 2, 2, 3, 0, 0])},\n",
       " '2015': {'score': 0.9625668449197861,\n",
       "  'predict': array([2, 0, 0, 0, 2, 2, 0, 0, 0, 0, 0, 2, 1, 2, 2, 0, 2, 0, 0, 3, 2, 2,\n",
       "         0, 0, 2, 2, 0, 0, 0, 0, 3, 0, 0, 0, 2, 2, 0, 0, 0, 0, 2, 0, 2, 0,\n",
       "         2, 2, 0, 0, 0, 0, 2, 0, 2, 2, 0, 2, 0, 0, 2, 2, 0, 0, 0, 2, 0, 2,\n",
       "         0, 0, 0, 0, 2, 2, 1, 0, 0, 0, 2, 0, 0, 0, 0, 0, 0, 2, 0, 0, 2, 0,\n",
       "         0, 0, 2, 2, 0, 0, 0, 2, 2, 0, 3, 2, 2, 2, 2, 2, 0, 0, 2, 2, 2, 0,\n",
       "         0, 3, 0, 2, 2, 0, 0, 1, 0, 2, 2, 2, 0, 0, 2, 0, 0, 2, 2, 0, 2, 0,\n",
       "         1, 0, 0, 0, 0, 1, 0, 2, 0])},\n",
       " '2016': {'score': 0.9388379204892966,\n",
       "  'predict': array([3, 0, 2, 1, 0, 0, 2, 1, 2, 0, 0, 0, 2, 2, 2, 0, 2, 3, 2, 0, 0, 0,\n",
       "         3, 0, 1, 1, 0, 2, 0, 2, 2, 0, 0, 2, 0, 2, 0, 0, 0, 0, 0, 2, 1, 2,\n",
       "         0, 1, 0, 0, 0, 0, 0, 0, 2, 0, 0, 2, 2, 0, 2, 1, 1, 2, 2, 0, 2, 2,\n",
       "         2, 1, 0, 2, 0, 2, 2, 2, 2, 2, 2, 3, 0, 2, 2, 0, 3, 0, 2, 2, 2, 0,\n",
       "         2, 2, 0, 0, 0, 1, 0, 0, 2, 0, 2, 3, 2, 0, 0, 0, 0, 1, 2, 2, 0, 0,\n",
       "         0, 2, 2, 0, 2, 2, 3, 2, 0, 0, 2, 0, 2, 2, 0, 2, 1, 0, 2, 0, 2, 0,\n",
       "         0, 0, 2, 0, 0, 0, 0, 0, 1, 0, 2, 0, 2, 0, 2, 1, 0, 0, 2, 2, 0, 2,\n",
       "         2, 0, 2, 2, 0, 0, 0, 0, 2, 2, 2, 0, 0, 3, 0, 1, 0, 1, 2, 0, 2, 0,\n",
       "         2, 0, 0, 2, 2, 2, 2, 2, 0, 2, 2, 2, 2, 2, 2, 2, 2, 1, 2, 3, 1, 3,\n",
       "         0, 0, 0, 2, 2, 0, 0, 0, 2, 1, 2, 2, 0, 2, 0, 2, 0, 2, 1, 0, 0, 0,\n",
       "         3, 2, 2, 2, 2, 2, 2, 0, 2, 2, 0, 0, 0, 0, 0, 3, 0, 2, 2, 2, 0, 0,\n",
       "         2, 2, 0, 2])},\n",
       " '2017': {'score': 0.9511494252873564,\n",
       "  'predict': array([0, 0, 2, 0, 2, 0, 2, 2, 2, 0, 0, 2, 2, 0, 2, 2, 0, 0, 0, 0, 0, 0,\n",
       "         0, 2, 0, 0, 2, 0, 0, 2, 0, 2, 3, 0, 2, 2, 2, 0, 2, 0, 3, 0, 0, 0,\n",
       "         2, 2, 3, 2, 0, 0, 0, 2, 3, 2, 2, 1, 0, 2, 3, 0, 2, 2, 0, 0, 2, 2,\n",
       "         2, 0, 0, 0, 2, 0, 1, 0, 0, 0, 3, 0, 0, 2, 0, 0, 2, 0, 3, 2, 0, 2,\n",
       "         0, 0, 2, 2, 0, 2, 2, 0, 2, 2, 0, 2, 2, 0, 0, 3, 0, 0, 0, 2, 0, 2,\n",
       "         1, 0, 2, 0, 0, 0, 2, 3, 3, 2, 0, 2, 2, 0, 2, 0, 0, 0, 2, 0, 0, 2,\n",
       "         0, 3, 2, 1, 0, 0, 2, 0, 0, 0, 0, 2, 0, 2, 0, 2, 0, 2, 0, 2, 2, 2,\n",
       "         0, 1, 2, 2, 2, 2, 0, 2, 0, 0, 2, 0, 2, 2, 3, 0, 0, 0, 2, 0, 0, 2,\n",
       "         2, 0, 2, 2, 1, 0, 2, 2, 2, 0, 2, 2, 0, 1, 1, 2, 2, 2, 0, 2, 3, 0,\n",
       "         3, 0, 0, 2, 2, 0, 2, 0, 2, 2, 2, 2, 1, 0, 2, 2, 2, 0, 0, 0, 0, 0,\n",
       "         0, 2, 0, 0, 2, 2, 2, 0, 2, 2, 2, 2, 2, 2, 2, 2, 0, 2, 0, 2, 0, 2,\n",
       "         0, 0, 0, 2, 2, 2, 2, 0, 0, 2, 2, 0, 0, 2, 0, 2, 0, 2, 3])},\n",
       " '2018': {'score': 0.949343339587242,\n",
       "  'predict': array([0, 2, 3, 0, 0, 0, 2, 2, 2, 0, 2, 0, 2, 2, 0, 0, 0, 0, 2, 2, 0, 3,\n",
       "         2, 3, 2, 2, 0, 2, 2, 0, 0, 1, 0, 0, 2, 0, 0, 2, 2, 0, 2, 2, 0, 2,\n",
       "         0, 2, 2, 0, 0, 2, 0, 1, 0, 2, 0, 2, 3, 2, 2, 0, 0, 0, 2, 3, 0, 2,\n",
       "         2, 2, 2, 0, 0, 3, 0, 0, 0, 2, 0, 3, 2, 0, 0, 2, 2, 0, 2, 1, 0, 2,\n",
       "         2, 0, 2, 0, 0, 2, 2, 2, 0, 3, 2, 3, 0, 0, 0, 0, 1, 0, 0, 2, 2, 2,\n",
       "         2, 2, 3, 2, 0, 0, 0, 0, 3, 2, 0, 0, 1, 0, 0, 2, 0, 2, 2, 0, 2, 2,\n",
       "         0, 0, 0, 2, 0, 0, 0, 2, 2, 2, 0, 0, 2, 0, 2, 0, 3, 0, 2, 3, 0, 2,\n",
       "         0, 2, 2, 0, 0, 2, 0, 0, 0, 3, 2, 2, 2, 0, 0, 0, 1, 3, 2, 0, 0, 2,\n",
       "         2, 2, 2, 3, 2, 0, 0, 0, 2, 2, 0, 0, 2, 2, 0, 2, 2, 2, 2, 3, 2, 2,\n",
       "         2, 2, 0, 2, 0, 0, 0, 0, 2, 2, 0, 2, 3, 3, 0, 1, 1, 0, 0, 0, 3, 3,\n",
       "         0, 3, 0, 2, 2, 2, 0, 0, 0, 0, 2, 2, 0, 0, 2, 0, 0, 3, 3, 0, 0, 2,\n",
       "         2, 0, 0, 2, 0, 2, 2, 2, 2, 0, 0, 1, 2, 2, 0, 0, 0, 2, 0, 0, 0, 3,\n",
       "         3, 2, 0])},\n",
       " '2019': {'score': 0.931899641577061,\n",
       "  'predict': array([2, 2, 0, 0, 2, 3, 3, 2, 1, 0, 3, 0, 2, 0, 0, 2, 2, 0, 0, 2, 2, 2,\n",
       "         2, 3, 3, 2, 0, 2, 2, 0, 2, 0, 2, 0, 2, 2, 2, 0, 2, 2, 2, 2, 0, 2,\n",
       "         2, 2, 2, 2, 2, 1, 3, 2, 2, 2, 3, 2, 0, 0, 0, 2, 2, 2, 2, 2, 2, 2,\n",
       "         2, 2, 2, 1])}}"
      ]
     },
     "execution_count": 106,
     "metadata": {
      "tags": []
     },
     "output_type": "execute_result"
    }
   ],
   "source": [
    "rfc_results"
   ]
  },
  {
   "cell_type": "code",
   "execution_count": null,
   "metadata": {
    "colab": {},
    "colab_type": "code",
    "id": "mp6ATMrk3MLy",
    "outputId": "f66f5b94-32cb-4d11-df9b-f8a57cbb8239"
   },
   "outputs": [
    {
     "data": {
      "text/plain": [
       "{2014: {'score': 0.535958904109589,\n",
       "  'predict': array([0, 2, 2, 2, 2, 0, 0, 2, 0, 0, 0, 2, 2, 0, 0, 0, 0, 0, 0, 0, 2, 2,\n",
       "         0, 0, 0, 0, 2, 0, 0, 0, 0, 2, 2, 0, 2, 2, 2, 0, 0, 2, 2, 0, 0, 2,\n",
       "         0, 2, 0, 0, 0, 2, 2, 0, 0, 2, 0, 0, 0, 0, 2, 2, 2, 0, 0, 0, 0, 2,\n",
       "         0, 0, 0, 0, 0, 0, 2, 2, 2, 0, 0, 0, 2, 2, 0, 0, 0, 0, 0, 2, 0, 0,\n",
       "         2, 2, 2, 0, 0, 0, 0, 2, 0, 0, 0, 2, 2, 2, 0, 2, 0, 0, 2, 0, 2, 0,\n",
       "         2, 0, 0, 0, 0, 2, 0, 0, 0, 0, 2, 2, 0, 0, 0, 2, 2, 0, 0, 0, 0, 0,\n",
       "         0, 2, 2, 2, 0, 0, 2, 0, 0, 0, 0, 0, 0, 0, 0])},\n",
       " '2014': {'score': 0.535958904109589,\n",
       "  'predict': array([0, 2, 2, 2, 2, 0, 0, 2, 0, 0, 0, 2, 2, 0, 0, 0, 0, 0, 0, 0, 2, 2,\n",
       "         0, 0, 0, 0, 2, 0, 0, 0, 0, 2, 2, 0, 2, 2, 2, 0, 0, 2, 2, 0, 0, 2,\n",
       "         0, 2, 0, 0, 0, 2, 2, 0, 0, 2, 0, 0, 0, 0, 2, 2, 2, 0, 0, 0, 0, 2,\n",
       "         0, 0, 0, 0, 0, 0, 2, 2, 2, 0, 0, 0, 2, 2, 0, 0, 0, 0, 0, 2, 0, 0,\n",
       "         2, 2, 2, 0, 0, 0, 0, 2, 0, 0, 0, 2, 2, 2, 0, 2, 0, 0, 2, 0, 2, 0,\n",
       "         2, 0, 0, 0, 0, 2, 0, 0, 0, 0, 2, 2, 0, 0, 0, 2, 2, 0, 0, 0, 0, 0,\n",
       "         0, 2, 2, 2, 0, 0, 2, 0, 0, 0, 0, 0, 0, 0, 0])},\n",
       " '2015': {'score': 0.5294117647058824,\n",
       "  'predict': array([0, 0, 0, 0, 0, 2, 0, 0, 2, 0, 0, 0, 2, 0, 0, 0, 0, 0, 0, 0, 2, 0,\n",
       "         2, 2, 2, 0, 0, 0, 0, 0, 0, 0, 0, 0, 2, 0, 0, 2, 0, 0, 0, 2, 2, 0,\n",
       "         0, 0, 0, 0, 0, 2, 0, 0, 0, 2, 0, 0, 0, 0, 0, 0, 0, 0, 0, 0, 0, 2,\n",
       "         0, 0, 2, 0, 2, 0, 0, 2, 0, 2, 2, 0, 0, 0, 0, 0, 0, 2, 2, 0, 2, 0,\n",
       "         0, 0, 0, 0, 0, 2, 0, 0, 2, 0, 0, 2, 0, 0, 0, 2, 0, 0, 2, 0, 0, 2,\n",
       "         0, 0, 0, 2, 0, 0, 2, 0, 0, 0, 2, 2, 0, 0, 0, 0, 0, 0, 2, 2, 0, 2,\n",
       "         0, 0, 0, 0, 0, 2, 0, 0, 0])},\n",
       " '2016': {'score': 0.5066258919469928,\n",
       "  'predict': array([2, 0, 2, 0, 0, 0, 2, 2, 0, 0, 0, 0, 2, 0, 2, 2, 2, 2, 0, 2, 0, 0,\n",
       "         0, 0, 2, 2, 2, 0, 0, 0, 2, 2, 0, 2, 2, 2, 0, 2, 2, 0, 2, 2, 2, 2,\n",
       "         2, 2, 0, 0, 0, 0, 2, 2, 2, 0, 2, 2, 2, 2, 2, 0, 2, 2, 2, 0, 2, 0,\n",
       "         2, 2, 2, 2, 2, 2, 2, 2, 0, 2, 2, 0, 0, 2, 0, 2, 2, 2, 2, 2, 2, 0,\n",
       "         2, 2, 0, 2, 2, 0, 2, 2, 2, 2, 0, 0, 2, 2, 2, 2, 0, 0, 2, 2, 2, 2,\n",
       "         2, 2, 2, 0, 2, 2, 2, 2, 0, 2, 0, 0, 2, 2, 2, 2, 0, 2, 2, 0, 2, 0,\n",
       "         0, 2, 2, 0, 0, 2, 2, 2, 2, 2, 2, 0, 2, 0, 0, 2, 2, 2, 2, 2, 0, 2,\n",
       "         0, 0, 2, 2, 0, 2, 2, 2, 2, 0, 2, 2, 0, 2, 2, 0, 2, 0, 2, 0, 2, 2,\n",
       "         0, 0, 0, 2, 2, 2, 2, 2, 0, 2, 2, 2, 0, 2, 2, 2, 2, 2, 0, 2, 0, 2,\n",
       "         2, 2, 2, 2, 2, 2, 2, 2, 2, 2, 1, 2, 0, 2, 2, 2, 2, 2, 2, 2, 0, 0,\n",
       "         2, 2, 2, 0, 0, 2, 2, 0, 2, 2, 2, 2, 0, 2, 0, 2, 2, 2, 2, 2, 2, 0,\n",
       "         2, 2, 2, 2])},\n",
       " '2017': {'score': 0.5363984674329502,\n",
       "  'predict': array([0, 0, 0, 2, 2, 0, 2, 2, 2, 2, 0, 0, 0, 0, 0, 2, 0, 2, 0, 0, 0, 0,\n",
       "         0, 0, 0, 0, 2, 2, 2, 0, 0, 2, 0, 2, 0, 0, 2, 0, 0, 2, 2, 0, 2, 0,\n",
       "         2, 0, 0, 2, 0, 0, 0, 2, 2, 2, 2, 2, 0, 2, 2, 0, 0, 2, 0, 0, 2, 2,\n",
       "         2, 0, 2, 0, 2, 0, 0, 0, 2, 0, 0, 2, 0, 0, 0, 0, 0, 2, 0, 0, 2, 0,\n",
       "         2, 0, 2, 0, 0, 0, 2, 0, 0, 2, 0, 0, 0, 0, 2, 2, 0, 2, 2, 2, 0, 0,\n",
       "         2, 0, 2, 0, 2, 2, 2, 0, 2, 2, 2, 2, 2, 2, 2, 2, 2, 0, 2, 0, 2, 2,\n",
       "         0, 2, 2, 2, 0, 0, 2, 0, 0, 0, 2, 2, 0, 2, 0, 0, 2, 2, 0, 0, 2, 2,\n",
       "         0, 0, 2, 2, 2, 2, 0, 0, 0, 0, 2, 0, 2, 2, 2, 0, 0, 0, 2, 0, 0, 0,\n",
       "         2, 0, 2, 2, 2, 2, 2, 2, 2, 2, 0, 2, 0, 2, 0, 0, 2, 2, 2, 2, 2, 0,\n",
       "         0, 0, 0, 0, 0, 2, 2, 0, 0, 2, 0, 2, 0, 0, 0, 0, 0, 0, 2, 0, 0, 0,\n",
       "         0, 2, 0, 0, 2, 2, 0, 0, 2, 2, 2, 0, 0, 0, 0, 2, 0, 2, 2, 0, 2, 2,\n",
       "         2, 2, 0, 2, 2, 2, 0, 2, 0, 2, 0, 2, 0, 2, 0, 2, 0, 2, 0])},\n",
       " '2018': {'score': 0.5112570356472795,\n",
       "  'predict': array([0, 2, 0, 2, 0, 0, 0, 0, 0, 0, 0, 0, 2, 0, 2, 0, 2, 0, 2, 2, 0, 2,\n",
       "         2, 0, 2, 0, 0, 0, 0, 0, 0, 2, 0, 0, 0, 0, 2, 2, 0, 0, 2, 0, 0, 2,\n",
       "         0, 2, 0, 2, 2, 0, 0, 2, 0, 0, 0, 2, 2, 0, 0, 0, 0, 2, 2, 2, 0, 2,\n",
       "         2, 2, 0, 0, 2, 0, 2, 0, 2, 2, 0, 0, 0, 2, 0, 0, 2, 0, 0, 2, 2, 2,\n",
       "         2, 0, 2, 2, 2, 2, 0, 2, 0, 0, 0, 0, 2, 0, 2, 0, 2, 2, 2, 0, 2, 2,\n",
       "         2, 0, 0, 2, 0, 2, 0, 0, 0, 2, 2, 0, 2, 2, 0, 2, 0, 2, 2, 2, 2, 0,\n",
       "         2, 0, 2, 2, 0, 2, 2, 2, 2, 2, 2, 0, 0, 2, 2, 0, 0, 0, 0, 0, 0, 2,\n",
       "         2, 0, 2, 0, 0, 2, 0, 0, 0, 2, 0, 2, 0, 2, 0, 0, 2, 0, 0, 2, 2, 2,\n",
       "         0, 2, 2, 0, 2, 0, 0, 0, 2, 2, 0, 0, 2, 0, 0, 0, 2, 2, 0, 2, 0, 2,\n",
       "         2, 0, 0, 2, 2, 0, 0, 2, 0, 0, 2, 2, 2, 0, 0, 0, 2, 0, 2, 0, 0, 2,\n",
       "         0, 0, 0, 2, 2, 0, 0, 2, 0, 0, 2, 2, 2, 0, 0, 2, 2, 0, 0, 0, 0, 2,\n",
       "         2, 0, 0, 2, 0, 0, 0, 0, 2, 2, 2, 0, 0, 0, 0, 2, 2, 0, 0, 2, 2, 0,\n",
       "         2, 0, 2])},\n",
       " '2019': {'score': 0.5125448028673835,\n",
       "  'predict': array([2, 2, 2, 2, 2, 2, 2, 2, 2, 2, 2, 2, 2, 2, 2, 2, 2, 2, 0, 2, 2, 2,\n",
       "         2, 2, 2, 2, 2, 2, 0, 2, 0, 2, 0, 2, 2, 2, 2, 2, 2, 2, 2, 0, 2, 2,\n",
       "         2, 2, 2, 2, 2, 2, 2, 2, 2, 2, 2, 2, 2, 2, 2, 2, 2, 2, 2, 2, 2, 2,\n",
       "         2, 2, 2, 2])}}"
      ]
     },
     "execution_count": 107,
     "metadata": {
      "tags": []
     },
     "output_type": "execute_result"
    }
   ],
   "source": [
    "svc_results"
   ]
  },
  {
   "cell_type": "code",
   "execution_count": null,
   "metadata": {
    "colab": {},
    "colab_type": "code",
    "id": "zGMg-U_43ML0"
   },
   "outputs": [],
   "source": [
    "mul_lr_scores = []\n",
    "dt_scores = []\n",
    "rfc_scores = []\n",
    "gbm_scores = []\n",
    "svc_scores = []\n",
    "keras_scores = []\n",
    "\n",
    "for year in mul_lr_results:\n",
    "    mul_lr_scores.append(mul_lr_results[year]['score'])\n",
    "    dt_scores.append(dt_results[year]['score'])\n",
    "    gbm_scores.append(gbm_results[year]['score'])\n",
    "    rfc_scores.append(rfc_results[year]['score'])\n",
    "    svc_scores.append(svc_results[year]['score'])\n",
    "    keras_scores.append(keras_results[year]['score'])"
   ]
  },
  {
   "cell_type": "code",
   "execution_count": null,
   "metadata": {
    "colab": {},
    "colab_type": "code",
    "id": "H50n_zNy3ML2",
    "outputId": "59e879f1-ed2f-4e97-a559-c804d62e7e96"
   },
   "outputs": [
    {
     "data": {
      "text/plain": [
       "<matplotlib.legend.Legend at 0x7f74838a4128>"
      ]
     },
     "execution_count": 137,
     "metadata": {
      "tags": []
     },
     "output_type": "execute_result"
    },
    {
     "data": {
      "image/png": "[encoded data removed]",
      "text/plain": [
       "<Figure size 1080x720 with 1 Axes>"
      ]
     },
     "metadata": {
      "needs_background": "light",
      "tags": []
     },
     "output_type": "display_data"
    }
   ],
   "source": [
    "sns.set_context('talk')\n",
    "fig, ax = plt.subplots(1, 1, figsize=(15,10))\n",
    "sns.lineplot(x=list(mul_lr_results.keys()), y=mul_lr_scores, markers=True, dashes=True, ax=ax)\n",
    "sns.lineplot(x=list(dt_results.keys()), y=dt_scores, markers=True, dashes=True, ax=ax)\n",
    "sns.lineplot(x=list(svc_results.keys()), y=svc_scores, markers=True, dashes=True, ax=ax)\n",
    "sns.lineplot(x=list(gbm_results.keys()), y=gbm_scores, markers=True, dashes=True, ax=ax)\n",
    "sns.lineplot(x=list(rfc_results.keys()), y=rfc_scores, markers=True, dashes=True, ax=ax)\n",
    "sns.lineplot(x=list(keras_results.keys()), y=keras_scores, markers=True, dashes=True, ax=ax)\n",
    "ax.set(xlabel=\"Years\", ylabel=\"Accuracy (Score)\")\n",
    "ax.legend(labels=[\"Multinomial Logistic Regression\", \"Decision Tree\", \"Support Vector Machine\", \n",
    "                   \"Gradient Boosting Machine\", \"Random Forest\", \"Keras (Tensorflow)\"])"
   ]
  },
  {
   "cell_type": "code",
   "execution_count": null,
   "metadata": {
    "colab": {},
    "colab_type": "code",
    "id": "RhA2J9p-3ML4",
    "outputId": "b35c144b-49a2-406a-eae9-84d439667eac"
   },
   "outputs": [
    {
     "name": "stdout",
     "output_type": "stream",
     "text": [
      "['b']\n"
     ]
    }
   ],
   "source": [
    "print(a)"
   ]
  },
  {
   "cell_type": "code",
   "execution_count": null,
   "metadata": {
    "colab": {},
    "colab_type": "code",
    "id": "TJYd-Ydl3ML7",
    "outputId": "61c97414-7c2b-476a-a353-7e1a94bf4e75"
   },
   "outputs": [
    {
     "data": {
      "text/plain": [
       "array([[ 3.76291876e-01,  3.63143609e-02,  6.70534529e-02,\n",
       "         1.11019688e+00,  1.35085683e-01, -1.25820729e-01],\n",
       "       [ 3.90528080e-03, -1.12263635e-01,  1.14486825e-01,\n",
       "        -3.30848091e-01, -6.97476004e-02, -7.34020390e-02],\n",
       "       [ 7.31041608e-04,  8.78747025e-02, -4.51235987e-01,\n",
       "         2.37475428e-01, -1.31407602e-01,  7.61587114e-03],\n",
       "       [-3.80928198e-01, -1.19254282e-02,  2.69695709e-01,\n",
       "        -1.01682421e+00,  6.60695197e-02,  1.91606897e-01]])"
      ]
     },
     "execution_count": 146,
     "metadata": {
      "tags": []
     },
     "output_type": "execute_result"
    }
   ],
   "source": [
    "mul_lr_df1.coef_"
   ]
  },
  {
   "cell_type": "code",
   "execution_count": null,
   "metadata": {
    "colab": {},
    "colab_type": "code",
    "id": "gz26UFcy3ML9",
    "outputId": "1eca11c6-9a35-473e-bc85-337c1e02b0bc"
   },
   "outputs": [
    {
     "data": {
      "text/plain": [
       "array([-0.73362934, -0.26730084,  1.1257544 , -0.12482422])"
      ]
     },
     "execution_count": 141,
     "metadata": {
      "tags": []
     },
     "output_type": "execute_result"
    }
   ],
   "source": [
    "mul_lr_df1.intercept_"
   ]
  },
  {
   "cell_type": "code",
   "execution_count": null,
   "metadata": {
    "colab": {},
    "colab_type": "code",
    "id": "TCQi0m1-3MMA",
    "outputId": "630d2371-d06a-49ec-e1ab-efbdfc785f83"
   },
   "outputs": [
    {
     "ename": "TypeError",
     "evalue": "'range' object is not callable",
     "output_type": "error",
     "traceback": [
      "\u001b[0;31m---------------------------------------------------------------------------\u001b[0m",
      "\u001b[0;31mTypeError\u001b[0m                                 Traceback (most recent call last)",
      "\u001b[0;32m<ipython-input-145-af649b0bbdc8>\u001b[0m in \u001b[0;36m<module>\u001b[0;34m\u001b[0m\n\u001b[1;32m      1\u001b[0m \u001b[0;32mfor\u001b[0m \u001b[0mi\u001b[0m \u001b[0;32min\u001b[0m \u001b[0mrange\u001b[0m\u001b[0;34m(\u001b[0m\u001b[0mmul_lr_df1\u001b[0m\u001b[0;34m.\u001b[0m\u001b[0mcoef_\u001b[0m\u001b[0;34m.\u001b[0m\u001b[0mshape\u001b[0m\u001b[0;34m[\u001b[0m\u001b[0;36m0\u001b[0m\u001b[0;34m]\u001b[0m\u001b[0;34m)\u001b[0m\u001b[0;34m:\u001b[0m\u001b[0;34m\u001b[0m\u001b[0;34m\u001b[0m\u001b[0m\n\u001b[0;32m----> 2\u001b[0;31m     \u001b[0msns\u001b[0m\u001b[0;34m.\u001b[0m\u001b[0mbarplot\u001b[0m\u001b[0;34m(\u001b[0m\u001b[0mx\u001b[0m\u001b[0;34m=\u001b[0m\u001b[0;34m[\u001b[0m\u001b[0mrange\u001b[0m\u001b[0;34m(\u001b[0m\u001b[0;36m0\u001b[0m\u001b[0;34m,\u001b[0m\u001b[0;36m6\u001b[0m\u001b[0;34m)\u001b[0m\u001b[0;34m]\u001b[0m\u001b[0;34m,\u001b[0m\u001b[0my\u001b[0m\u001b[0;34m=\u001b[0m\u001b[0mmul_lr_df1\u001b[0m\u001b[0;34m.\u001b[0m\u001b[0mcoef_\u001b[0m\u001b[0;34m[\u001b[0m\u001b[0;34m:\u001b[0m\u001b[0;34m]\u001b[0m\u001b[0;34m[\u001b[0m\u001b[0mi\u001b[0m\u001b[0;34m]\u001b[0m\u001b[0;34m)\u001b[0m\u001b[0;34m\u001b[0m\u001b[0;34m\u001b[0m\u001b[0m\n\u001b[0m",
      "\u001b[0;32m~/anaconda3/envs/keras2/lib/python3.6/site-packages/seaborn/categorical.py\u001b[0m in \u001b[0;36mbarplot\u001b[0;34m(x, y, hue, data, order, hue_order, estimator, ci, n_boot, units, orient, color, palette, saturation, errcolor, errwidth, capsize, dodge, ax, **kwargs)\u001b[0m\n\u001b[1;32m   3147\u001b[0m                           \u001b[0mestimator\u001b[0m\u001b[0;34m,\u001b[0m \u001b[0mci\u001b[0m\u001b[0;34m,\u001b[0m \u001b[0mn_boot\u001b[0m\u001b[0;34m,\u001b[0m \u001b[0munits\u001b[0m\u001b[0;34m,\u001b[0m\u001b[0;34m\u001b[0m\u001b[0;34m\u001b[0m\u001b[0m\n\u001b[1;32m   3148\u001b[0m                           \u001b[0morient\u001b[0m\u001b[0;34m,\u001b[0m \u001b[0mcolor\u001b[0m\u001b[0;34m,\u001b[0m \u001b[0mpalette\u001b[0m\u001b[0;34m,\u001b[0m \u001b[0msaturation\u001b[0m\u001b[0;34m,\u001b[0m\u001b[0;34m\u001b[0m\u001b[0;34m\u001b[0m\u001b[0m\n\u001b[0;32m-> 3149\u001b[0;31m                           errcolor, errwidth, capsize, dodge)\n\u001b[0m\u001b[1;32m   3150\u001b[0m \u001b[0;34m\u001b[0m\u001b[0m\n\u001b[1;32m   3151\u001b[0m     \u001b[0;32mif\u001b[0m \u001b[0max\u001b[0m \u001b[0;32mis\u001b[0m \u001b[0;32mNone\u001b[0m\u001b[0;34m:\u001b[0m\u001b[0;34m\u001b[0m\u001b[0;34m\u001b[0m\u001b[0m\n",
      "\u001b[0;32m~/anaconda3/envs/keras2/lib/python3.6/site-packages/seaborn/categorical.py\u001b[0m in \u001b[0;36m__init__\u001b[0;34m(self, x, y, hue, data, order, hue_order, estimator, ci, n_boot, units, orient, color, palette, saturation, errcolor, errwidth, capsize, dodge)\u001b[0m\n\u001b[1;32m   1605\u001b[0m         \u001b[0;34m\"\"\"Initialize the plotter.\"\"\"\u001b[0m\u001b[0;34m\u001b[0m\u001b[0;34m\u001b[0m\u001b[0m\n\u001b[1;32m   1606\u001b[0m         self.establish_variables(x, y, hue, data, orient,\n\u001b[0;32m-> 1607\u001b[0;31m                                  order, hue_order, units)\n\u001b[0m\u001b[1;32m   1608\u001b[0m         \u001b[0mself\u001b[0m\u001b[0;34m.\u001b[0m\u001b[0mestablish_colors\u001b[0m\u001b[0;34m(\u001b[0m\u001b[0mcolor\u001b[0m\u001b[0;34m,\u001b[0m \u001b[0mpalette\u001b[0m\u001b[0;34m,\u001b[0m \u001b[0msaturation\u001b[0m\u001b[0;34m)\u001b[0m\u001b[0;34m\u001b[0m\u001b[0;34m\u001b[0m\u001b[0m\n\u001b[1;32m   1609\u001b[0m         \u001b[0mself\u001b[0m\u001b[0;34m.\u001b[0m\u001b[0mestimate_statistic\u001b[0m\u001b[0;34m(\u001b[0m\u001b[0mestimator\u001b[0m\u001b[0;34m,\u001b[0m \u001b[0mci\u001b[0m\u001b[0;34m,\u001b[0m \u001b[0mn_boot\u001b[0m\u001b[0;34m)\u001b[0m\u001b[0;34m\u001b[0m\u001b[0;34m\u001b[0m\u001b[0m\n",
      "\u001b[0;32m~/anaconda3/envs/keras2/lib/python3.6/site-packages/seaborn/categorical.py\u001b[0m in \u001b[0;36mestablish_variables\u001b[0;34m(self, x, y, hue, data, orient, order, hue_order, units)\u001b[0m\n\u001b[1;32m    205\u001b[0m                 \u001b[0;31m# Group the numeric data\u001b[0m\u001b[0;34m\u001b[0m\u001b[0;34m\u001b[0m\u001b[0;34m\u001b[0m\u001b[0m\n\u001b[1;32m    206\u001b[0m                 plot_data, value_label = self._group_longform(vals, groups,\n\u001b[0;32m--> 207\u001b[0;31m                                                               group_names)\n\u001b[0m\u001b[1;32m    208\u001b[0m \u001b[0;34m\u001b[0m\u001b[0m\n\u001b[1;32m    209\u001b[0m                 \u001b[0;31m# Now handle the hue levels for nested ordering\u001b[0m\u001b[0;34m\u001b[0m\u001b[0;34m\u001b[0m\u001b[0;34m\u001b[0m\u001b[0m\n",
      "\u001b[0;32m~/anaconda3/envs/keras2/lib/python3.6/site-packages/seaborn/categorical.py\u001b[0m in \u001b[0;36m_group_longform\u001b[0;34m(self, vals, grouper, order)\u001b[0m\n\u001b[1;32m    247\u001b[0m \u001b[0;34m\u001b[0m\u001b[0m\n\u001b[1;32m    248\u001b[0m         \u001b[0;31m# Group the val data\u001b[0m\u001b[0;34m\u001b[0m\u001b[0;34m\u001b[0m\u001b[0;34m\u001b[0m\u001b[0m\n\u001b[0;32m--> 249\u001b[0;31m         \u001b[0mgrouped_vals\u001b[0m \u001b[0;34m=\u001b[0m \u001b[0mvals\u001b[0m\u001b[0;34m.\u001b[0m\u001b[0mgroupby\u001b[0m\u001b[0;34m(\u001b[0m\u001b[0mgrouper\u001b[0m\u001b[0;34m)\u001b[0m\u001b[0;34m\u001b[0m\u001b[0;34m\u001b[0m\u001b[0m\n\u001b[0m\u001b[1;32m    250\u001b[0m         \u001b[0mout_data\u001b[0m \u001b[0;34m=\u001b[0m \u001b[0;34m[\u001b[0m\u001b[0;34m]\u001b[0m\u001b[0;34m\u001b[0m\u001b[0;34m\u001b[0m\u001b[0m\n\u001b[1;32m    251\u001b[0m         \u001b[0;32mfor\u001b[0m \u001b[0mg\u001b[0m \u001b[0;32min\u001b[0m \u001b[0morder\u001b[0m\u001b[0;34m:\u001b[0m\u001b[0;34m\u001b[0m\u001b[0;34m\u001b[0m\u001b[0m\n",
      "\u001b[0;32m~/anaconda3/envs/keras2/lib/python3.6/site-packages/pandas/core/generic.py\u001b[0m in \u001b[0;36mgroupby\u001b[0;34m(self, by, axis, level, as_index, sort, group_keys, squeeze, observed, **kwargs)\u001b[0m\n\u001b[1;32m   7630\u001b[0m         return groupby(self, by=by, axis=axis, level=level, as_index=as_index,\n\u001b[1;32m   7631\u001b[0m                        \u001b[0msort\u001b[0m\u001b[0;34m=\u001b[0m\u001b[0msort\u001b[0m\u001b[0;34m,\u001b[0m \u001b[0mgroup_keys\u001b[0m\u001b[0;34m=\u001b[0m\u001b[0mgroup_keys\u001b[0m\u001b[0;34m,\u001b[0m \u001b[0msqueeze\u001b[0m\u001b[0;34m=\u001b[0m\u001b[0msqueeze\u001b[0m\u001b[0;34m,\u001b[0m\u001b[0;34m\u001b[0m\u001b[0;34m\u001b[0m\u001b[0m\n\u001b[0;32m-> 7632\u001b[0;31m                        observed=observed, **kwargs)\n\u001b[0m\u001b[1;32m   7633\u001b[0m \u001b[0;34m\u001b[0m\u001b[0m\n\u001b[1;32m   7634\u001b[0m     def asfreq(self, freq, method=None, how=None, normalize=False,\n",
      "\u001b[0;32m~/anaconda3/envs/keras2/lib/python3.6/site-packages/pandas/core/groupby/groupby.py\u001b[0m in \u001b[0;36mgroupby\u001b[0;34m(obj, by, **kwds)\u001b[0m\n\u001b[1;32m   2108\u001b[0m         \u001b[0;32mraise\u001b[0m \u001b[0mTypeError\u001b[0m\u001b[0;34m(\u001b[0m\u001b[0;34m'invalid type: {}'\u001b[0m\u001b[0;34m.\u001b[0m\u001b[0mformat\u001b[0m\u001b[0;34m(\u001b[0m\u001b[0mobj\u001b[0m\u001b[0;34m)\u001b[0m\u001b[0;34m)\u001b[0m\u001b[0;34m\u001b[0m\u001b[0;34m\u001b[0m\u001b[0m\n\u001b[1;32m   2109\u001b[0m \u001b[0;34m\u001b[0m\u001b[0m\n\u001b[0;32m-> 2110\u001b[0;31m     \u001b[0;32mreturn\u001b[0m \u001b[0mklass\u001b[0m\u001b[0;34m(\u001b[0m\u001b[0mobj\u001b[0m\u001b[0;34m,\u001b[0m \u001b[0mby\u001b[0m\u001b[0;34m,\u001b[0m \u001b[0;34m**\u001b[0m\u001b[0mkwds\u001b[0m\u001b[0;34m)\u001b[0m\u001b[0;34m\u001b[0m\u001b[0;34m\u001b[0m\u001b[0m\n\u001b[0m",
      "\u001b[0;32m~/anaconda3/envs/keras2/lib/python3.6/site-packages/pandas/core/groupby/groupby.py\u001b[0m in \u001b[0;36m__init__\u001b[0;34m(self, obj, keys, axis, level, grouper, exclusions, selection, as_index, sort, group_keys, squeeze, observed, **kwargs)\u001b[0m\n\u001b[1;32m    358\u001b[0m                                                     \u001b[0msort\u001b[0m\u001b[0;34m=\u001b[0m\u001b[0msort\u001b[0m\u001b[0;34m,\u001b[0m\u001b[0;34m\u001b[0m\u001b[0;34m\u001b[0m\u001b[0m\n\u001b[1;32m    359\u001b[0m                                                     \u001b[0mobserved\u001b[0m\u001b[0;34m=\u001b[0m\u001b[0mobserved\u001b[0m\u001b[0;34m,\u001b[0m\u001b[0;34m\u001b[0m\u001b[0;34m\u001b[0m\u001b[0m\n\u001b[0;32m--> 360\u001b[0;31m                                                     mutated=self.mutated)\n\u001b[0m\u001b[1;32m    361\u001b[0m \u001b[0;34m\u001b[0m\u001b[0m\n\u001b[1;32m    362\u001b[0m         \u001b[0mself\u001b[0m\u001b[0;34m.\u001b[0m\u001b[0mobj\u001b[0m \u001b[0;34m=\u001b[0m \u001b[0mobj\u001b[0m\u001b[0;34m\u001b[0m\u001b[0;34m\u001b[0m\u001b[0m\n",
      "\u001b[0;32m~/anaconda3/envs/keras2/lib/python3.6/site-packages/pandas/core/groupby/grouper.py\u001b[0m in \u001b[0;36m_get_grouper\u001b[0;34m(obj, key, axis, level, sort, observed, mutated, validate)\u001b[0m\n\u001b[1;32m    600\u001b[0m                          \u001b[0mobserved\u001b[0m\u001b[0;34m=\u001b[0m\u001b[0mobserved\u001b[0m\u001b[0;34m,\u001b[0m\u001b[0;34m\u001b[0m\u001b[0;34m\u001b[0m\u001b[0m\n\u001b[1;32m    601\u001b[0m                          in_axis=in_axis)\n\u001b[0;32m--> 602\u001b[0;31m                 if not isinstance(gpr, Grouping) else gpr)\n\u001b[0m\u001b[1;32m    603\u001b[0m \u001b[0;34m\u001b[0m\u001b[0m\n\u001b[1;32m    604\u001b[0m         \u001b[0mgroupings\u001b[0m\u001b[0;34m.\u001b[0m\u001b[0mappend\u001b[0m\u001b[0;34m(\u001b[0m\u001b[0mping\u001b[0m\u001b[0;34m)\u001b[0m\u001b[0;34m\u001b[0m\u001b[0;34m\u001b[0m\u001b[0m\n",
      "\u001b[0;32m~/anaconda3/envs/keras2/lib/python3.6/site-packages/pandas/core/groupby/grouper.py\u001b[0m in \u001b[0;36m__init__\u001b[0;34m(self, index, grouper, obj, name, level, sort, observed, in_axis)\u001b[0m\n\u001b[1;32m    321\u001b[0m                     raise ValueError(\n\u001b[1;32m    322\u001b[0m                         \"Grouper for '{}' not 1-dimensional\".format(t))\n\u001b[0;32m--> 323\u001b[0;31m                 \u001b[0mself\u001b[0m\u001b[0;34m.\u001b[0m\u001b[0mgrouper\u001b[0m \u001b[0;34m=\u001b[0m \u001b[0mself\u001b[0m\u001b[0;34m.\u001b[0m\u001b[0mindex\u001b[0m\u001b[0;34m.\u001b[0m\u001b[0mmap\u001b[0m\u001b[0;34m(\u001b[0m\u001b[0mself\u001b[0m\u001b[0;34m.\u001b[0m\u001b[0mgrouper\u001b[0m\u001b[0;34m)\u001b[0m\u001b[0;34m\u001b[0m\u001b[0;34m\u001b[0m\u001b[0m\n\u001b[0m\u001b[1;32m    324\u001b[0m                 if not (hasattr(self.grouper, \"__len__\") and\n\u001b[1;32m    325\u001b[0m                         len(self.grouper) == len(self.index)):\n",
      "\u001b[0;32m~/anaconda3/envs/keras2/lib/python3.6/site-packages/pandas/core/indexes/base.py\u001b[0m in \u001b[0;36mmap\u001b[0;34m(self, mapper, na_action)\u001b[0m\n\u001b[1;32m   4515\u001b[0m         \u001b[0;32mfrom\u001b[0m \u001b[0;34m.\u001b[0m\u001b[0mmulti\u001b[0m \u001b[0;32mimport\u001b[0m \u001b[0mMultiIndex\u001b[0m\u001b[0;34m\u001b[0m\u001b[0;34m\u001b[0m\u001b[0m\n\u001b[1;32m   4516\u001b[0m         new_values = super(Index, self)._map_values(\n\u001b[0;32m-> 4517\u001b[0;31m             mapper, na_action=na_action)\n\u001b[0m\u001b[1;32m   4518\u001b[0m \u001b[0;34m\u001b[0m\u001b[0m\n\u001b[1;32m   4519\u001b[0m         \u001b[0mattributes\u001b[0m \u001b[0;34m=\u001b[0m \u001b[0mself\u001b[0m\u001b[0;34m.\u001b[0m\u001b[0m_get_attributes_dict\u001b[0m\u001b[0;34m(\u001b[0m\u001b[0;34m)\u001b[0m\u001b[0;34m\u001b[0m\u001b[0;34m\u001b[0m\u001b[0m\n",
      "\u001b[0;32m~/anaconda3/envs/keras2/lib/python3.6/site-packages/pandas/core/base.py\u001b[0m in \u001b[0;36m_map_values\u001b[0;34m(self, mapper, na_action)\u001b[0m\n\u001b[1;32m   1216\u001b[0m \u001b[0;34m\u001b[0m\u001b[0m\n\u001b[1;32m   1217\u001b[0m         \u001b[0;31m# mapper is a function\u001b[0m\u001b[0;34m\u001b[0m\u001b[0;34m\u001b[0m\u001b[0;34m\u001b[0m\u001b[0m\n\u001b[0;32m-> 1218\u001b[0;31m         \u001b[0mnew_values\u001b[0m \u001b[0;34m=\u001b[0m \u001b[0mmap_f\u001b[0m\u001b[0;34m(\u001b[0m\u001b[0mvalues\u001b[0m\u001b[0;34m,\u001b[0m \u001b[0mmapper\u001b[0m\u001b[0;34m)\u001b[0m\u001b[0;34m\u001b[0m\u001b[0;34m\u001b[0m\u001b[0m\n\u001b[0m\u001b[1;32m   1219\u001b[0m \u001b[0;34m\u001b[0m\u001b[0m\n\u001b[1;32m   1220\u001b[0m         \u001b[0;32mreturn\u001b[0m \u001b[0mnew_values\u001b[0m\u001b[0;34m\u001b[0m\u001b[0;34m\u001b[0m\u001b[0m\n",
      "\u001b[0;32mpandas/_libs/lib.pyx\u001b[0m in \u001b[0;36mpandas._libs.lib.map_infer\u001b[0;34m()\u001b[0m\n",
      "\u001b[0;31mTypeError\u001b[0m: 'range' object is not callable"
     ]
    }
   ],
   "source": [
    "for i in range(mul_lr_df1.coef_.shape[0]):\n",
    "    sns.barplot(x=[range(0,6)],y=mul_lr_df1.coef_[:][i])\n"
   ]
  },
  {
   "cell_type": "code",
   "execution_count": null,
   "metadata": {},
   "outputs": [],
   "source": [
    "mul_lr_test_scores = []\n",
    "dt_test_scores = []\n",
    "rfc_test_scores = []\n",
    "gbm_test_scores = []\n",
    "svc_test_scores = []\n",
    "keras_test_scores = []\n",
    "\n",
    "for year in mul_lr_results:\n",
    "    mul_lr_test_scores.append(mul_lr_results[year]['score'])\n",
    "    dt_test_scores.append(dt_results[year]['score'])\n",
    "    gbm_test_scores.append(gbm_results[year]['score'])\n",
    "    rfc_test_scores.append(rfc_results[year]['score'])\n",
    "    svc_test_scores.append(svc_results[year]['score'])\n",
    "    keras_test_scores.append(keras_results[year]['score'])"
   ]
  },
  {
   "cell_type": "code",
   "execution_count": null,
   "metadata": {
    "colab": {},
    "colab_type": "code",
    "id": "eKLIWVAU3MME"
   },
   "outputs": [],
   "source": [
    "sns.set_context('talk')\n",
    "fig, ax = plt.subplots(1, 1, figsize=(15,10))\n",
    "sns.lineplot(x=list(mul_lr_results.keys()), y=mul_lr_scores, markers=True, dashes=True, ax=ax)\n",
    "sns.lineplot(x=list(dt_results.keys()), y=dt_scores, markers=True, dashes=True, ax=ax)\n",
    "sns.lineplot(x=list(svc_results.keys()), y=svc_scores, markers=True, dashes=True, ax=ax)\n",
    "sns.lineplot(x=list(gbm_results.keys()), y=gbm_scores, markers=True, dashes=True, ax=ax)\n",
    "sns.lineplot(x=list(rfc_results.keys()), y=rfc_scores, markers=True, dashes=True, ax=ax)\n",
    "sns.lineplot(x=list(keras_results.keys()), y=keras_scores, markers=True, dashes=True, ax=ax)\n",
    "ax.set(xlabel=\"Years\", ylabel=\"Accuracy (Score)\")\n",
    "ax.legend(labels=[\"Multinomial Logistic Regression\", \"Decision Tree\", \"Support Vector Machine\", \n",
    "                   \"Gradient Boosting Machine\", \"Random Forest\", \"Keras (Tensorflow)\"])"
   ]
  }
 ],
 "metadata": {
  "colab": {
   "name": "mode_choice_modeling.ipynb",
   "provenance": [],
   "version": "0.3.2"
  },
  "kernelspec": {
   "display_name": "Python (keras2)",
   "language": "python",
   "name": "keras2"
  },
  "language_info": {
   "codemirror_mode": {
    "name": "ipython",
    "version": 3
   },
   "file_extension": ".py",
   "mimetype": "text/x-python",
   "name": "python",
   "nbconvert_exporter": "python",
   "pygments_lexer": "ipython3",
   "version": "3.6.8"
  }
 },
 "nbformat": 4,
 "nbformat_minor": 2
}
