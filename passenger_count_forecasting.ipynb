{
 "cells": [
  {
   "cell_type": "code",
   "execution_count": 1,
   "metadata": {},
   "outputs": [
    {
     "name": "stderr",
     "output_type": "stream",
     "text": [
      "Using TensorFlow backend.\n"
     ]
    }
   ],
   "source": [
    "# univariate lstm example\n",
    "from numpy import array\n",
    "from keras.models import Sequential\n",
    "from keras.layers import LSTM\n",
    "from keras.layers import Dense\n",
    "import pandas as pd\n",
    "import numpy as np\n",
    "import seaborn as sns\n",
    "import matplotlib.pyplot as plt"
   ]
  },
  {
   "cell_type": "code",
   "execution_count": 2,
   "metadata": {},
   "outputs": [],
   "source": [
    "# split a univariate sequence into samples\n",
    "def split_sequence(sequence, n_steps):\n",
    "\tX, y = list(), list()\n",
    "\tfor i in range(len(sequence)):\n",
    "\t\t# find the end of this pattern\n",
    "\t\tend_ix = i + n_steps\n",
    "\t\t# check if we are beyond the sequence\n",
    "\t\tif end_ix > len(sequence)-1:\n",
    "\t\t\tbreak\n",
    "\t\t# gather input and output parts of the pattern\n",
    "\t\tseq_x, seq_y = sequence[i:end_ix], sequence[end_ix]\n",
    "\t\tX.append(seq_x)\n",
    "\t\ty.append(seq_y)\n",
    "\treturn array(X), array(y)"
   ]
  },
  {
   "cell_type": "code",
   "execution_count": 3,
   "metadata": {},
   "outputs": [],
   "source": [
    "pax_df = pd.read_excel(\"Yearly_passengers_lookup_table_crosstab.xlsx\")"
   ]
  },
  {
   "cell_type": "code",
   "execution_count": 4,
   "metadata": {},
   "outputs": [
    {
     "name": "stdout",
     "output_type": "stream",
     "text": [
      "<class 'pandas.core.frame.DataFrame'>\n",
      "RangeIndex: 29 entries, 0 to 28\n",
      "Data columns (total 6 columns):\n",
      "Unnamed: 0              29 non-null int64\n",
      "Enplaning Passengers    29 non-null int64\n",
      "Deplaning Passengers    29 non-null int64\n",
      "Domestic Passengers     29 non-null int64\n",
      "Int'l Passengers        29 non-null int64\n",
      "Total Passengers        29 non-null int64\n",
      "dtypes: int64(6)\n",
      "memory usage: 1.4 KB\n"
     ]
    }
   ],
   "source": [
    "pax_df.info()"
   ]
  },
  {
   "cell_type": "code",
   "execution_count": 5,
   "metadata": {},
   "outputs": [
    {
     "data": {
      "text/html": [
       "<div>\n",
       "<style scoped>\n",
       "    .dataframe tbody tr th:only-of-type {\n",
       "        vertical-align: middle;\n",
       "    }\n",
       "\n",
       "    .dataframe tbody tr th {\n",
       "        vertical-align: top;\n",
       "    }\n",
       "\n",
       "    .dataframe thead th {\n",
       "        text-align: right;\n",
       "    }\n",
       "</style>\n",
       "<table border=\"1\" class=\"dataframe\">\n",
       "  <thead>\n",
       "    <tr style=\"text-align: right;\">\n",
       "      <th></th>\n",
       "      <th>Unnamed: 0</th>\n",
       "      <th>Enplaning Passengers</th>\n",
       "      <th>Deplaning Passengers</th>\n",
       "      <th>Domestic Passengers</th>\n",
       "      <th>Int'l Passengers</th>\n",
       "      <th>Total Passengers</th>\n",
       "    </tr>\n",
       "  </thead>\n",
       "  <tbody>\n",
       "    <tr>\n",
       "      <th>0</th>\n",
       "      <td>1990</td>\n",
       "      <td>8225920</td>\n",
       "      <td>8014389</td>\n",
       "      <td>14399529</td>\n",
       "      <td>1840780</td>\n",
       "      <td>16240309</td>\n",
       "    </tr>\n",
       "    <tr>\n",
       "      <th>1</th>\n",
       "      <td>1991</td>\n",
       "      <td>8294093</td>\n",
       "      <td>8019196</td>\n",
       "      <td>14759181</td>\n",
       "      <td>1554108</td>\n",
       "      <td>16313289</td>\n",
       "    </tr>\n",
       "    <tr>\n",
       "      <th>2</th>\n",
       "      <td>1992</td>\n",
       "      <td>8978740</td>\n",
       "      <td>8983477</td>\n",
       "      <td>16462515</td>\n",
       "      <td>1499702</td>\n",
       "      <td>17962217</td>\n",
       "    </tr>\n",
       "    <tr>\n",
       "      <th>3</th>\n",
       "      <td>1993</td>\n",
       "      <td>9384565</td>\n",
       "      <td>9415959</td>\n",
       "      <td>17393527</td>\n",
       "      <td>1406997</td>\n",
       "      <td>18800524</td>\n",
       "    </tr>\n",
       "    <tr>\n",
       "      <th>4</th>\n",
       "      <td>1994</td>\n",
       "      <td>10471150</td>\n",
       "      <td>10501669</td>\n",
       "      <td>19482971</td>\n",
       "      <td>1489848</td>\n",
       "      <td>20972819</td>\n",
       "    </tr>\n",
       "  </tbody>\n",
       "</table>\n",
       "</div>"
      ],
      "text/plain": [
       "   Unnamed: 0  Enplaning Passengers  Deplaning Passengers  \\\n",
       "0        1990               8225920               8014389   \n",
       "1        1991               8294093               8019196   \n",
       "2        1992               8978740               8983477   \n",
       "3        1993               9384565               9415959   \n",
       "4        1994              10471150              10501669   \n",
       "\n",
       "   Domestic Passengers  Int'l Passengers  Total Passengers  \n",
       "0             14399529           1840780          16240309  \n",
       "1             14759181           1554108          16313289  \n",
       "2             16462515           1499702          17962217  \n",
       "3             17393527           1406997          18800524  \n",
       "4             19482971           1489848          20972819  "
      ]
     },
     "execution_count": 5,
     "metadata": {},
     "output_type": "execute_result"
    }
   ],
   "source": [
    "pax_df.head()"
   ]
  },
  {
   "cell_type": "code",
   "execution_count": 6,
   "metadata": {},
   "outputs": [
    {
     "name": "stdout",
     "output_type": "stream",
     "text": [
      "[8225920, 8294093, 8978740, 9384565, 10471150, 11390521, 12132987, 12341391, 12867987, 13802136, 14173752, 13505980, 13362314, 13355667, 14364242, 14632137, 14990647, 15661235, 16084939, 15610198, 15773348, 16397488, 16597324, 17376316, 18716778, 21108756, 22796118, 23415582, 24894338]\n"
     ]
    }
   ],
   "source": [
    "# define input sequence\n",
    "raw_seq = pax_df['Enplaning Passengers'].tolist()\n",
    "print(raw_seq)"
   ]
  },
  {
   "cell_type": "code",
   "execution_count": 7,
   "metadata": {},
   "outputs": [
    {
     "data": {
      "text/plain": [
       "29"
      ]
     },
     "execution_count": 7,
     "metadata": {},
     "output_type": "execute_result"
    }
   ],
   "source": [
    "len(raw_seq)"
   ]
  },
  {
   "cell_type": "code",
   "execution_count": 8,
   "metadata": {},
   "outputs": [],
   "source": [
    "# choose a number of time steps\n",
    "n_steps = 3"
   ]
  },
  {
   "cell_type": "code",
   "execution_count": 9,
   "metadata": {},
   "outputs": [],
   "source": [
    "# split into samples\n",
    "X, y = split_sequence(raw_seq, n_steps)"
   ]
  },
  {
   "cell_type": "code",
   "execution_count": 10,
   "metadata": {},
   "outputs": [
    {
     "name": "stdout",
     "output_type": "stream",
     "text": [
      "[[ 8225920  8294093  8978740]\n",
      " [ 8294093  8978740  9384565]\n",
      " [ 8978740  9384565 10471150]\n",
      " [ 9384565 10471150 11390521]\n",
      " [10471150 11390521 12132987]\n",
      " [11390521 12132987 12341391]\n",
      " [12132987 12341391 12867987]\n",
      " [12341391 12867987 13802136]\n",
      " [12867987 13802136 14173752]\n",
      " [13802136 14173752 13505980]\n",
      " [14173752 13505980 13362314]\n",
      " [13505980 13362314 13355667]\n",
      " [13362314 13355667 14364242]\n",
      " [13355667 14364242 14632137]\n",
      " [14364242 14632137 14990647]\n",
      " [14632137 14990647 15661235]\n",
      " [14990647 15661235 16084939]\n",
      " [15661235 16084939 15610198]\n",
      " [16084939 15610198 15773348]\n",
      " [15610198 15773348 16397488]\n",
      " [15773348 16397488 16597324]\n",
      " [16397488 16597324 17376316]\n",
      " [16597324 17376316 18716778]\n",
      " [17376316 18716778 21108756]\n",
      " [18716778 21108756 22796118]\n",
      " [21108756 22796118 23415582]]\n",
      "[ 9384565 10471150 11390521 12132987 12341391 12867987 13802136 14173752\n",
      " 13505980 13362314 13355667 14364242 14632137 14990647 15661235 16084939\n",
      " 15610198 15773348 16397488 16597324 17376316 18716778 21108756 22796118\n",
      " 23415582 24894338]\n"
     ]
    }
   ],
   "source": [
    "print(X)\n",
    "print(y)"
   ]
  },
  {
   "cell_type": "code",
   "execution_count": 11,
   "metadata": {},
   "outputs": [],
   "source": [
    "# reshape from [samples, timesteps] into [samples, timesteps, features]\n",
    "n_features = 1\n",
    "X = X.reshape((X.shape[0], X.shape[1], n_features))"
   ]
  },
  {
   "cell_type": "code",
   "execution_count": 12,
   "metadata": {},
   "outputs": [
    {
     "name": "stdout",
     "output_type": "stream",
     "text": [
      "WARNING:tensorflow:From /home/chintan/anaconda3/envs/keras2/lib/python3.6/site-packages/tensorflow/python/framework/op_def_library.py:263: colocate_with (from tensorflow.python.framework.ops) is deprecated and will be removed in a future version.\n",
      "Instructions for updating:\n",
      "Colocations handled automatically by placer.\n"
     ]
    }
   ],
   "source": [
    "# define model\n",
    "model = Sequential()\n",
    "model.add(LSTM(50, activation='relu', input_shape=(n_steps, n_features)))\n",
    "model.add(Dense(1))\n",
    "model.compile(optimizer='adam', loss='mse')"
   ]
  },
  {
   "cell_type": "code",
   "execution_count": 13,
   "metadata": {},
   "outputs": [
    {
     "name": "stdout",
     "output_type": "stream",
     "text": [
      "WARNING:tensorflow:From /home/chintan/anaconda3/envs/keras2/lib/python3.6/site-packages/tensorflow/python/ops/math_ops.py:3066: to_int32 (from tensorflow.python.ops.math_ops) is deprecated and will be removed in a future version.\n",
      "Instructions for updating:\n",
      "Use tf.cast instead.\n"
     ]
    },
    {
     "data": {
      "text/plain": [
       "<keras.callbacks.History at 0x7fd4bdeda400>"
      ]
     },
     "execution_count": 13,
     "metadata": {},
     "output_type": "execute_result"
    }
   ],
   "source": [
    "# fit model\n",
    "model.fit(X, y, epochs=500, verbose=0)"
   ]
  },
  {
   "cell_type": "code",
   "execution_count": 14,
   "metadata": {},
   "outputs": [],
   "source": [
    "# demonstrate prediction\n",
    "x_input = array(raw_seq[-n_steps:])\n",
    "x_input = x_input.reshape((1, n_steps, n_features))"
   ]
  },
  {
   "cell_type": "code",
   "execution_count": 15,
   "metadata": {},
   "outputs": [
    {
     "data": {
      "text/plain": [
       "array([[[22796118],\n",
       "        [23415582],\n",
       "        [24894338]]])"
      ]
     },
     "execution_count": 15,
     "metadata": {},
     "output_type": "execute_result"
    }
   ],
   "source": [
    "x_input"
   ]
  },
  {
   "cell_type": "code",
   "execution_count": 16,
   "metadata": {},
   "outputs": [
    {
     "name": "stdout",
     "output_type": "stream",
     "text": [
      "[[25695712.]]\n"
     ]
    }
   ],
   "source": [
    "yhat = model.predict(x_input, verbose=0)\n",
    "print(yhat)"
   ]
  },
  {
   "cell_type": "code",
   "execution_count": 17,
   "metadata": {},
   "outputs": [
    {
     "data": {
      "text/plain": [
       "(1, 3, 1)"
      ]
     },
     "execution_count": 17,
     "metadata": {},
     "output_type": "execute_result"
    }
   ],
   "source": [
    "x_input.shape"
   ]
  },
  {
   "cell_type": "code",
   "execution_count": 18,
   "metadata": {},
   "outputs": [
    {
     "data": {
      "text/plain": [
       "array([[[23415582],\n",
       "        [24894338]]])"
      ]
     },
     "execution_count": 18,
     "metadata": {},
     "output_type": "execute_result"
    }
   ],
   "source": [
    "np.delete(x_input, 0, 1)"
   ]
  },
  {
   "cell_type": "code",
   "execution_count": 19,
   "metadata": {},
   "outputs": [
    {
     "data": {
      "text/plain": [
       "array([[[22796118.],\n",
       "        [23415582.],\n",
       "        [24894338.],\n",
       "        [25695712.]]])"
      ]
     },
     "execution_count": 19,
     "metadata": {},
     "output_type": "execute_result"
    }
   ],
   "source": [
    "np.append(x_input, [yhat], 1)"
   ]
  },
  {
   "cell_type": "code",
   "execution_count": 20,
   "metadata": {},
   "outputs": [],
   "source": [
    "# Forecast for these many years in future\n",
    "forecast_horizon = 20\n",
    "forecast_df = pd.DataFrame(index = range(2019, 2040), columns = ['enplaning'])"
   ]
  },
  {
   "cell_type": "code",
   "execution_count": 21,
   "metadata": {},
   "outputs": [],
   "source": [
    "forecast_df.loc[2019,'enplaning'] = yhat[0][0]"
   ]
  },
  {
   "cell_type": "code",
   "execution_count": 22,
   "metadata": {},
   "outputs": [
    {
     "data": {
      "text/html": [
       "<div>\n",
       "<style scoped>\n",
       "    .dataframe tbody tr th:only-of-type {\n",
       "        vertical-align: middle;\n",
       "    }\n",
       "\n",
       "    .dataframe tbody tr th {\n",
       "        vertical-align: top;\n",
       "    }\n",
       "\n",
       "    .dataframe thead th {\n",
       "        text-align: right;\n",
       "    }\n",
       "</style>\n",
       "<table border=\"1\" class=\"dataframe\">\n",
       "  <thead>\n",
       "    <tr style=\"text-align: right;\">\n",
       "      <th></th>\n",
       "      <th>enplaning</th>\n",
       "    </tr>\n",
       "  </thead>\n",
       "  <tbody>\n",
       "    <tr>\n",
       "      <th>2019</th>\n",
       "      <td>2.56957e+07</td>\n",
       "    </tr>\n",
       "    <tr>\n",
       "      <th>2020</th>\n",
       "      <td>NaN</td>\n",
       "    </tr>\n",
       "    <tr>\n",
       "      <th>2021</th>\n",
       "      <td>NaN</td>\n",
       "    </tr>\n",
       "    <tr>\n",
       "      <th>2022</th>\n",
       "      <td>NaN</td>\n",
       "    </tr>\n",
       "    <tr>\n",
       "      <th>2023</th>\n",
       "      <td>NaN</td>\n",
       "    </tr>\n",
       "    <tr>\n",
       "      <th>2024</th>\n",
       "      <td>NaN</td>\n",
       "    </tr>\n",
       "    <tr>\n",
       "      <th>2025</th>\n",
       "      <td>NaN</td>\n",
       "    </tr>\n",
       "    <tr>\n",
       "      <th>2026</th>\n",
       "      <td>NaN</td>\n",
       "    </tr>\n",
       "    <tr>\n",
       "      <th>2027</th>\n",
       "      <td>NaN</td>\n",
       "    </tr>\n",
       "    <tr>\n",
       "      <th>2028</th>\n",
       "      <td>NaN</td>\n",
       "    </tr>\n",
       "    <tr>\n",
       "      <th>2029</th>\n",
       "      <td>NaN</td>\n",
       "    </tr>\n",
       "    <tr>\n",
       "      <th>2030</th>\n",
       "      <td>NaN</td>\n",
       "    </tr>\n",
       "    <tr>\n",
       "      <th>2031</th>\n",
       "      <td>NaN</td>\n",
       "    </tr>\n",
       "    <tr>\n",
       "      <th>2032</th>\n",
       "      <td>NaN</td>\n",
       "    </tr>\n",
       "    <tr>\n",
       "      <th>2033</th>\n",
       "      <td>NaN</td>\n",
       "    </tr>\n",
       "    <tr>\n",
       "      <th>2034</th>\n",
       "      <td>NaN</td>\n",
       "    </tr>\n",
       "    <tr>\n",
       "      <th>2035</th>\n",
       "      <td>NaN</td>\n",
       "    </tr>\n",
       "    <tr>\n",
       "      <th>2036</th>\n",
       "      <td>NaN</td>\n",
       "    </tr>\n",
       "    <tr>\n",
       "      <th>2037</th>\n",
       "      <td>NaN</td>\n",
       "    </tr>\n",
       "    <tr>\n",
       "      <th>2038</th>\n",
       "      <td>NaN</td>\n",
       "    </tr>\n",
       "    <tr>\n",
       "      <th>2039</th>\n",
       "      <td>NaN</td>\n",
       "    </tr>\n",
       "  </tbody>\n",
       "</table>\n",
       "</div>"
      ],
      "text/plain": [
       "        enplaning\n",
       "2019  2.56957e+07\n",
       "2020          NaN\n",
       "2021          NaN\n",
       "2022          NaN\n",
       "2023          NaN\n",
       "2024          NaN\n",
       "2025          NaN\n",
       "2026          NaN\n",
       "2027          NaN\n",
       "2028          NaN\n",
       "2029          NaN\n",
       "2030          NaN\n",
       "2031          NaN\n",
       "2032          NaN\n",
       "2033          NaN\n",
       "2034          NaN\n",
       "2035          NaN\n",
       "2036          NaN\n",
       "2037          NaN\n",
       "2038          NaN\n",
       "2039          NaN"
      ]
     },
     "execution_count": 22,
     "metadata": {},
     "output_type": "execute_result"
    }
   ],
   "source": [
    "forecast_df"
   ]
  },
  {
   "cell_type": "code",
   "execution_count": 23,
   "metadata": {},
   "outputs": [
    {
     "name": "stdout",
     "output_type": "stream",
     "text": [
      "[[26753884.]]\n",
      "[[27954070.]]\n",
      "[[29060964.]]\n",
      "[[30278844.]]\n",
      "[[31551548.]]\n",
      "[[32852270.]]\n",
      "[[34222790.]]\n",
      "[[35648052.]]\n",
      "[[37128836.]]\n",
      "[[38674588.]]\n",
      "[[40283624.]]\n",
      "[[41959156.]]\n",
      "[[43705056.]]\n",
      "[[45523290.]]\n",
      "[[47417148.]]\n",
      "[[49389916.]]\n",
      "[[51444680.]]\n",
      "[[53584944.]]\n",
      "[[55814264.]]\n",
      "[[58136316.]]\n"
     ]
    }
   ],
   "source": [
    "# Use a recursive strategu for forecasting mutiple steps \n",
    "for i in range(forecast_horizon):\n",
    "    x_input = np.delete(x_input, 0, 1)\n",
    "    x_input = np.append(x_input, [yhat], 1)\n",
    "    yhat = model.predict(x_input, verbose=0)\n",
    "    print(yhat)\n",
    "    forecast_df.loc[2019+i+1, 'enplaning'] = yhat[0][0]"
   ]
  },
  {
   "cell_type": "code",
   "execution_count": 24,
   "metadata": {},
   "outputs": [
    {
     "data": {
      "text/html": [
       "<div>\n",
       "<style scoped>\n",
       "    .dataframe tbody tr th:only-of-type {\n",
       "        vertical-align: middle;\n",
       "    }\n",
       "\n",
       "    .dataframe tbody tr th {\n",
       "        vertical-align: top;\n",
       "    }\n",
       "\n",
       "    .dataframe thead th {\n",
       "        text-align: right;\n",
       "    }\n",
       "</style>\n",
       "<table border=\"1\" class=\"dataframe\">\n",
       "  <thead>\n",
       "    <tr style=\"text-align: right;\">\n",
       "      <th></th>\n",
       "      <th>enplaning</th>\n",
       "    </tr>\n",
       "  </thead>\n",
       "  <tbody>\n",
       "    <tr>\n",
       "      <th>2019</th>\n",
       "      <td>25695712</td>\n",
       "    </tr>\n",
       "    <tr>\n",
       "      <th>2020</th>\n",
       "      <td>26753884</td>\n",
       "    </tr>\n",
       "    <tr>\n",
       "      <th>2021</th>\n",
       "      <td>27954070</td>\n",
       "    </tr>\n",
       "    <tr>\n",
       "      <th>2022</th>\n",
       "      <td>29060964</td>\n",
       "    </tr>\n",
       "    <tr>\n",
       "      <th>2023</th>\n",
       "      <td>30278844</td>\n",
       "    </tr>\n",
       "    <tr>\n",
       "      <th>2024</th>\n",
       "      <td>31551548</td>\n",
       "    </tr>\n",
       "    <tr>\n",
       "      <th>2025</th>\n",
       "      <td>32852270</td>\n",
       "    </tr>\n",
       "    <tr>\n",
       "      <th>2026</th>\n",
       "      <td>34222792</td>\n",
       "    </tr>\n",
       "    <tr>\n",
       "      <th>2027</th>\n",
       "      <td>35648052</td>\n",
       "    </tr>\n",
       "    <tr>\n",
       "      <th>2028</th>\n",
       "      <td>37128836</td>\n",
       "    </tr>\n",
       "    <tr>\n",
       "      <th>2029</th>\n",
       "      <td>38674588</td>\n",
       "    </tr>\n",
       "    <tr>\n",
       "      <th>2030</th>\n",
       "      <td>40283624</td>\n",
       "    </tr>\n",
       "    <tr>\n",
       "      <th>2031</th>\n",
       "      <td>41959156</td>\n",
       "    </tr>\n",
       "    <tr>\n",
       "      <th>2032</th>\n",
       "      <td>43705056</td>\n",
       "    </tr>\n",
       "    <tr>\n",
       "      <th>2033</th>\n",
       "      <td>45523288</td>\n",
       "    </tr>\n",
       "    <tr>\n",
       "      <th>2034</th>\n",
       "      <td>47417148</td>\n",
       "    </tr>\n",
       "    <tr>\n",
       "      <th>2035</th>\n",
       "      <td>49389916</td>\n",
       "    </tr>\n",
       "    <tr>\n",
       "      <th>2036</th>\n",
       "      <td>51444680</td>\n",
       "    </tr>\n",
       "    <tr>\n",
       "      <th>2037</th>\n",
       "      <td>53584944</td>\n",
       "    </tr>\n",
       "    <tr>\n",
       "      <th>2038</th>\n",
       "      <td>55814264</td>\n",
       "    </tr>\n",
       "    <tr>\n",
       "      <th>2039</th>\n",
       "      <td>58136316</td>\n",
       "    </tr>\n",
       "  </tbody>\n",
       "</table>\n",
       "</div>"
      ],
      "text/plain": [
       "      enplaning\n",
       "2019   25695712\n",
       "2020   26753884\n",
       "2021   27954070\n",
       "2022   29060964\n",
       "2023   30278844\n",
       "2024   31551548\n",
       "2025   32852270\n",
       "2026   34222792\n",
       "2027   35648052\n",
       "2028   37128836\n",
       "2029   38674588\n",
       "2030   40283624\n",
       "2031   41959156\n",
       "2032   43705056\n",
       "2033   45523288\n",
       "2034   47417148\n",
       "2035   49389916\n",
       "2036   51444680\n",
       "2037   53584944\n",
       "2038   55814264\n",
       "2039   58136316"
      ]
     },
     "execution_count": 24,
     "metadata": {},
     "output_type": "execute_result"
    }
   ],
   "source": [
    "forecast_df"
   ]
  },
  {
   "cell_type": "code",
   "execution_count": 25,
   "metadata": {},
   "outputs": [],
   "source": [
    "lf_forecast = { \n",
    "    2019: 22407600, \n",
    "    2024: 25913700,\n",
    "    2029: 29460800, \n",
    "    2034: 32823600\n",
    "    }"
   ]
  },
  {
   "cell_type": "code",
   "execution_count": 37,
   "metadata": {},
   "outputs": [
    {
     "data": {
      "text/plain": [
       "<matplotlib.legend.Legend at 0x7fd4900485c0>"
      ]
     },
     "execution_count": 37,
     "metadata": {},
     "output_type": "execute_result"
    },
    {
     "data": {
      "image/png": "[encoded data removed]",
      "text/plain": [
       "<Figure size 1080x720 with 1 Axes>"
      ]
     },
     "metadata": {
      "needs_background": "light"
     },
     "output_type": "display_data"
    }
   ],
   "source": [
    "sns.set_context('talk')\n",
    "fig0, ax0 = plt.subplots(1, 1, figsize=(15,10))\n",
    "sns.lineplot(x = pax_df['Unnamed: 0'], y = pax_df['Enplaning Passengers'].tolist(), ax=ax0)\n",
    "sns.lineplot(x = forecast_df.index, y = forecast_df['enplaning'].tolist(), ax=ax0)\n",
    "sns.scatterplot(x = list(lf_forecast.keys()), y = list(lf_forecast.values()), ax=ax0, legend=\"full\", color=\"#9b59b6\")\n",
    "ax0.set(xlabel=\"Year\", ylabel=\"Total Enplaning Passenger Count\")\n",
    "ax0.legend(labels=[\"Actual data from 1990-2018\", \"LSTM Forecast\", \"Official Forecast\"])"
   ]
  },
  {
   "cell_type": "code",
   "execution_count": null,
   "metadata": {},
   "outputs": [],
   "source": []
  }
 ],
 "metadata": {
  "kernelspec": {
   "display_name": "Python (keras2)",
   "language": "python",
   "name": "keras2"
  },
  "language_info": {
   "codemirror_mode": {
    "name": "ipython",
    "version": 3
   },
   "file_extension": ".py",
   "mimetype": "text/x-python",
   "name": "python",
   "nbconvert_exporter": "python",
   "pygments_lexer": "ipython3",
   "version": "3.6.8"
  }
 },
 "nbformat": 4,
 "nbformat_minor": 2
}
